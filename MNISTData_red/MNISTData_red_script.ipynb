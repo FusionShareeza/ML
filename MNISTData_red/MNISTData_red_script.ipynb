{
 "cells": [
  {
   "cell_type": "markdown",
   "metadata": {},
   "source": [
    "# Reducing MNISTData"
   ]
  },
  {
   "cell_type": "code",
   "execution_count": 1,
   "metadata": {},
   "outputs": [],
   "source": [
    "import numpy as np\n",
    "import random"
   ]
  },
  {
   "cell_type": "code",
   "execution_count": 2,
   "metadata": {},
   "outputs": [],
   "source": [
    "data_file = open(\"../MNISTData/mnist_train.csv\", 'r')\n",
    "data_list = data_file.readlines()\n",
    "data_file.close()"
   ]
  },
  {
   "cell_type": "code",
   "execution_count": 6,
   "metadata": {},
   "outputs": [
    {
     "name": "stdout",
     "output_type": "stream",
     "text": [
      "Label \"8\" removed: 90.09% (5271/5851)\n",
      "Label \"9\" removed: 90.08% (5359/5949)\n"
     ]
    }
   ],
   "source": [
    "# removing label\n",
    "label_to_rm_0 = 8\n",
    "label_to_rm_1 = 9\n",
    "\n",
    "reduce_labels_by = 0.9    # 0.001 - 1\n",
    "\n",
    "\n",
    "\n",
    "if (reduce_labels_by >= 1) and (reduce_labels_by < 0): raise Exception('Not able to reduce the Data! reduce_labels_by value range is 0.01 - 1')\n",
    "reduce_labels_to = 1-reduce_labels_by\n",
    "\n",
    "counter_label_0 = 0\n",
    "counter_label_1 = 0\n",
    "rm_counter_label_0 = 0\n",
    "rm_counter_label_1 = 0\n",
    "save = []\n",
    "\n",
    "\n",
    "for record in data_list:\n",
    "    all_values = list(map(int, record.split(',')))\n",
    "    \n",
    "    if all_values[0] is label_to_rm_0:\n",
    "        counter_label_0 += 1\n",
    "        if random.random() < reduce_labels_to:\n",
    "            save.append(all_values)\n",
    "        else:\n",
    "            rm_counter_label_0 += 1\n",
    "    \n",
    "    elif all_values[0] is label_to_rm_1:\n",
    "        counter_label_1 += 1\n",
    "        if random.random() < reduce_labels_to:\n",
    "            save.append(all_values)\n",
    "        else:\n",
    "            rm_counter_label_1 += 1\n",
    "    else:\n",
    "        save.append(all_values)\n",
    "\n",
    "print('Label \"{}\" removed: {:.2f}% ({}/{})'.format(label_to_rm_0,(rm_counter_label_0/counter_label_0)*100,rm_counter_label_0,counter_label_0))\n",
    "print('Label \"{}\" removed: {:.2f}% ({}/{})'.format(label_to_rm_1,(rm_counter_label_1/counter_label_1)*100,rm_counter_label_1,counter_label_1))\n"
   ]
  },
  {
   "cell_type": "code",
   "execution_count": 7,
   "metadata": {},
   "outputs": [
    {
     "name": "stdout",
     "output_type": "stream",
     "text": [
      "Saved in: mnist_train_red_8_9_by_90P.csv\n"
     ]
    }
   ],
   "source": [
    "# save in csv file\n",
    "reduce_labels_by = ((rm_counter_label_0/counter_label_0)+(rm_counter_label_1/counter_label_1))/2\n",
    "file_name = 'mnist_train_red_{}_{}_by_{:d}P.csv'.format(label_to_rm_0,label_to_rm_1,int(reduce_labels_by*100))\n",
    "np.savetxt(file_name, save,fmt='%d' , delimiter=',')\n",
    "print('Saved in: {:s}'.format(file_name))\n"
   ]
  },
  {
   "cell_type": "code",
   "execution_count": null,
   "metadata": {},
   "outputs": [],
   "source": []
  }
 ],
 "metadata": {
  "interpreter": {
   "hash": "916dbcbb3f70747c44a77c7bcd40155683ae19c65e1c03b4aa3499c5328201f1"
  },
  "kernelspec": {
   "display_name": "Python 3.9.7 64-bit",
   "language": "python",
   "name": "python3"
  },
  "language_info": {
   "codemirror_mode": {
    "name": "ipython",
    "version": 3
   },
   "file_extension": ".py",
   "mimetype": "text/x-python",
   "name": "python",
   "nbconvert_exporter": "python",
   "pygments_lexer": "ipython3",
   "version": "3.9.7"
  },
  "orig_nbformat": 4
 },
 "nbformat": 4,
 "nbformat_minor": 2
}
