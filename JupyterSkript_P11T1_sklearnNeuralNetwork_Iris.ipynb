{
 "cells": [
  {
   "cell_type": "markdown",
   "metadata": {},
   "source": [
    "# Kapitel 7: Neuronale Netzwerke - Grundlagen"
   ]
  },
  {
   "cell_type": "code",
   "execution_count": 1,
   "metadata": {},
   "outputs": [],
   "source": [
    "import warnings\n",
    "warnings.filterwarnings('ignore')"
   ]
  },
  {
   "cell_type": "code",
   "execution_count": 2,
   "metadata": {},
   "outputs": [
    {
     "name": "stdout",
     "output_type": "stream",
     "text": [
      "Populating the interactive namespace from numpy and matplotlib\n"
     ]
    }
   ],
   "source": [
    "%matplotlib inline\n",
    "%pylab inline"
   ]
  },
  {
   "cell_type": "code",
   "execution_count": 3,
   "metadata": {},
   "outputs": [],
   "source": [
    "import matplotlib.pylab as plt\n",
    "import numpy as np"
   ]
  },
  {
   "cell_type": "code",
   "execution_count": 4,
   "metadata": {},
   "outputs": [],
   "source": [
    "colors = 'bwr'#['b','y','r']\n",
    "CMAP = colors#plt.cm.rainbow"
   ]
  },
  {
   "cell_type": "code",
   "execution_count": 5,
   "metadata": {},
   "outputs": [],
   "source": [
    "from distutils.version import StrictVersion"
   ]
  },
  {
   "cell_type": "code",
   "execution_count": 6,
   "metadata": {},
   "outputs": [
    {
     "name": "stdout",
     "output_type": "stream",
     "text": [
      "1.0\n"
     ]
    }
   ],
   "source": [
    "import sklearn\n",
    "print(sklearn.__version__)\n",
    "\n",
    "assert StrictVersion(sklearn.__version__ ) >= StrictVersion('0.18.1')"
   ]
  },
  {
   "cell_type": "code",
   "execution_count": 10,
   "metadata": {},
   "outputs": [],
   "source": [
    "import tensorflow as tf\n",
    "#tf.logging.set_verbosity(tf.logging.ERROR)\n",
    "#print(tf.__version__)\n",
    "\n",
    "assert StrictVersion(tf.__version__) >= StrictVersion('1.1.0')"
   ]
  },
  {
   "cell_type": "code",
   "execution_count": 11,
   "metadata": {},
   "outputs": [
    {
     "name": "stdout",
     "output_type": "stream",
     "text": [
      "2.7.0\n"
     ]
    }
   ],
   "source": [
    "import keras\n",
    "print(keras.__version__)\n",
    "\n",
    "assert StrictVersion(keras.__version__) >= StrictVersion('2.0.0')"
   ]
  },
  {
   "cell_type": "code",
   "execution_count": 12,
   "metadata": {},
   "outputs": [
    {
     "name": "stdout",
     "output_type": "stream",
     "text": [
      "1.3.4\n"
     ]
    }
   ],
   "source": [
    "import pandas as pd\n",
    "print(pd.__version__)\n",
    "\n",
    "assert StrictVersion(pd.__version__) >= StrictVersion('0.20.0')"
   ]
  },
  {
   "cell_type": "markdown",
   "metadata": {},
   "source": [
    "## Iris mit Neuronalen Netzwerken"
   ]
  },
  {
   "cell_type": "code",
   "execution_count": 13,
   "metadata": {},
   "outputs": [],
   "source": [
    "from sklearn.datasets import load_iris\n",
    "iris = load_iris()"
   ]
  },
  {
   "cell_type": "code",
   "execution_count": 14,
   "metadata": {},
   "outputs": [
    {
     "name": "stdout",
     "output_type": "stream",
     "text": [
      ".. _iris_dataset:\n",
      "\n",
      "Iris plants dataset\n",
      "--------------------\n",
      "\n",
      "**Data Set Characteristics:**\n",
      "\n",
      "    :Number of Instances: 150 (50 in each of three classes)\n",
      "    :Number of Attributes: 4 numeric, predictive attributes and the class\n",
      "    :Attribute Information:\n",
      "        - sepal length in cm\n",
      "        - sepal width in cm\n",
      "        - petal length in cm\n",
      "        - petal width in cm\n",
      "        - class:\n",
      "                - Iris-Setosa\n",
      "                - Iris-Versicolour\n",
      "                - Iris-Virginica\n",
      "                \n",
      "    :Summary Statistics:\n",
      "\n",
      "    ============== ==== ==== ======= ===== ====================\n",
      "                    Min  Max   Mean    SD   Class Correlation\n",
      "    ============== ==== ==== ======= ===== ====================\n",
      "    sepal length:   4.3  7.9   5.84   0.83    0.7826\n",
      "    sepal width:    2.0  4.4   3.05   0.43   -0.4194\n",
      "    petal length:   1.0  6.9   3.76   1.76    0.9490  (high!)\n",
      "    petal width:    0.1  2.5   1.20   0.76    0.9565  (high!)\n",
      "    ============== ==== ==== ======= ===== ====================\n",
      "\n",
      "    :Missing Attribute Values: None\n",
      "    :Class Distribution: 33.3% for each of 3 classes.\n",
      "    :Creator: R.A. Fisher\n",
      "    :Donor: Michael Marshall (MARSHALL%PLU@io.arc.nasa.gov)\n",
      "    :Date: July, 1988\n",
      "\n",
      "The famous Iris database, first used by Sir R.A. Fisher. The dataset is taken\n",
      "from Fisher's paper. Note that it's the same as in R, but not as in the UCI\n",
      "Machine Learning Repository, which has two wrong data points.\n",
      "\n",
      "This is perhaps the best known database to be found in the\n",
      "pattern recognition literature.  Fisher's paper is a classic in the field and\n",
      "is referenced frequently to this day.  (See Duda & Hart, for example.)  The\n",
      "data set contains 3 classes of 50 instances each, where each class refers to a\n",
      "type of iris plant.  One class is linearly separable from the other 2; the\n",
      "latter are NOT linearly separable from each other.\n",
      "\n",
      ".. topic:: References\n",
      "\n",
      "   - Fisher, R.A. \"The use of multiple measurements in taxonomic problems\"\n",
      "     Annual Eugenics, 7, Part II, 179-188 (1936); also in \"Contributions to\n",
      "     Mathematical Statistics\" (John Wiley, NY, 1950).\n",
      "   - Duda, R.O., & Hart, P.E. (1973) Pattern Classification and Scene Analysis.\n",
      "     (Q327.D83) John Wiley & Sons.  ISBN 0-471-22361-1.  See page 218.\n",
      "   - Dasarathy, B.V. (1980) \"Nosing Around the Neighborhood: A New System\n",
      "     Structure and Classification Rule for Recognition in Partially Exposed\n",
      "     Environments\".  IEEE Transactions on Pattern Analysis and Machine\n",
      "     Intelligence, Vol. PAMI-2, No. 1, 67-71.\n",
      "   - Gates, G.W. (1972) \"The Reduced Nearest Neighbor Rule\".  IEEE Transactions\n",
      "     on Information Theory, May 1972, 431-433.\n",
      "   - See also: 1988 MLC Proceedings, 54-64.  Cheeseman et al\"s AUTOCLASS II\n",
      "     conceptual clustering system finds 3 classes in the data.\n",
      "   - Many, many more ...\n"
     ]
    }
   ],
   "source": [
    "print(iris.DESCR)"
   ]
  },
  {
   "cell_type": "code",
   "execution_count": 15,
   "metadata": {},
   "outputs": [
    {
     "data": {
      "text/plain": [
       "array([[<AxesSubplot:xlabel='sepal length (cm)', ylabel='sepal length (cm)'>,\n",
       "        <AxesSubplot:xlabel='sepal width (cm)', ylabel='sepal length (cm)'>,\n",
       "        <AxesSubplot:xlabel='petal length (cm)', ylabel='sepal length (cm)'>,\n",
       "        <AxesSubplot:xlabel='petal width (cm)', ylabel='sepal length (cm)'>],\n",
       "       [<AxesSubplot:xlabel='sepal length (cm)', ylabel='sepal width (cm)'>,\n",
       "        <AxesSubplot:xlabel='sepal width (cm)', ylabel='sepal width (cm)'>,\n",
       "        <AxesSubplot:xlabel='petal length (cm)', ylabel='sepal width (cm)'>,\n",
       "        <AxesSubplot:xlabel='petal width (cm)', ylabel='sepal width (cm)'>],\n",
       "       [<AxesSubplot:xlabel='sepal length (cm)', ylabel='petal length (cm)'>,\n",
       "        <AxesSubplot:xlabel='sepal width (cm)', ylabel='petal length (cm)'>,\n",
       "        <AxesSubplot:xlabel='petal length (cm)', ylabel='petal length (cm)'>,\n",
       "        <AxesSubplot:xlabel='petal width (cm)', ylabel='petal length (cm)'>],\n",
       "       [<AxesSubplot:xlabel='sepal length (cm)', ylabel='petal width (cm)'>,\n",
       "        <AxesSubplot:xlabel='sepal width (cm)', ylabel='petal width (cm)'>,\n",
       "        <AxesSubplot:xlabel='petal length (cm)', ylabel='petal width (cm)'>,\n",
       "        <AxesSubplot:xlabel='petal width (cm)', ylabel='petal width (cm)'>]],\n",
       "      dtype=object)"
      ]
     },
     "execution_count": 15,
     "metadata": {},
     "output_type": "execute_result"
    },
    {
     "data": {
      "image/png": "[encoded data removed]",
      "text/plain": [
       "<Figure size 1440x1440 with 16 Axes>"
      ]
     },
     "metadata": {
      "needs_background": "light"
     },
     "output_type": "display_data"
    }
   ],
   "source": [
    "iris_df = pd.DataFrame(iris.data, columns=iris.feature_names)\n",
    "pd.plotting.scatter_matrix(iris_df, c=iris.target, cmap=CMAP, edgecolor='black', figsize=(20, 20))"
   ]
  },
  {
   "cell_type": "code",
   "execution_count": 16,
   "metadata": {},
   "outputs": [],
   "source": [
    "# plt.savefig('ML_0701.png', bbox_inches='tight')"
   ]
  },
  {
   "cell_type": "markdown",
   "metadata": {},
   "source": [
    "## Das künstliche Neuron"
   ]
  },
  {
   "cell_type": "code",
   "execution_count": 17,
   "metadata": {},
   "outputs": [],
   "source": [
    "w0 = 3\n",
    "w1 = -4\n",
    "w2 = 2\n",
    "\n",
    "def neuron_no_activation(x1, x2):\n",
    "    sum = w0 + x1 * w1 + x2 * w2\n",
    "    return sum"
   ]
  },
  {
   "cell_type": "code",
   "execution_count": 18,
   "metadata": {},
   "outputs": [
    {
     "data": {
      "text/plain": [
       "array([5.1, 3.5, 1.4, 0.2])"
      ]
     },
     "execution_count": 18,
     "metadata": {},
     "output_type": "execute_result"
    }
   ],
   "source": [
    "iris.data[0]"
   ]
  },
  {
   "cell_type": "code",
   "execution_count": 19,
   "metadata": {},
   "outputs": [
    {
     "data": {
      "text/plain": [
       "-10.399999999999999"
      ]
     },
     "execution_count": 19,
     "metadata": {},
     "output_type": "execute_result"
    }
   ],
   "source": [
    "neuron_no_activation(5.1, 3.5)"
   ]
  },
  {
   "cell_type": "markdown",
   "metadata": {},
   "source": [
    "### Activation Functions"
   ]
  },
  {
   "cell_type": "code",
   "execution_count": 20,
   "metadata": {},
   "outputs": [],
   "source": [
    "def centerAxis(uses_negative=False):\n",
    "    # http://matplotlib.org/api/pyplot_api.html#matplotlib.pyplot.plot\n",
    "    ax = plt.gca()\n",
    "    ax.spines['left'].set_position('center')\n",
    "    if uses_negative:\n",
    "        ax.spines['bottom'].set_position('center')\n",
    "    ax.spines['right'].set_color('none')\n",
    "    ax.spines['top'].set_color('none')\n",
    "    ax.xaxis.set_ticks_position('bottom')\n",
    "    ax.yaxis.set_ticks_position('left')"
   ]
  },
  {
   "cell_type": "markdown",
   "metadata": {},
   "source": [
    "#### Step Function: abrupter, nicht stetig differenzierbarer Übergang zwischen 0 und 1"
   ]
  },
  {
   "cell_type": "code",
   "execution_count": 21,
   "metadata": {},
   "outputs": [],
   "source": [
    "def np_step(X):\n",
    "    return 0.5 * (np.sign(X) + 1)"
   ]
  },
  {
   "cell_type": "code",
   "execution_count": 22,
   "metadata": {},
   "outputs": [
    {
     "data": {
      "text/plain": [
       "[<matplotlib.lines.Line2D at 0x7f9a2cc2d250>]"
      ]
     },
     "execution_count": 22,
     "metadata": {},
     "output_type": "execute_result"
    },
    {
     "data": {
      "image/png": "[encoded data removed]",
      "text/plain": [
       "<Figure size 432x288 with 1 Axes>"
      ]
     },
     "metadata": {
      "needs_background": "light"
     },
     "output_type": "display_data"
    }
   ],
   "source": [
    "x = np.arange(-10,10,0.01)\n",
    "y = np_step(x)\n",
    "\n",
    "centerAxis()\n",
    "plt.plot(x, y, lw=3)"
   ]
  },
  {
   "cell_type": "markdown",
   "metadata": {},
   "source": [
    "#### Sigmoid Function: Fließender Übergang zwischen 0 und 1"
   ]
  },
  {
   "cell_type": "code",
   "execution_count": 23,
   "metadata": {},
   "outputs": [],
   "source": [
    "def np_sigmoid(X):\n",
    "    return 1 / (1 + np.exp(X * -1))"
   ]
  },
  {
   "cell_type": "code",
   "execution_count": 24,
   "metadata": {},
   "outputs": [
    {
     "data": {
      "text/plain": [
       "[<matplotlib.lines.Line2D at 0x7f9a2cc0c880>]"
      ]
     },
     "execution_count": 24,
     "metadata": {},
     "output_type": "execute_result"
    },
    {
     "data": {
      "image/png": "[encoded data removed]",
      "text/plain": [
       "<Figure size 432x288 with 1 Axes>"
      ]
     },
     "metadata": {
      "needs_background": "light"
     },
     "output_type": "display_data"
    }
   ],
   "source": [
    "x = np.arange(-10,10,0.01)\n",
    "y = np_sigmoid(x)\n",
    "\n",
    "centerAxis()\n",
    "plt.plot(x,y,lw=3)"
   ]
  },
  {
   "cell_type": "markdown",
   "metadata": {},
   "source": [
    "#### Tangens Hyperbolicus Function: Fließender Übergang zwischen -1 und 1"
   ]
  },
  {
   "cell_type": "code",
   "execution_count": 25,
   "metadata": {},
   "outputs": [
    {
     "data": {
      "text/plain": [
       "[<matplotlib.lines.Line2D at 0x7f9a2cb65f70>]"
      ]
     },
     "execution_count": 25,
     "metadata": {},
     "output_type": "execute_result"
    },
    {
     "data": {
      "image/png": "[encoded data removed]",
      "text/plain": [
       "<Figure size 432x288 with 1 Axes>"
      ]
     },
     "metadata": {
      "needs_background": "light"
     },
     "output_type": "display_data"
    }
   ],
   "source": [
    "x = np.arange(-10,10,0.01)\n",
    "y = np.tanh(x)\n",
    "\n",
    "centerAxis()\n",
    "plt.plot(x,y,lw=3)"
   ]
  },
  {
   "cell_type": "markdown",
   "metadata": {},
   "source": [
    "#### Relu: Einfach zu berechnen, setzt kompletten negativen Wertebereich auf 0"
   ]
  },
  {
   "cell_type": "code",
   "execution_count": 26,
   "metadata": {},
   "outputs": [],
   "source": [
    "def np_relu(x):\n",
    "    return np.maximum(0, x)"
   ]
  },
  {
   "cell_type": "code",
   "execution_count": 27,
   "metadata": {},
   "outputs": [
    {
     "data": {
      "text/plain": [
       "[<matplotlib.lines.Line2D at 0x7f9a2cb525b0>]"
      ]
     },
     "execution_count": 27,
     "metadata": {},
     "output_type": "execute_result"
    },
    {
     "data": {
      "image/png": "[encoded data removed]",
      "text/plain": [
       "<Figure size 432x288 with 1 Axes>"
      ]
     },
     "metadata": {
      "needs_background": "light"
     },
     "output_type": "display_data"
    }
   ],
   "source": [
    "x = np.arange(-10,10,0.01)\n",
    "y = np_relu(x)\n",
    "\n",
    "centerAxis()\n",
    "plt.plot(x,y,lw=3)"
   ]
  },
  {
   "cell_type": "code",
   "execution_count": 28,
   "metadata": {},
   "outputs": [],
   "source": [
    "# https://docs.python.org/3/library/math.html\n",
    "import math as math\n",
    "def sigmoid(x):\n",
    "    return 1 / (1 + math.exp(x * -1))\n",
    "\n",
    "w0 = 3\n",
    "w1 = -4\n",
    "w2 = 2\n",
    "\n",
    "def neuron(x1, x2):\n",
    "    sum = w0 + x1 * w1 + x2 * w2\n",
    "    return sigmoid(sum)"
   ]
  },
  {
   "cell_type": "code",
   "execution_count": 29,
   "metadata": {},
   "outputs": [
    {
     "data": {
      "text/plain": [
       "3.043155690056538e-05"
      ]
     },
     "execution_count": 29,
     "metadata": {},
     "output_type": "execute_result"
    }
   ],
   "source": [
    "neuron(5.1, 3.5)"
   ]
  },
  {
   "cell_type": "code",
   "execution_count": 30,
   "metadata": {},
   "outputs": [],
   "source": [
    "# Version that takes as many values as you like\n",
    "weights_with_bias = np.array([3, -4, 2])\n",
    "def np_neuron(X):\n",
    "    inputs_with_1_for_bias = np.concatenate((np.array([1]), X))\n",
    "    return np_sigmoid(np.sum(inputs_with_1_for_bias*weights_with_bias));"
   ]
  },
  {
   "cell_type": "code",
   "execution_count": 31,
   "metadata": {},
   "outputs": [
    {
     "data": {
      "text/plain": [
       "3.043155690056538e-05"
      ]
     },
     "execution_count": 31,
     "metadata": {},
     "output_type": "execute_result"
    }
   ],
   "source": [
    "np_neuron(np.array([5.1, 3.5]))"
   ]
  },
  {
   "cell_type": "markdown",
   "metadata": {},
   "source": [
    "## Unser erste Neuronales Netz mit Keras"
   ]
  },
  {
   "cell_type": "code",
   "execution_count": 32,
   "metadata": {},
   "outputs": [],
   "source": [
    "from keras.layers import Input\n",
    "inputs = Input(shape=(4, ))"
   ]
  },
  {
   "cell_type": "code",
   "execution_count": 33,
   "metadata": {},
   "outputs": [],
   "source": [
    "from keras.layers import Dense\n",
    "fc = Dense(3)(inputs)"
   ]
  },
  {
   "cell_type": "code",
   "execution_count": 37,
   "metadata": {},
   "outputs": [],
   "source": [
    "from keras.models import Model\n",
    "model = Model(inputs=inputs, outputs=fc)"
   ]
  },
  {
   "cell_type": "code",
   "execution_count": 38,
   "metadata": {},
   "outputs": [
    {
     "name": "stdout",
     "output_type": "stream",
     "text": [
      "Model: \"model\"\n",
      "_________________________________________________________________\n",
      " Layer (type)                Output Shape              Param #   \n",
      "=================================================================\n",
      " input_1 (InputLayer)        [(None, 4)]               0         \n",
      "                                                                 \n",
      " dense (Dense)               (None, 3)                 15        \n",
      "                                                                 \n",
      "=================================================================\n",
      "Total params: 15\n",
      "Trainable params: 15\n",
      "Non-trainable params: 0\n",
      "_________________________________________________________________\n"
     ]
    }
   ],
   "source": [
    "model.summary()"
   ]
  },
  {
   "cell_type": "code",
   "execution_count": 39,
   "metadata": {},
   "outputs": [],
   "source": [
    "model.compile(optimizer='adam',\n",
    "              loss='categorical_crossentropy',\n",
    "              metrics=['accuracy'])"
   ]
  },
  {
   "cell_type": "code",
   "execution_count": 40,
   "metadata": {},
   "outputs": [
    {
     "data": {
      "text/plain": [
       "array([[4.07934  , 3.4646573, 0.7005446]], dtype=float32)"
      ]
     },
     "execution_count": 40,
     "metadata": {},
     "output_type": "execute_result"
    }
   ],
   "source": [
    "model.predict(np.array([[ 5.1,  3.5,  1.4,  0.2]]))"
   ]
  },
  {
   "cell_type": "code",
   "execution_count": 45,
   "metadata": {},
   "outputs": [],
   "source": [
    "inputs = Input(shape=(4, ))\n",
    "fc = Dense(3)(inputs)\n",
    "predictions = Dense(3, activation='softmax')(fc)\n",
    "model = Model(inputs=inputs, outputs=predictions)"
   ]
  },
  {
   "cell_type": "code",
   "execution_count": 46,
   "metadata": {},
   "outputs": [
    {
     "name": "stdout",
     "output_type": "stream",
     "text": [
      "Model: \"model_1\"\n",
      "_________________________________________________________________\n",
      " Layer (type)                Output Shape              Param #   \n",
      "=================================================================\n",
      " input_4 (InputLayer)        [(None, 4)]               0         \n",
      "                                                                 \n",
      " dense_5 (Dense)             (None, 3)                 15        \n",
      "                                                                 \n",
      " dense_6 (Dense)             (None, 3)                 12        \n",
      "                                                                 \n",
      "=================================================================\n",
      "Total params: 27\n",
      "Trainable params: 27\n",
      "Non-trainable params: 0\n",
      "_________________________________________________________________\n"
     ]
    }
   ],
   "source": [
    "model.summary()"
   ]
  },
  {
   "cell_type": "code",
   "execution_count": 47,
   "metadata": {},
   "outputs": [],
   "source": [
    "model.compile(optimizer='adam',\n",
    "              loss='categorical_crossentropy',\n",
    "              metrics=['accuracy'])"
   ]
  },
  {
   "cell_type": "code",
   "execution_count": 48,
   "metadata": {},
   "outputs": [
    {
     "data": {
      "text/plain": [
       "array([[0.5721356 , 0.37095767, 0.05690676]], dtype=float32)"
      ]
     },
     "execution_count": 48,
     "metadata": {},
     "output_type": "execute_result"
    }
   ],
   "source": [
    "model.predict(np.array([[ 5.1,  3.5,  1.4,  0.2]]))"
   ]
  },
  {
   "cell_type": "markdown",
   "metadata": {
    "collapsed": true
   },
   "source": [
    "# Training"
   ]
  },
  {
   "cell_type": "code",
   "execution_count": 49,
   "metadata": {},
   "outputs": [
    {
     "data": {
      "text/plain": [
       "((150, 4), (150,))"
      ]
     },
     "execution_count": 49,
     "metadata": {},
     "output_type": "execute_result"
    }
   ],
   "source": [
    "X = np.array(iris.data)\n",
    "y = np.array(iris.target)\n",
    "X.shape, y.shape"
   ]
  },
  {
   "cell_type": "code",
   "execution_count": 50,
   "metadata": {},
   "outputs": [
    {
     "data": {
      "text/plain": [
       "2"
      ]
     },
     "execution_count": 50,
     "metadata": {},
     "output_type": "execute_result"
    }
   ],
   "source": [
    "y[100]"
   ]
  },
  {
   "cell_type": "code",
   "execution_count": 51,
   "metadata": {},
   "outputs": [],
   "source": [
    "from keras.utils.np_utils import to_categorical\n",
    "\n",
    "num_categories = 3\n",
    "\n",
    "y = to_categorical(y, num_categories)"
   ]
  },
  {
   "cell_type": "code",
   "execution_count": 52,
   "metadata": {},
   "outputs": [
    {
     "data": {
      "text/plain": [
       "array([0., 0., 1.], dtype=float32)"
      ]
     },
     "execution_count": 52,
     "metadata": {},
     "output_type": "execute_result"
    }
   ],
   "source": [
    "y[100]"
   ]
  },
  {
   "cell_type": "code",
   "execution_count": 53,
   "metadata": {},
   "outputs": [],
   "source": [
    "from sklearn.model_selection import train_test_split\n",
    "X_train, X_test, y_train, y_test = train_test_split(X, y, test_size=0.20, random_state=42, stratify=y)"
   ]
  },
  {
   "cell_type": "code",
   "execution_count": 54,
   "metadata": {},
   "outputs": [
    {
     "data": {
      "text/plain": [
       "((120, 4), (30, 4), (120, 3), (30, 3))"
      ]
     },
     "execution_count": 54,
     "metadata": {},
     "output_type": "execute_result"
    }
   ],
   "source": [
    "X_train.shape, X_test.shape, y_train.shape, y_test.shape"
   ]
  },
  {
   "cell_type": "code",
   "execution_count": 55,
   "metadata": {},
   "outputs": [],
   "source": [
    "# !rm -r tf_log\n",
    "\n",
    "# https://keras.io/callbacks/#tensorboard\n",
    "# tb_callback = keras.callbacks.TensorBoard(log_dir='./tf_log')\n",
    "# To start tensorboard\n",
    "# tensorboard --logdir=/mnt/c/Users/olive/Development/ml/tf_log\n",
    "# open http://localhost:6006"
   ]
  },
  {
   "cell_type": "code",
   "execution_count": 56,
   "metadata": {},
   "outputs": [
    {
     "name": "stdout",
     "output_type": "stream",
     "text": [
      "Epoch 1/500\n",
      "3/3 [==============================] - 0s 54ms/step - loss: 1.2620 - accuracy: 0.6667 - val_loss: 1.2316 - val_accuracy: 0.6667\n",
      "Epoch 2/500\n",
      "3/3 [==============================] - 0s 9ms/step - loss: 1.2238 - accuracy: 0.6667 - val_loss: 1.1939 - val_accuracy: 0.6667\n",
      "Epoch 3/500\n",
      "3/3 [==============================] - 0s 8ms/step - loss: 1.1842 - accuracy: 0.6667 - val_loss: 1.1570 - val_accuracy: 0.6667\n",
      "Epoch 4/500\n",
      "3/3 [==============================] - 0s 9ms/step - loss: 1.1504 - accuracy: 0.6667 - val_loss: 1.1215 - val_accuracy: 0.6667\n",
      "Epoch 5/500\n",
      "3/3 [==============================] - 0s 9ms/step - loss: 1.1111 - accuracy: 0.6667 - val_loss: 1.0887 - val_accuracy: 0.6667\n",
      "Epoch 6/500\n",
      "3/3 [==============================] - 0s 9ms/step - loss: 1.0788 - accuracy: 0.6667 - val_loss: 1.0576 - val_accuracy: 0.6667\n",
      "Epoch 7/500\n",
      "3/3 [==============================] - 0s 9ms/step - loss: 1.0474 - accuracy: 0.6667 - val_loss: 1.0287 - val_accuracy: 0.6667\n",
      "Epoch 8/500\n",
      "3/3 [==============================] - 0s 9ms/step - loss: 1.0186 - accuracy: 0.6667 - val_loss: 1.0023 - val_accuracy: 0.6111\n",
      "Epoch 9/500\n",
      "3/3 [==============================] - 0s 8ms/step - loss: 0.9893 - accuracy: 0.6548 - val_loss: 0.9787 - val_accuracy: 0.6111\n",
      "Epoch 10/500\n",
      "3/3 [==============================] - 0s 9ms/step - loss: 0.9648 - accuracy: 0.6548 - val_loss: 0.9573 - val_accuracy: 0.6111\n",
      "Epoch 11/500\n",
      "3/3 [==============================] - 0s 8ms/step - loss: 0.9417 - accuracy: 0.6667 - val_loss: 0.9386 - val_accuracy: 0.6389\n",
      "Epoch 12/500\n",
      "3/3 [==============================] - 0s 11ms/step - loss: 0.9248 - accuracy: 0.6667 - val_loss: 0.9220 - val_accuracy: 0.6389\n",
      "Epoch 13/500\n",
      "3/3 [==============================] - 0s 9ms/step - loss: 0.9064 - accuracy: 0.6548 - val_loss: 0.9083 - val_accuracy: 0.6667\n",
      "Epoch 14/500\n",
      "3/3 [==============================] - 0s 7ms/step - loss: 0.8900 - accuracy: 0.6310 - val_loss: 0.8969 - val_accuracy: 0.6944\n",
      "Epoch 15/500\n",
      "3/3 [==============================] - 0s 8ms/step - loss: 0.8794 - accuracy: 0.6190 - val_loss: 0.8872 - val_accuracy: 0.6667\n",
      "Epoch 16/500\n",
      "3/3 [==============================] - 0s 8ms/step - loss: 0.8711 - accuracy: 0.6071 - val_loss: 0.8791 - val_accuracy: 0.6944\n",
      "Epoch 17/500\n",
      "3/3 [==============================] - 0s 8ms/step - loss: 0.8597 - accuracy: 0.6429 - val_loss: 0.8727 - val_accuracy: 0.6111\n",
      "Epoch 18/500\n",
      "3/3 [==============================] - 0s 9ms/step - loss: 0.8514 - accuracy: 0.6429 - val_loss: 0.8674 - val_accuracy: 0.6389\n",
      "Epoch 19/500\n",
      "3/3 [==============================] - 0s 8ms/step - loss: 0.8456 - accuracy: 0.6667 - val_loss: 0.8626 - val_accuracy: 0.6389\n",
      "Epoch 20/500\n",
      "3/3 [==============================] - 0s 8ms/step - loss: 0.8399 - accuracy: 0.6429 - val_loss: 0.8584 - val_accuracy: 0.6389\n",
      "Epoch 21/500\n",
      "3/3 [==============================] - 0s 9ms/step - loss: 0.8346 - accuracy: 0.6548 - val_loss: 0.8546 - val_accuracy: 0.6389\n",
      "Epoch 22/500\n",
      "3/3 [==============================] - 0s 10ms/step - loss: 0.8297 - accuracy: 0.6548 - val_loss: 0.8508 - val_accuracy: 0.6944\n",
      "Epoch 23/500\n",
      "3/3 [==============================] - 0s 12ms/step - loss: 0.8257 - accuracy: 0.6429 - val_loss: 0.8473 - val_accuracy: 0.6944\n",
      "Epoch 24/500\n",
      "3/3 [==============================] - 0s 9ms/step - loss: 0.8211 - accuracy: 0.6429 - val_loss: 0.8436 - val_accuracy: 0.7222\n",
      "Epoch 25/500\n",
      "3/3 [==============================] - 0s 9ms/step - loss: 0.8171 - accuracy: 0.6548 - val_loss: 0.8400 - val_accuracy: 0.7222\n",
      "Epoch 26/500\n",
      "3/3 [==============================] - 0s 9ms/step - loss: 0.8130 - accuracy: 0.6548 - val_loss: 0.8364 - val_accuracy: 0.6944\n",
      "Epoch 27/500\n",
      "3/3 [==============================] - 0s 10ms/step - loss: 0.8093 - accuracy: 0.6786 - val_loss: 0.8330 - val_accuracy: 0.6944\n",
      "Epoch 28/500\n",
      "3/3 [==============================] - 0s 8ms/step - loss: 0.8050 - accuracy: 0.6786 - val_loss: 0.8294 - val_accuracy: 0.6667\n",
      "Epoch 29/500\n",
      "3/3 [==============================] - 0s 9ms/step - loss: 0.8015 - accuracy: 0.6905 - val_loss: 0.8259 - val_accuracy: 0.6667\n",
      "Epoch 30/500\n",
      "3/3 [==============================] - 0s 8ms/step - loss: 0.7973 - accuracy: 0.6905 - val_loss: 0.8221 - val_accuracy: 0.6667\n",
      "Epoch 31/500\n",
      "3/3 [==============================] - 0s 9ms/step - loss: 0.7934 - accuracy: 0.6905 - val_loss: 0.8183 - val_accuracy: 0.6667\n",
      "Epoch 32/500\n",
      "3/3 [==============================] - 0s 9ms/step - loss: 0.7896 - accuracy: 0.7024 - val_loss: 0.8145 - val_accuracy: 0.6667\n",
      "Epoch 33/500\n",
      "3/3 [==============================] - 0s 9ms/step - loss: 0.7856 - accuracy: 0.7024 - val_loss: 0.8109 - val_accuracy: 0.6667\n",
      "Epoch 34/500\n",
      "3/3 [==============================] - 0s 11ms/step - loss: 0.7817 - accuracy: 0.7024 - val_loss: 0.8072 - val_accuracy: 0.6667\n",
      "Epoch 35/500\n",
      "3/3 [==============================] - 0s 9ms/step - loss: 0.7779 - accuracy: 0.7024 - val_loss: 0.8036 - val_accuracy: 0.6667\n",
      "Epoch 36/500\n",
      "3/3 [==============================] - 0s 9ms/step - loss: 0.7741 - accuracy: 0.7024 - val_loss: 0.7998 - val_accuracy: 0.6667\n",
      "Epoch 37/500\n",
      "3/3 [==============================] - 0s 9ms/step - loss: 0.7702 - accuracy: 0.7024 - val_loss: 0.7961 - val_accuracy: 0.6944\n",
      "Epoch 38/500\n",
      "3/3 [==============================] - 0s 9ms/step - loss: 0.7664 - accuracy: 0.7024 - val_loss: 0.7925 - val_accuracy: 0.6944\n",
      "Epoch 39/500\n",
      "3/3 [==============================] - 0s 10ms/step - loss: 0.7626 - accuracy: 0.7024 - val_loss: 0.7888 - val_accuracy: 0.6944\n",
      "Epoch 40/500\n",
      "3/3 [==============================] - 0s 9ms/step - loss: 0.7589 - accuracy: 0.7024 - val_loss: 0.7852 - val_accuracy: 0.6944\n",
      "Epoch 41/500\n",
      "3/3 [==============================] - 0s 9ms/step - loss: 0.7551 - accuracy: 0.7024 - val_loss: 0.7815 - val_accuracy: 0.6944\n",
      "Epoch 42/500\n",
      "3/3 [==============================] - 0s 9ms/step - loss: 0.7514 - accuracy: 0.7024 - val_loss: 0.7776 - val_accuracy: 0.7222\n",
      "Epoch 43/500\n",
      "3/3 [==============================] - 0s 11ms/step - loss: 0.7478 - accuracy: 0.7024 - val_loss: 0.7739 - val_accuracy: 0.7222\n",
      "Epoch 44/500\n",
      "3/3 [==============================] - 0s 9ms/step - loss: 0.7442 - accuracy: 0.7024 - val_loss: 0.7702 - val_accuracy: 0.7222\n",
      "Epoch 45/500\n",
      "3/3 [==============================] - 0s 9ms/step - loss: 0.7406 - accuracy: 0.6905 - val_loss: 0.7667 - val_accuracy: 0.7222\n",
      "Epoch 46/500\n",
      "3/3 [==============================] - 0s 8ms/step - loss: 0.7370 - accuracy: 0.7024 - val_loss: 0.7633 - val_accuracy: 0.7222\n",
      "Epoch 47/500\n",
      "3/3 [==============================] - 0s 10ms/step - loss: 0.7332 - accuracy: 0.7024 - val_loss: 0.7599 - val_accuracy: 0.7222\n",
      "Epoch 48/500\n",
      "3/3 [==============================] - 0s 9ms/step - loss: 0.7296 - accuracy: 0.7024 - val_loss: 0.7565 - val_accuracy: 0.7222\n",
      "Epoch 49/500\n",
      "3/3 [==============================] - 0s 9ms/step - loss: 0.7259 - accuracy: 0.7024 - val_loss: 0.7531 - val_accuracy: 0.7222\n",
      "Epoch 50/500\n",
      "3/3 [==============================] - 0s 13ms/step - loss: 0.7227 - accuracy: 0.7024 - val_loss: 0.7498 - val_accuracy: 0.7222\n",
      "Epoch 51/500\n",
      "3/3 [==============================] - 0s 10ms/step - loss: 0.7189 - accuracy: 0.7143 - val_loss: 0.7465 - val_accuracy: 0.7222\n",
      "Epoch 52/500\n",
      "3/3 [==============================] - 0s 9ms/step - loss: 0.7153 - accuracy: 0.7143 - val_loss: 0.7431 - val_accuracy: 0.7222\n",
      "Epoch 53/500\n",
      "3/3 [==============================] - 0s 10ms/step - loss: 0.7122 - accuracy: 0.7143 - val_loss: 0.7396 - val_accuracy: 0.7222\n",
      "Epoch 54/500\n",
      "3/3 [==============================] - 0s 9ms/step - loss: 0.7083 - accuracy: 0.7143 - val_loss: 0.7363 - val_accuracy: 0.7222\n",
      "Epoch 55/500\n",
      "3/3 [==============================] - 0s 9ms/step - loss: 0.7048 - accuracy: 0.7143 - val_loss: 0.7331 - val_accuracy: 0.7222\n",
      "Epoch 56/500\n",
      "3/3 [==============================] - 0s 9ms/step - loss: 0.7014 - accuracy: 0.7143 - val_loss: 0.7299 - val_accuracy: 0.7222\n",
      "Epoch 57/500\n",
      "3/3 [==============================] - 0s 9ms/step - loss: 0.6980 - accuracy: 0.7143 - val_loss: 0.7265 - val_accuracy: 0.7222\n",
      "Epoch 58/500\n",
      "3/3 [==============================] - 0s 9ms/step - loss: 0.6945 - accuracy: 0.7143 - val_loss: 0.7232 - val_accuracy: 0.7222\n",
      "Epoch 59/500\n"
     ]
    },
    {
     "name": "stdout",
     "output_type": "stream",
     "text": [
      "3/3 [==============================] - 0s 9ms/step - loss: 0.6912 - accuracy: 0.7143 - val_loss: 0.7200 - val_accuracy: 0.7222\n",
      "Epoch 60/500\n",
      "3/3 [==============================] - 0s 9ms/step - loss: 0.6878 - accuracy: 0.7143 - val_loss: 0.7168 - val_accuracy: 0.7222\n",
      "Epoch 61/500\n",
      "3/3 [==============================] - 0s 8ms/step - loss: 0.6846 - accuracy: 0.7143 - val_loss: 0.7137 - val_accuracy: 0.7222\n",
      "Epoch 62/500\n",
      "3/3 [==============================] - 0s 9ms/step - loss: 0.6812 - accuracy: 0.7143 - val_loss: 0.7106 - val_accuracy: 0.7222\n",
      "Epoch 63/500\n",
      "3/3 [==============================] - 0s 9ms/step - loss: 0.6779 - accuracy: 0.7262 - val_loss: 0.7075 - val_accuracy: 0.7222\n",
      "Epoch 64/500\n",
      "3/3 [==============================] - 0s 9ms/step - loss: 0.6747 - accuracy: 0.7262 - val_loss: 0.7043 - val_accuracy: 0.7222\n",
      "Epoch 65/500\n",
      "3/3 [==============================] - 0s 9ms/step - loss: 0.6715 - accuracy: 0.7262 - val_loss: 0.7012 - val_accuracy: 0.7222\n",
      "Epoch 66/500\n",
      "3/3 [==============================] - 0s 10ms/step - loss: 0.6684 - accuracy: 0.7262 - val_loss: 0.6980 - val_accuracy: 0.7222\n",
      "Epoch 67/500\n",
      "3/3 [==============================] - 0s 8ms/step - loss: 0.6654 - accuracy: 0.7262 - val_loss: 0.6948 - val_accuracy: 0.7222\n",
      "Epoch 68/500\n",
      "3/3 [==============================] - 0s 9ms/step - loss: 0.6620 - accuracy: 0.7262 - val_loss: 0.6919 - val_accuracy: 0.7222\n",
      "Epoch 69/500\n",
      "3/3 [==============================] - 0s 9ms/step - loss: 0.6589 - accuracy: 0.7262 - val_loss: 0.6888 - val_accuracy: 0.7222\n",
      "Epoch 70/500\n",
      "3/3 [==============================] - 0s 9ms/step - loss: 0.6557 - accuracy: 0.7262 - val_loss: 0.6858 - val_accuracy: 0.7222\n",
      "Epoch 71/500\n",
      "3/3 [==============================] - 0s 11ms/step - loss: 0.6529 - accuracy: 0.7262 - val_loss: 0.6828 - val_accuracy: 0.7222\n",
      "Epoch 72/500\n",
      "3/3 [==============================] - 0s 10ms/step - loss: 0.6498 - accuracy: 0.7262 - val_loss: 0.6798 - val_accuracy: 0.7222\n",
      "Epoch 73/500\n",
      "3/3 [==============================] - 0s 10ms/step - loss: 0.6466 - accuracy: 0.7262 - val_loss: 0.6768 - val_accuracy: 0.7222\n",
      "Epoch 74/500\n",
      "3/3 [==============================] - 0s 10ms/step - loss: 0.6436 - accuracy: 0.7262 - val_loss: 0.6738 - val_accuracy: 0.7222\n",
      "Epoch 75/500\n",
      "3/3 [==============================] - 0s 10ms/step - loss: 0.6408 - accuracy: 0.7262 - val_loss: 0.6707 - val_accuracy: 0.7222\n",
      "Epoch 76/500\n",
      "3/3 [==============================] - 0s 10ms/step - loss: 0.6378 - accuracy: 0.7262 - val_loss: 0.6677 - val_accuracy: 0.7222\n",
      "Epoch 77/500\n",
      "3/3 [==============================] - 0s 11ms/step - loss: 0.6348 - accuracy: 0.7262 - val_loss: 0.6647 - val_accuracy: 0.7222\n",
      "Epoch 78/500\n",
      "3/3 [==============================] - 0s 9ms/step - loss: 0.6322 - accuracy: 0.7262 - val_loss: 0.6618 - val_accuracy: 0.7222\n",
      "Epoch 79/500\n",
      "3/3 [==============================] - 0s 8ms/step - loss: 0.6293 - accuracy: 0.7262 - val_loss: 0.6590 - val_accuracy: 0.7222\n",
      "Epoch 80/500\n",
      "3/3 [==============================] - 0s 8ms/step - loss: 0.6266 - accuracy: 0.7262 - val_loss: 0.6562 - val_accuracy: 0.7500\n",
      "Epoch 81/500\n",
      "3/3 [==============================] - 0s 8ms/step - loss: 0.6237 - accuracy: 0.7262 - val_loss: 0.6534 - val_accuracy: 0.7500\n",
      "Epoch 82/500\n",
      "3/3 [==============================] - 0s 9ms/step - loss: 0.6210 - accuracy: 0.7262 - val_loss: 0.6507 - val_accuracy: 0.7500\n",
      "Epoch 83/500\n",
      "3/3 [==============================] - 0s 9ms/step - loss: 0.6182 - accuracy: 0.7262 - val_loss: 0.6479 - val_accuracy: 0.7500\n",
      "Epoch 84/500\n",
      "3/3 [==============================] - 0s 9ms/step - loss: 0.6155 - accuracy: 0.7262 - val_loss: 0.6452 - val_accuracy: 0.7500\n",
      "Epoch 85/500\n",
      "3/3 [==============================] - 0s 9ms/step - loss: 0.6130 - accuracy: 0.7262 - val_loss: 0.6427 - val_accuracy: 0.7500\n",
      "Epoch 86/500\n",
      "3/3 [==============================] - 0s 8ms/step - loss: 0.6103 - accuracy: 0.7262 - val_loss: 0.6401 - val_accuracy: 0.7500\n",
      "Epoch 87/500\n",
      "3/3 [==============================] - 0s 8ms/step - loss: 0.6076 - accuracy: 0.7262 - val_loss: 0.6376 - val_accuracy: 0.7500\n",
      "Epoch 88/500\n",
      "3/3 [==============================] - 0s 8ms/step - loss: 0.6049 - accuracy: 0.7262 - val_loss: 0.6352 - val_accuracy: 0.7500\n",
      "Epoch 89/500\n",
      "3/3 [==============================] - 0s 8ms/step - loss: 0.6024 - accuracy: 0.7262 - val_loss: 0.6327 - val_accuracy: 0.7500\n",
      "Epoch 90/500\n",
      "3/3 [==============================] - 0s 8ms/step - loss: 0.5998 - accuracy: 0.7262 - val_loss: 0.6302 - val_accuracy: 0.7500\n",
      "Epoch 91/500\n",
      "3/3 [==============================] - 0s 9ms/step - loss: 0.5973 - accuracy: 0.7262 - val_loss: 0.6278 - val_accuracy: 0.7500\n",
      "Epoch 92/500\n",
      "3/3 [==============================] - 0s 8ms/step - loss: 0.5948 - accuracy: 0.7381 - val_loss: 0.6254 - val_accuracy: 0.7500\n",
      "Epoch 93/500\n",
      "3/3 [==============================] - 0s 9ms/step - loss: 0.5924 - accuracy: 0.7381 - val_loss: 0.6229 - val_accuracy: 0.7500\n",
      "Epoch 94/500\n",
      "3/3 [==============================] - 0s 9ms/step - loss: 0.5899 - accuracy: 0.7381 - val_loss: 0.6206 - val_accuracy: 0.7500\n",
      "Epoch 95/500\n",
      "3/3 [==============================] - 0s 8ms/step - loss: 0.5878 - accuracy: 0.7381 - val_loss: 0.6184 - val_accuracy: 0.7500\n",
      "Epoch 96/500\n",
      "3/3 [==============================] - 0s 9ms/step - loss: 0.5852 - accuracy: 0.7381 - val_loss: 0.6160 - val_accuracy: 0.7500\n",
      "Epoch 97/500\n",
      "3/3 [==============================] - 0s 8ms/step - loss: 0.5829 - accuracy: 0.7381 - val_loss: 0.6136 - val_accuracy: 0.7500\n",
      "Epoch 98/500\n",
      "3/3 [==============================] - 0s 8ms/step - loss: 0.5805 - accuracy: 0.7381 - val_loss: 0.6112 - val_accuracy: 0.7500\n",
      "Epoch 99/500\n",
      "3/3 [==============================] - 0s 8ms/step - loss: 0.5783 - accuracy: 0.7381 - val_loss: 0.6088 - val_accuracy: 0.7500\n",
      "Epoch 100/500\n",
      "3/3 [==============================] - 0s 9ms/step - loss: 0.5760 - accuracy: 0.7381 - val_loss: 0.6063 - val_accuracy: 0.7500\n",
      "Epoch 101/500\n",
      "3/3 [==============================] - 0s 8ms/step - loss: 0.5737 - accuracy: 0.7381 - val_loss: 0.6038 - val_accuracy: 0.7500\n",
      "Epoch 102/500\n",
      "3/3 [==============================] - 0s 7ms/step - loss: 0.5714 - accuracy: 0.7381 - val_loss: 0.6015 - val_accuracy: 0.7500\n",
      "Epoch 103/500\n",
      "3/3 [==============================] - 0s 10ms/step - loss: 0.5693 - accuracy: 0.7381 - val_loss: 0.5993 - val_accuracy: 0.7500\n",
      "Epoch 104/500\n",
      "3/3 [==============================] - 0s 8ms/step - loss: 0.5670 - accuracy: 0.7381 - val_loss: 0.5970 - val_accuracy: 0.7500\n",
      "Epoch 105/500\n",
      "3/3 [==============================] - 0s 7ms/step - loss: 0.5651 - accuracy: 0.7500 - val_loss: 0.5947 - val_accuracy: 0.7500\n",
      "Epoch 106/500\n",
      "3/3 [==============================] - 0s 9ms/step - loss: 0.5627 - accuracy: 0.7500 - val_loss: 0.5925 - val_accuracy: 0.7500\n",
      "Epoch 107/500\n",
      "3/3 [==============================] - 0s 13ms/step - loss: 0.5606 - accuracy: 0.7500 - val_loss: 0.5904 - val_accuracy: 0.7500\n",
      "Epoch 108/500\n",
      "3/3 [==============================] - 0s 10ms/step - loss: 0.5584 - accuracy: 0.7381 - val_loss: 0.5884 - val_accuracy: 0.7500\n",
      "Epoch 109/500\n",
      "3/3 [==============================] - 0s 12ms/step - loss: 0.5565 - accuracy: 0.7381 - val_loss: 0.5864 - val_accuracy: 0.7500\n",
      "Epoch 110/500\n",
      "3/3 [==============================] - 0s 11ms/step - loss: 0.5545 - accuracy: 0.7381 - val_loss: 0.5843 - val_accuracy: 0.7500\n",
      "Epoch 111/500\n",
      "3/3 [==============================] - 0s 12ms/step - loss: 0.5524 - accuracy: 0.7381 - val_loss: 0.5823 - val_accuracy: 0.7778\n",
      "Epoch 112/500\n",
      "3/3 [==============================] - 0s 12ms/step - loss: 0.5504 - accuracy: 0.7381 - val_loss: 0.5804 - val_accuracy: 0.7778\n",
      "Epoch 113/500\n",
      "3/3 [==============================] - 0s 11ms/step - loss: 0.5484 - accuracy: 0.7381 - val_loss: 0.5784 - val_accuracy: 0.7778\n",
      "Epoch 114/500\n",
      "3/3 [==============================] - 0s 13ms/step - loss: 0.5465 - accuracy: 0.7381 - val_loss: 0.5764 - val_accuracy: 0.7778\n",
      "Epoch 115/500\n",
      "3/3 [==============================] - 0s 9ms/step - loss: 0.5445 - accuracy: 0.7381 - val_loss: 0.5743 - val_accuracy: 0.7778\n",
      "Epoch 116/500\n",
      "3/3 [==============================] - 0s 9ms/step - loss: 0.5425 - accuracy: 0.7381 - val_loss: 0.5722 - val_accuracy: 0.7778\n",
      "Epoch 117/500\n"
     ]
    },
    {
     "name": "stdout",
     "output_type": "stream",
     "text": [
      "3/3 [==============================] - 0s 9ms/step - loss: 0.5406 - accuracy: 0.7381 - val_loss: 0.5701 - val_accuracy: 0.7778\n",
      "Epoch 118/500\n",
      "3/3 [==============================] - 0s 8ms/step - loss: 0.5388 - accuracy: 0.7381 - val_loss: 0.5680 - val_accuracy: 0.7778\n",
      "Epoch 119/500\n",
      "3/3 [==============================] - 0s 8ms/step - loss: 0.5370 - accuracy: 0.7500 - val_loss: 0.5659 - val_accuracy: 0.7778\n",
      "Epoch 120/500\n",
      "3/3 [==============================] - 0s 9ms/step - loss: 0.5350 - accuracy: 0.7500 - val_loss: 0.5639 - val_accuracy: 0.7778\n",
      "Epoch 121/500\n",
      "3/3 [==============================] - 0s 9ms/step - loss: 0.5332 - accuracy: 0.7500 - val_loss: 0.5620 - val_accuracy: 0.7778\n",
      "Epoch 122/500\n",
      "3/3 [==============================] - 0s 8ms/step - loss: 0.5315 - accuracy: 0.7500 - val_loss: 0.5600 - val_accuracy: 0.7778\n",
      "Epoch 123/500\n",
      "3/3 [==============================] - 0s 8ms/step - loss: 0.5295 - accuracy: 0.7500 - val_loss: 0.5581 - val_accuracy: 0.7778\n",
      "Epoch 124/500\n",
      "3/3 [==============================] - 0s 9ms/step - loss: 0.5279 - accuracy: 0.7738 - val_loss: 0.5561 - val_accuracy: 0.7500\n",
      "Epoch 125/500\n",
      "3/3 [==============================] - 0s 8ms/step - loss: 0.5262 - accuracy: 0.7857 - val_loss: 0.5543 - val_accuracy: 0.7778\n",
      "Epoch 126/500\n",
      "3/3 [==============================] - 0s 8ms/step - loss: 0.5248 - accuracy: 0.7857 - val_loss: 0.5523 - val_accuracy: 0.7500\n",
      "Epoch 127/500\n",
      "3/3 [==============================] - 0s 8ms/step - loss: 0.5229 - accuracy: 0.7976 - val_loss: 0.5505 - val_accuracy: 0.7500\n",
      "Epoch 128/500\n",
      "3/3 [==============================] - 0s 9ms/step - loss: 0.5210 - accuracy: 0.7976 - val_loss: 0.5489 - val_accuracy: 0.7778\n",
      "Epoch 129/500\n",
      "3/3 [==============================] - 0s 8ms/step - loss: 0.5193 - accuracy: 0.7857 - val_loss: 0.5472 - val_accuracy: 0.7778\n",
      "Epoch 130/500\n",
      "3/3 [==============================] - 0s 8ms/step - loss: 0.5176 - accuracy: 0.7857 - val_loss: 0.5455 - val_accuracy: 0.7778\n",
      "Epoch 131/500\n",
      "3/3 [==============================] - 0s 9ms/step - loss: 0.5161 - accuracy: 0.7738 - val_loss: 0.5440 - val_accuracy: 0.7778\n",
      "Epoch 132/500\n",
      "3/3 [==============================] - 0s 10ms/step - loss: 0.5144 - accuracy: 0.7619 - val_loss: 0.5424 - val_accuracy: 0.7778\n",
      "Epoch 133/500\n",
      "3/3 [==============================] - 0s 8ms/step - loss: 0.5129 - accuracy: 0.7619 - val_loss: 0.5408 - val_accuracy: 0.7778\n",
      "Epoch 134/500\n",
      "3/3 [==============================] - 0s 9ms/step - loss: 0.5113 - accuracy: 0.7619 - val_loss: 0.5393 - val_accuracy: 0.7778\n",
      "Epoch 135/500\n",
      "3/3 [==============================] - 0s 8ms/step - loss: 0.5099 - accuracy: 0.7619 - val_loss: 0.5377 - val_accuracy: 0.7778\n",
      "Epoch 136/500\n",
      "3/3 [==============================] - 0s 8ms/step - loss: 0.5081 - accuracy: 0.7619 - val_loss: 0.5359 - val_accuracy: 0.7778\n",
      "Epoch 137/500\n",
      "3/3 [==============================] - 0s 8ms/step - loss: 0.5066 - accuracy: 0.7738 - val_loss: 0.5341 - val_accuracy: 0.7778\n",
      "Epoch 138/500\n",
      "3/3 [==============================] - 0s 8ms/step - loss: 0.5051 - accuracy: 0.7738 - val_loss: 0.5323 - val_accuracy: 0.7778\n",
      "Epoch 139/500\n",
      "3/3 [==============================] - 0s 8ms/step - loss: 0.5035 - accuracy: 0.7738 - val_loss: 0.5306 - val_accuracy: 0.7778\n",
      "Epoch 140/500\n",
      "3/3 [==============================] - 0s 8ms/step - loss: 0.5019 - accuracy: 0.7857 - val_loss: 0.5289 - val_accuracy: 0.7778\n",
      "Epoch 141/500\n",
      "3/3 [==============================] - 0s 8ms/step - loss: 0.5006 - accuracy: 0.7857 - val_loss: 0.5270 - val_accuracy: 0.7778\n",
      "Epoch 142/500\n",
      "3/3 [==============================] - 0s 8ms/step - loss: 0.4989 - accuracy: 0.7857 - val_loss: 0.5254 - val_accuracy: 0.7778\n",
      "Epoch 143/500\n",
      "3/3 [==============================] - 0s 8ms/step - loss: 0.4975 - accuracy: 0.8095 - val_loss: 0.5237 - val_accuracy: 0.7778\n",
      "Epoch 144/500\n",
      "3/3 [==============================] - 0s 8ms/step - loss: 0.4960 - accuracy: 0.8095 - val_loss: 0.5221 - val_accuracy: 0.7778\n",
      "Epoch 145/500\n",
      "3/3 [==============================] - 0s 9ms/step - loss: 0.4948 - accuracy: 0.8095 - val_loss: 0.5205 - val_accuracy: 0.7778\n",
      "Epoch 146/500\n",
      "3/3 [==============================] - 0s 8ms/step - loss: 0.4931 - accuracy: 0.8095 - val_loss: 0.5190 - val_accuracy: 0.7778\n",
      "Epoch 147/500\n",
      "3/3 [==============================] - 0s 9ms/step - loss: 0.4917 - accuracy: 0.8095 - val_loss: 0.5175 - val_accuracy: 0.7778\n",
      "Epoch 148/500\n",
      "3/3 [==============================] - 0s 8ms/step - loss: 0.4905 - accuracy: 0.8095 - val_loss: 0.5161 - val_accuracy: 0.7778\n",
      "Epoch 149/500\n",
      "3/3 [==============================] - 0s 8ms/step - loss: 0.4891 - accuracy: 0.7976 - val_loss: 0.5147 - val_accuracy: 0.7778\n",
      "Epoch 150/500\n",
      "3/3 [==============================] - 0s 8ms/step - loss: 0.4876 - accuracy: 0.7976 - val_loss: 0.5131 - val_accuracy: 0.7778\n",
      "Epoch 151/500\n",
      "3/3 [==============================] - 0s 9ms/step - loss: 0.4863 - accuracy: 0.7976 - val_loss: 0.5115 - val_accuracy: 0.7778\n",
      "Epoch 152/500\n",
      "3/3 [==============================] - 0s 9ms/step - loss: 0.4848 - accuracy: 0.7976 - val_loss: 0.5101 - val_accuracy: 0.7778\n",
      "Epoch 153/500\n",
      "3/3 [==============================] - 0s 8ms/step - loss: 0.4835 - accuracy: 0.7976 - val_loss: 0.5087 - val_accuracy: 0.7778\n",
      "Epoch 154/500\n",
      "3/3 [==============================] - 0s 8ms/step - loss: 0.4822 - accuracy: 0.7976 - val_loss: 0.5071 - val_accuracy: 0.7778\n",
      "Epoch 155/500\n",
      "3/3 [==============================] - 0s 8ms/step - loss: 0.4808 - accuracy: 0.7976 - val_loss: 0.5057 - val_accuracy: 0.7778\n",
      "Epoch 156/500\n",
      "3/3 [==============================] - 0s 9ms/step - loss: 0.4795 - accuracy: 0.7976 - val_loss: 0.5042 - val_accuracy: 0.7778\n",
      "Epoch 157/500\n",
      "3/3 [==============================] - 0s 8ms/step - loss: 0.4782 - accuracy: 0.7976 - val_loss: 0.5027 - val_accuracy: 0.7778\n",
      "Epoch 158/500\n",
      "3/3 [==============================] - 0s 9ms/step - loss: 0.4768 - accuracy: 0.8095 - val_loss: 0.5011 - val_accuracy: 0.8333\n",
      "Epoch 159/500\n",
      "3/3 [==============================] - 0s 10ms/step - loss: 0.4755 - accuracy: 0.8095 - val_loss: 0.4995 - val_accuracy: 0.8333\n",
      "Epoch 160/500\n",
      "3/3 [==============================] - 0s 10ms/step - loss: 0.4742 - accuracy: 0.8333 - val_loss: 0.4980 - val_accuracy: 0.8333\n",
      "Epoch 161/500\n",
      "3/3 [==============================] - 0s 9ms/step - loss: 0.4730 - accuracy: 0.8333 - val_loss: 0.4966 - val_accuracy: 0.8333\n",
      "Epoch 162/500\n",
      "3/3 [==============================] - 0s 10ms/step - loss: 0.4717 - accuracy: 0.8333 - val_loss: 0.4952 - val_accuracy: 0.8333\n",
      "Epoch 163/500\n",
      "3/3 [==============================] - 0s 12ms/step - loss: 0.4705 - accuracy: 0.8333 - val_loss: 0.4938 - val_accuracy: 0.8333\n",
      "Epoch 164/500\n",
      "3/3 [==============================] - 0s 11ms/step - loss: 0.4692 - accuracy: 0.8333 - val_loss: 0.4924 - val_accuracy: 0.8333\n",
      "Epoch 165/500\n",
      "3/3 [==============================] - 0s 11ms/step - loss: 0.4680 - accuracy: 0.8333 - val_loss: 0.4912 - val_accuracy: 0.8333\n",
      "Epoch 166/500\n",
      "3/3 [==============================] - 0s 10ms/step - loss: 0.4667 - accuracy: 0.8333 - val_loss: 0.4898 - val_accuracy: 0.8333\n",
      "Epoch 167/500\n",
      "3/3 [==============================] - 0s 14ms/step - loss: 0.4656 - accuracy: 0.8333 - val_loss: 0.4885 - val_accuracy: 0.8333\n",
      "Epoch 168/500\n",
      "3/3 [==============================] - 0s 9ms/step - loss: 0.4643 - accuracy: 0.8333 - val_loss: 0.4871 - val_accuracy: 0.8333\n",
      "Epoch 169/500\n",
      "3/3 [==============================] - 0s 10ms/step - loss: 0.4631 - accuracy: 0.8333 - val_loss: 0.4858 - val_accuracy: 0.8333\n",
      "Epoch 170/500\n",
      "3/3 [==============================] - 0s 10ms/step - loss: 0.4619 - accuracy: 0.8333 - val_loss: 0.4844 - val_accuracy: 0.8333\n",
      "Epoch 171/500\n",
      "3/3 [==============================] - 0s 8ms/step - loss: 0.4607 - accuracy: 0.8452 - val_loss: 0.4830 - val_accuracy: 0.8333\n",
      "Epoch 172/500\n",
      "3/3 [==============================] - 0s 8ms/step - loss: 0.4595 - accuracy: 0.8452 - val_loss: 0.4815 - val_accuracy: 0.8611\n",
      "Epoch 173/500\n",
      "3/3 [==============================] - 0s 8ms/step - loss: 0.4585 - accuracy: 0.8571 - val_loss: 0.4800 - val_accuracy: 0.8611\n",
      "Epoch 174/500\n",
      "3/3 [==============================] - 0s 8ms/step - loss: 0.4572 - accuracy: 0.8571 - val_loss: 0.4787 - val_accuracy: 0.8611\n",
      "Epoch 175/500\n"
     ]
    },
    {
     "name": "stdout",
     "output_type": "stream",
     "text": [
      "3/3 [==============================] - 0s 9ms/step - loss: 0.4561 - accuracy: 0.8571 - val_loss: 0.4774 - val_accuracy: 0.8611\n",
      "Epoch 176/500\n",
      "3/3 [==============================] - 0s 9ms/step - loss: 0.4550 - accuracy: 0.8571 - val_loss: 0.4761 - val_accuracy: 0.8611\n",
      "Epoch 177/500\n",
      "3/3 [==============================] - 0s 9ms/step - loss: 0.4537 - accuracy: 0.8571 - val_loss: 0.4748 - val_accuracy: 0.8611\n",
      "Epoch 178/500\n",
      "3/3 [==============================] - 0s 8ms/step - loss: 0.4526 - accuracy: 0.8571 - val_loss: 0.4736 - val_accuracy: 0.8611\n",
      "Epoch 179/500\n",
      "3/3 [==============================] - 0s 8ms/step - loss: 0.4517 - accuracy: 0.8571 - val_loss: 0.4723 - val_accuracy: 0.8611\n",
      "Epoch 180/500\n",
      "3/3 [==============================] - 0s 9ms/step - loss: 0.4505 - accuracy: 0.8571 - val_loss: 0.4709 - val_accuracy: 0.8611\n",
      "Epoch 181/500\n",
      "3/3 [==============================] - 0s 8ms/step - loss: 0.4492 - accuracy: 0.8690 - val_loss: 0.4695 - val_accuracy: 0.8611\n",
      "Epoch 182/500\n",
      "3/3 [==============================] - 0s 8ms/step - loss: 0.4481 - accuracy: 0.8810 - val_loss: 0.4682 - val_accuracy: 0.8611\n",
      "Epoch 183/500\n",
      "3/3 [==============================] - 0s 8ms/step - loss: 0.4471 - accuracy: 0.8810 - val_loss: 0.4670 - val_accuracy: 0.8611\n",
      "Epoch 184/500\n",
      "3/3 [==============================] - 0s 9ms/step - loss: 0.4460 - accuracy: 0.8810 - val_loss: 0.4656 - val_accuracy: 0.8611\n",
      "Epoch 185/500\n",
      "3/3 [==============================] - 0s 8ms/step - loss: 0.4449 - accuracy: 0.8810 - val_loss: 0.4644 - val_accuracy: 0.8611\n",
      "Epoch 186/500\n",
      "3/3 [==============================] - 0s 9ms/step - loss: 0.4439 - accuracy: 0.8810 - val_loss: 0.4631 - val_accuracy: 0.8889\n",
      "Epoch 187/500\n",
      "3/3 [==============================] - 0s 9ms/step - loss: 0.4427 - accuracy: 0.8810 - val_loss: 0.4619 - val_accuracy: 0.8611\n",
      "Epoch 188/500\n",
      "3/3 [==============================] - 0s 9ms/step - loss: 0.4416 - accuracy: 0.8810 - val_loss: 0.4607 - val_accuracy: 0.8611\n",
      "Epoch 189/500\n",
      "3/3 [==============================] - 0s 11ms/step - loss: 0.4406 - accuracy: 0.8810 - val_loss: 0.4597 - val_accuracy: 0.8611\n",
      "Epoch 190/500\n",
      "3/3 [==============================] - 0s 13ms/step - loss: 0.4395 - accuracy: 0.8690 - val_loss: 0.4586 - val_accuracy: 0.8611\n",
      "Epoch 191/500\n",
      "3/3 [==============================] - 0s 9ms/step - loss: 0.4385 - accuracy: 0.8690 - val_loss: 0.4573 - val_accuracy: 0.8611\n",
      "Epoch 192/500\n",
      "3/3 [==============================] - 0s 11ms/step - loss: 0.4374 - accuracy: 0.8690 - val_loss: 0.4561 - val_accuracy: 0.8611\n",
      "Epoch 193/500\n",
      "3/3 [==============================] - 0s 11ms/step - loss: 0.4364 - accuracy: 0.8690 - val_loss: 0.4550 - val_accuracy: 0.8611\n",
      "Epoch 194/500\n",
      "3/3 [==============================] - 0s 10ms/step - loss: 0.4353 - accuracy: 0.8690 - val_loss: 0.4536 - val_accuracy: 0.8611\n",
      "Epoch 195/500\n",
      "3/3 [==============================] - 0s 12ms/step - loss: 0.4343 - accuracy: 0.8690 - val_loss: 0.4523 - val_accuracy: 0.8889\n",
      "Epoch 196/500\n",
      "3/3 [==============================] - 0s 9ms/step - loss: 0.4332 - accuracy: 0.8929 - val_loss: 0.4511 - val_accuracy: 0.8889\n",
      "Epoch 197/500\n",
      "3/3 [==============================] - 0s 8ms/step - loss: 0.4322 - accuracy: 0.8929 - val_loss: 0.4500 - val_accuracy: 0.8889\n",
      "Epoch 198/500\n",
      "3/3 [==============================] - 0s 8ms/step - loss: 0.4311 - accuracy: 0.8929 - val_loss: 0.4488 - val_accuracy: 0.8889\n",
      "Epoch 199/500\n",
      "3/3 [==============================] - 0s 8ms/step - loss: 0.4300 - accuracy: 0.8929 - val_loss: 0.4475 - val_accuracy: 0.8889\n",
      "Epoch 200/500\n",
      "3/3 [==============================] - 0s 8ms/step - loss: 0.4291 - accuracy: 0.9048 - val_loss: 0.4462 - val_accuracy: 0.9167\n",
      "Epoch 201/500\n",
      "3/3 [==============================] - 0s 8ms/step - loss: 0.4282 - accuracy: 0.9048 - val_loss: 0.4449 - val_accuracy: 0.9167\n",
      "Epoch 202/500\n",
      "3/3 [==============================] - 0s 8ms/step - loss: 0.4271 - accuracy: 0.9048 - val_loss: 0.4438 - val_accuracy: 0.9167\n",
      "Epoch 203/500\n",
      "3/3 [==============================] - 0s 8ms/step - loss: 0.4263 - accuracy: 0.9048 - val_loss: 0.4426 - val_accuracy: 0.9167\n",
      "Epoch 204/500\n",
      "3/3 [==============================] - 0s 8ms/step - loss: 0.4252 - accuracy: 0.9048 - val_loss: 0.4414 - val_accuracy: 0.9167\n",
      "Epoch 205/500\n",
      "3/3 [==============================] - 0s 9ms/step - loss: 0.4242 - accuracy: 0.9048 - val_loss: 0.4403 - val_accuracy: 0.9167\n",
      "Epoch 206/500\n",
      "3/3 [==============================] - 0s 8ms/step - loss: 0.4232 - accuracy: 0.9048 - val_loss: 0.4392 - val_accuracy: 0.9167\n",
      "Epoch 207/500\n",
      "3/3 [==============================] - 0s 8ms/step - loss: 0.4222 - accuracy: 0.9048 - val_loss: 0.4381 - val_accuracy: 0.9167\n",
      "Epoch 208/500\n",
      "3/3 [==============================] - 0s 8ms/step - loss: 0.4212 - accuracy: 0.9048 - val_loss: 0.4370 - val_accuracy: 0.9167\n",
      "Epoch 209/500\n",
      "3/3 [==============================] - 0s 8ms/step - loss: 0.4203 - accuracy: 0.9048 - val_loss: 0.4358 - val_accuracy: 0.9167\n",
      "Epoch 210/500\n",
      "3/3 [==============================] - 0s 9ms/step - loss: 0.4193 - accuracy: 0.9048 - val_loss: 0.4347 - val_accuracy: 0.9167\n",
      "Epoch 211/500\n",
      "3/3 [==============================] - 0s 8ms/step - loss: 0.4184 - accuracy: 0.9048 - val_loss: 0.4336 - val_accuracy: 0.9167\n",
      "Epoch 212/500\n",
      "3/3 [==============================] - 0s 9ms/step - loss: 0.4173 - accuracy: 0.9048 - val_loss: 0.4325 - val_accuracy: 0.9167\n",
      "Epoch 213/500\n",
      "3/3 [==============================] - 0s 9ms/step - loss: 0.4164 - accuracy: 0.9048 - val_loss: 0.4316 - val_accuracy: 0.9167\n",
      "Epoch 214/500\n",
      "3/3 [==============================] - 0s 13ms/step - loss: 0.4155 - accuracy: 0.9048 - val_loss: 0.4306 - val_accuracy: 0.8889\n",
      "Epoch 215/500\n",
      "3/3 [==============================] - 0s 10ms/step - loss: 0.4147 - accuracy: 0.8929 - val_loss: 0.4295 - val_accuracy: 0.9167\n",
      "Epoch 216/500\n",
      "3/3 [==============================] - 0s 12ms/step - loss: 0.4136 - accuracy: 0.8929 - val_loss: 0.4285 - val_accuracy: 0.8889\n",
      "Epoch 217/500\n",
      "3/3 [==============================] - 0s 10ms/step - loss: 0.4128 - accuracy: 0.8929 - val_loss: 0.4275 - val_accuracy: 0.8889\n",
      "Epoch 218/500\n",
      "3/3 [==============================] - 0s 11ms/step - loss: 0.4119 - accuracy: 0.8929 - val_loss: 0.4264 - val_accuracy: 0.8889\n",
      "Epoch 219/500\n",
      "3/3 [==============================] - 0s 10ms/step - loss: 0.4110 - accuracy: 0.9048 - val_loss: 0.4251 - val_accuracy: 0.9167\n",
      "Epoch 220/500\n",
      "3/3 [==============================] - 0s 10ms/step - loss: 0.4100 - accuracy: 0.9048 - val_loss: 0.4239 - val_accuracy: 0.9167\n",
      "Epoch 221/500\n",
      "3/3 [==============================] - 0s 8ms/step - loss: 0.4090 - accuracy: 0.9048 - val_loss: 0.4228 - val_accuracy: 0.9167\n",
      "Epoch 222/500\n",
      "3/3 [==============================] - 0s 9ms/step - loss: 0.4080 - accuracy: 0.9048 - val_loss: 0.4217 - val_accuracy: 0.9167\n",
      "Epoch 223/500\n",
      "3/3 [==============================] - 0s 9ms/step - loss: 0.4071 - accuracy: 0.9048 - val_loss: 0.4205 - val_accuracy: 0.9167\n",
      "Epoch 224/500\n",
      "3/3 [==============================] - 0s 8ms/step - loss: 0.4063 - accuracy: 0.9048 - val_loss: 0.4194 - val_accuracy: 0.9167\n",
      "Epoch 225/500\n",
      "3/3 [==============================] - 0s 8ms/step - loss: 0.4052 - accuracy: 0.9167 - val_loss: 0.4182 - val_accuracy: 0.9167\n",
      "Epoch 226/500\n",
      "3/3 [==============================] - 0s 8ms/step - loss: 0.4043 - accuracy: 0.9167 - val_loss: 0.4169 - val_accuracy: 0.9167\n",
      "Epoch 227/500\n",
      "3/3 [==============================] - 0s 8ms/step - loss: 0.4036 - accuracy: 0.9167 - val_loss: 0.4157 - val_accuracy: 0.9444\n",
      "Epoch 228/500\n",
      "3/3 [==============================] - 0s 9ms/step - loss: 0.4025 - accuracy: 0.9167 - val_loss: 0.4147 - val_accuracy: 0.9444\n",
      "Epoch 229/500\n",
      "3/3 [==============================] - 0s 9ms/step - loss: 0.4016 - accuracy: 0.9167 - val_loss: 0.4135 - val_accuracy: 0.9444\n",
      "Epoch 230/500\n",
      "3/3 [==============================] - 0s 9ms/step - loss: 0.4008 - accuracy: 0.9167 - val_loss: 0.4125 - val_accuracy: 0.9444\n",
      "Epoch 231/500\n",
      "3/3 [==============================] - 0s 8ms/step - loss: 0.3998 - accuracy: 0.9167 - val_loss: 0.4114 - val_accuracy: 0.9444\n",
      "Epoch 232/500\n",
      "3/3 [==============================] - 0s 9ms/step - loss: 0.3990 - accuracy: 0.9167 - val_loss: 0.4104 - val_accuracy: 0.9444\n",
      "Epoch 233/500\n"
     ]
    },
    {
     "name": "stdout",
     "output_type": "stream",
     "text": [
      "3/3 [==============================] - 0s 9ms/step - loss: 0.3980 - accuracy: 0.9167 - val_loss: 0.4093 - val_accuracy: 0.9444\n",
      "Epoch 234/500\n",
      "3/3 [==============================] - 0s 9ms/step - loss: 0.3972 - accuracy: 0.9167 - val_loss: 0.4082 - val_accuracy: 0.9444\n",
      "Epoch 235/500\n",
      "3/3 [==============================] - 0s 8ms/step - loss: 0.3963 - accuracy: 0.9167 - val_loss: 0.4072 - val_accuracy: 0.9444\n",
      "Epoch 236/500\n",
      "3/3 [==============================] - 0s 8ms/step - loss: 0.3955 - accuracy: 0.9167 - val_loss: 0.4061 - val_accuracy: 0.9444\n",
      "Epoch 237/500\n",
      "3/3 [==============================] - 0s 8ms/step - loss: 0.3946 - accuracy: 0.9167 - val_loss: 0.4052 - val_accuracy: 0.9444\n",
      "Epoch 238/500\n",
      "3/3 [==============================] - 0s 10ms/step - loss: 0.3936 - accuracy: 0.9167 - val_loss: 0.4042 - val_accuracy: 0.9444\n",
      "Epoch 239/500\n",
      "3/3 [==============================] - 0s 11ms/step - loss: 0.3927 - accuracy: 0.9167 - val_loss: 0.4031 - val_accuracy: 0.9444\n",
      "Epoch 240/500\n",
      "3/3 [==============================] - 0s 10ms/step - loss: 0.3919 - accuracy: 0.9167 - val_loss: 0.4020 - val_accuracy: 0.9444\n",
      "Epoch 241/500\n",
      "3/3 [==============================] - 0s 9ms/step - loss: 0.3910 - accuracy: 0.9167 - val_loss: 0.4010 - val_accuracy: 0.9444\n",
      "Epoch 242/500\n",
      "3/3 [==============================] - 0s 10ms/step - loss: 0.3902 - accuracy: 0.9167 - val_loss: 0.3998 - val_accuracy: 0.9444\n",
      "Epoch 243/500\n",
      "3/3 [==============================] - 0s 10ms/step - loss: 0.3893 - accuracy: 0.9167 - val_loss: 0.3987 - val_accuracy: 0.9444\n",
      "Epoch 244/500\n",
      "3/3 [==============================] - 0s 9ms/step - loss: 0.3884 - accuracy: 0.9167 - val_loss: 0.3976 - val_accuracy: 0.9444\n",
      "Epoch 245/500\n",
      "3/3 [==============================] - 0s 8ms/step - loss: 0.3875 - accuracy: 0.9167 - val_loss: 0.3966 - val_accuracy: 0.9444\n",
      "Epoch 246/500\n",
      "3/3 [==============================] - 0s 8ms/step - loss: 0.3866 - accuracy: 0.9286 - val_loss: 0.3955 - val_accuracy: 0.9444\n",
      "Epoch 247/500\n",
      "3/3 [==============================] - 0s 8ms/step - loss: 0.3859 - accuracy: 0.9286 - val_loss: 0.3944 - val_accuracy: 0.9444\n",
      "Epoch 248/500\n",
      "3/3 [==============================] - 0s 9ms/step - loss: 0.3850 - accuracy: 0.9286 - val_loss: 0.3934 - val_accuracy: 0.9444\n",
      "Epoch 249/500\n",
      "3/3 [==============================] - 0s 8ms/step - loss: 0.3841 - accuracy: 0.9286 - val_loss: 0.3923 - val_accuracy: 0.9444\n",
      "Epoch 250/500\n",
      "3/3 [==============================] - 0s 8ms/step - loss: 0.3833 - accuracy: 0.9286 - val_loss: 0.3913 - val_accuracy: 0.9444\n",
      "Epoch 251/500\n",
      "3/3 [==============================] - 0s 9ms/step - loss: 0.3824 - accuracy: 0.9286 - val_loss: 0.3902 - val_accuracy: 0.9444\n",
      "Epoch 252/500\n",
      "3/3 [==============================] - 0s 8ms/step - loss: 0.3816 - accuracy: 0.9286 - val_loss: 0.3891 - val_accuracy: 0.9444\n",
      "Epoch 253/500\n",
      "3/3 [==============================] - 0s 9ms/step - loss: 0.3808 - accuracy: 0.9286 - val_loss: 0.3881 - val_accuracy: 0.9444\n",
      "Epoch 254/500\n",
      "3/3 [==============================] - 0s 9ms/step - loss: 0.3800 - accuracy: 0.9286 - val_loss: 0.3870 - val_accuracy: 0.9444\n",
      "Epoch 255/500\n",
      "3/3 [==============================] - 0s 9ms/step - loss: 0.3797 - accuracy: 0.9286 - val_loss: 0.3861 - val_accuracy: 0.9444\n",
      "Epoch 256/500\n",
      "3/3 [==============================] - 0s 9ms/step - loss: 0.3783 - accuracy: 0.9286 - val_loss: 0.3851 - val_accuracy: 0.9444\n",
      "Epoch 257/500\n",
      "3/3 [==============================] - 0s 8ms/step - loss: 0.3774 - accuracy: 0.9286 - val_loss: 0.3841 - val_accuracy: 0.9444\n",
      "Epoch 258/500\n",
      "3/3 [==============================] - 0s 8ms/step - loss: 0.3765 - accuracy: 0.9286 - val_loss: 0.3831 - val_accuracy: 0.9444\n",
      "Epoch 259/500\n",
      "3/3 [==============================] - 0s 9ms/step - loss: 0.3759 - accuracy: 0.9286 - val_loss: 0.3821 - val_accuracy: 0.9444\n",
      "Epoch 260/500\n",
      "3/3 [==============================] - 0s 13ms/step - loss: 0.3747 - accuracy: 0.9286 - val_loss: 0.3811 - val_accuracy: 0.9444\n",
      "Epoch 261/500\n",
      "3/3 [==============================] - 0s 13ms/step - loss: 0.3743 - accuracy: 0.9286 - val_loss: 0.3803 - val_accuracy: 0.9444\n",
      "Epoch 262/500\n",
      "3/3 [==============================] - 0s 11ms/step - loss: 0.3733 - accuracy: 0.9286 - val_loss: 0.3793 - val_accuracy: 0.9444\n",
      "Epoch 263/500\n",
      "3/3 [==============================] - 0s 10ms/step - loss: 0.3726 - accuracy: 0.9286 - val_loss: 0.3784 - val_accuracy: 0.9444\n",
      "Epoch 264/500\n",
      "3/3 [==============================] - 0s 12ms/step - loss: 0.3718 - accuracy: 0.9286 - val_loss: 0.3772 - val_accuracy: 0.9444\n",
      "Epoch 265/500\n",
      "3/3 [==============================] - 0s 10ms/step - loss: 0.3707 - accuracy: 0.9286 - val_loss: 0.3762 - val_accuracy: 0.9444\n",
      "Epoch 266/500\n",
      "3/3 [==============================] - 0s 13ms/step - loss: 0.3699 - accuracy: 0.9286 - val_loss: 0.3751 - val_accuracy: 0.9444\n",
      "Epoch 267/500\n",
      "3/3 [==============================] - 0s 11ms/step - loss: 0.3691 - accuracy: 0.9286 - val_loss: 0.3742 - val_accuracy: 0.9444\n",
      "Epoch 268/500\n",
      "3/3 [==============================] - 0s 8ms/step - loss: 0.3684 - accuracy: 0.9286 - val_loss: 0.3732 - val_accuracy: 0.9444\n",
      "Epoch 269/500\n",
      "3/3 [==============================] - 0s 9ms/step - loss: 0.3675 - accuracy: 0.9286 - val_loss: 0.3722 - val_accuracy: 0.9444\n",
      "Epoch 270/500\n",
      "3/3 [==============================] - 0s 9ms/step - loss: 0.3667 - accuracy: 0.9286 - val_loss: 0.3711 - val_accuracy: 0.9444\n",
      "Epoch 271/500\n",
      "3/3 [==============================] - 0s 8ms/step - loss: 0.3658 - accuracy: 0.9286 - val_loss: 0.3701 - val_accuracy: 0.9722\n",
      "Epoch 272/500\n",
      "3/3 [==============================] - 0s 8ms/step - loss: 0.3651 - accuracy: 0.9286 - val_loss: 0.3690 - val_accuracy: 0.9722\n",
      "Epoch 273/500\n",
      "3/3 [==============================] - 0s 8ms/step - loss: 0.3643 - accuracy: 0.9286 - val_loss: 0.3681 - val_accuracy: 0.9722\n",
      "Epoch 274/500\n",
      "3/3 [==============================] - 0s 8ms/step - loss: 0.3637 - accuracy: 0.9286 - val_loss: 0.3671 - val_accuracy: 0.9722\n",
      "Epoch 275/500\n",
      "3/3 [==============================] - 0s 8ms/step - loss: 0.3628 - accuracy: 0.9286 - val_loss: 0.3661 - val_accuracy: 0.9722\n",
      "Epoch 276/500\n",
      "3/3 [==============================] - 0s 8ms/step - loss: 0.3621 - accuracy: 0.9286 - val_loss: 0.3651 - val_accuracy: 0.9722\n",
      "Epoch 277/500\n",
      "3/3 [==============================] - 0s 9ms/step - loss: 0.3615 - accuracy: 0.9286 - val_loss: 0.3641 - val_accuracy: 0.9722\n",
      "Epoch 278/500\n",
      "3/3 [==============================] - 0s 8ms/step - loss: 0.3603 - accuracy: 0.9286 - val_loss: 0.3632 - val_accuracy: 0.9722\n",
      "Epoch 279/500\n",
      "3/3 [==============================] - 0s 9ms/step - loss: 0.3594 - accuracy: 0.9286 - val_loss: 0.3624 - val_accuracy: 0.9722\n",
      "Epoch 280/500\n",
      "3/3 [==============================] - 0s 8ms/step - loss: 0.3587 - accuracy: 0.9286 - val_loss: 0.3615 - val_accuracy: 0.9722\n",
      "Epoch 281/500\n",
      "3/3 [==============================] - 0s 9ms/step - loss: 0.3580 - accuracy: 0.9286 - val_loss: 0.3606 - val_accuracy: 0.9722\n",
      "Epoch 282/500\n",
      "3/3 [==============================] - 0s 9ms/step - loss: 0.3571 - accuracy: 0.9286 - val_loss: 0.3597 - val_accuracy: 0.9722\n",
      "Epoch 283/500\n",
      "3/3 [==============================] - 0s 11ms/step - loss: 0.3564 - accuracy: 0.9286 - val_loss: 0.3589 - val_accuracy: 0.9722\n",
      "Epoch 284/500\n",
      "3/3 [==============================] - 0s 9ms/step - loss: 0.3558 - accuracy: 0.9286 - val_loss: 0.3579 - val_accuracy: 0.9722\n",
      "Epoch 285/500\n",
      "3/3 [==============================] - 0s 10ms/step - loss: 0.3549 - accuracy: 0.9286 - val_loss: 0.3567 - val_accuracy: 0.9722\n",
      "Epoch 286/500\n",
      "3/3 [==============================] - 0s 11ms/step - loss: 0.3542 - accuracy: 0.9286 - val_loss: 0.3556 - val_accuracy: 0.9722\n",
      "Epoch 287/500\n",
      "3/3 [==============================] - 0s 11ms/step - loss: 0.3533 - accuracy: 0.9286 - val_loss: 0.3546 - val_accuracy: 0.9722\n",
      "Epoch 288/500\n",
      "3/3 [==============================] - 0s 11ms/step - loss: 0.3523 - accuracy: 0.9286 - val_loss: 0.3537 - val_accuracy: 0.9722\n",
      "Epoch 289/500\n",
      "3/3 [==============================] - 0s 10ms/step - loss: 0.3516 - accuracy: 0.9286 - val_loss: 0.3527 - val_accuracy: 0.9722\n",
      "Epoch 290/500\n",
      "3/3 [==============================] - 0s 10ms/step - loss: 0.3508 - accuracy: 0.9286 - val_loss: 0.3518 - val_accuracy: 0.9722\n",
      "Epoch 291/500\n"
     ]
    },
    {
     "name": "stdout",
     "output_type": "stream",
     "text": [
      "3/3 [==============================] - 0s 9ms/step - loss: 0.3500 - accuracy: 0.9286 - val_loss: 0.3509 - val_accuracy: 0.9722\n",
      "Epoch 292/500\n",
      "3/3 [==============================] - 0s 8ms/step - loss: 0.3497 - accuracy: 0.9286 - val_loss: 0.3501 - val_accuracy: 0.9722\n",
      "Epoch 293/500\n",
      "3/3 [==============================] - 0s 8ms/step - loss: 0.3485 - accuracy: 0.9286 - val_loss: 0.3491 - val_accuracy: 0.9722\n",
      "Epoch 294/500\n",
      "3/3 [==============================] - 0s 8ms/step - loss: 0.3478 - accuracy: 0.9286 - val_loss: 0.3481 - val_accuracy: 0.9722\n",
      "Epoch 295/500\n",
      "3/3 [==============================] - 0s 8ms/step - loss: 0.3471 - accuracy: 0.9286 - val_loss: 0.3471 - val_accuracy: 0.9722\n",
      "Epoch 296/500\n",
      "3/3 [==============================] - 0s 8ms/step - loss: 0.3462 - accuracy: 0.9286 - val_loss: 0.3462 - val_accuracy: 0.9722\n",
      "Epoch 297/500\n",
      "3/3 [==============================] - 0s 8ms/step - loss: 0.3455 - accuracy: 0.9286 - val_loss: 0.3453 - val_accuracy: 0.9722\n",
      "Epoch 298/500\n",
      "3/3 [==============================] - 0s 8ms/step - loss: 0.3447 - accuracy: 0.9405 - val_loss: 0.3443 - val_accuracy: 0.9722\n",
      "Epoch 299/500\n",
      "3/3 [==============================] - 0s 8ms/step - loss: 0.3439 - accuracy: 0.9405 - val_loss: 0.3433 - val_accuracy: 0.9722\n",
      "Epoch 300/500\n",
      "3/3 [==============================] - 0s 9ms/step - loss: 0.3433 - accuracy: 0.9405 - val_loss: 0.3423 - val_accuracy: 0.9722\n",
      "Epoch 301/500\n",
      "3/3 [==============================] - 0s 9ms/step - loss: 0.3425 - accuracy: 0.9405 - val_loss: 0.3413 - val_accuracy: 0.9722\n",
      "Epoch 302/500\n",
      "3/3 [==============================] - 0s 9ms/step - loss: 0.3417 - accuracy: 0.9524 - val_loss: 0.3404 - val_accuracy: 0.9722\n",
      "Epoch 303/500\n",
      "3/3 [==============================] - 0s 9ms/step - loss: 0.3409 - accuracy: 0.9524 - val_loss: 0.3395 - val_accuracy: 0.9722\n",
      "Epoch 304/500\n",
      "3/3 [==============================] - 0s 8ms/step - loss: 0.3402 - accuracy: 0.9524 - val_loss: 0.3386 - val_accuracy: 0.9722\n",
      "Epoch 305/500\n",
      "3/3 [==============================] - 0s 10ms/step - loss: 0.3393 - accuracy: 0.9524 - val_loss: 0.3377 - val_accuracy: 0.9722\n",
      "Epoch 306/500\n",
      "3/3 [==============================] - 0s 11ms/step - loss: 0.3386 - accuracy: 0.9524 - val_loss: 0.3368 - val_accuracy: 0.9722\n",
      "Epoch 307/500\n",
      "3/3 [==============================] - 0s 11ms/step - loss: 0.3381 - accuracy: 0.9405 - val_loss: 0.3359 - val_accuracy: 0.9722\n",
      "Epoch 308/500\n",
      "3/3 [==============================] - 0s 11ms/step - loss: 0.3372 - accuracy: 0.9405 - val_loss: 0.3350 - val_accuracy: 0.9722\n",
      "Epoch 309/500\n",
      "3/3 [==============================] - 0s 10ms/step - loss: 0.3364 - accuracy: 0.9524 - val_loss: 0.3340 - val_accuracy: 0.9722\n",
      "Epoch 310/500\n",
      "3/3 [==============================] - 0s 10ms/step - loss: 0.3356 - accuracy: 0.9524 - val_loss: 0.3331 - val_accuracy: 0.9722\n",
      "Epoch 311/500\n",
      "3/3 [==============================] - 0s 10ms/step - loss: 0.3350 - accuracy: 0.9643 - val_loss: 0.3322 - val_accuracy: 0.9722\n",
      "Epoch 312/500\n",
      "3/3 [==============================] - 0s 11ms/step - loss: 0.3342 - accuracy: 0.9643 - val_loss: 0.3312 - val_accuracy: 0.9722\n",
      "Epoch 313/500\n",
      "3/3 [==============================] - 0s 9ms/step - loss: 0.3334 - accuracy: 0.9643 - val_loss: 0.3304 - val_accuracy: 0.9722\n",
      "Epoch 314/500\n",
      "3/3 [==============================] - 0s 8ms/step - loss: 0.3326 - accuracy: 0.9643 - val_loss: 0.3295 - val_accuracy: 0.9722\n",
      "Epoch 315/500\n",
      "3/3 [==============================] - 0s 9ms/step - loss: 0.3322 - accuracy: 0.9524 - val_loss: 0.3287 - val_accuracy: 0.9722\n",
      "Epoch 316/500\n",
      "3/3 [==============================] - 0s 8ms/step - loss: 0.3312 - accuracy: 0.9524 - val_loss: 0.3278 - val_accuracy: 0.9722\n",
      "Epoch 317/500\n",
      "3/3 [==============================] - 0s 9ms/step - loss: 0.3305 - accuracy: 0.9524 - val_loss: 0.3269 - val_accuracy: 0.9722\n",
      "Epoch 318/500\n",
      "3/3 [==============================] - 0s 9ms/step - loss: 0.3298 - accuracy: 0.9524 - val_loss: 0.3260 - val_accuracy: 0.9722\n",
      "Epoch 319/500\n",
      "3/3 [==============================] - 0s 8ms/step - loss: 0.3290 - accuracy: 0.9524 - val_loss: 0.3250 - val_accuracy: 0.9722\n",
      "Epoch 320/500\n",
      "3/3 [==============================] - 0s 8ms/step - loss: 0.3284 - accuracy: 0.9643 - val_loss: 0.3241 - val_accuracy: 0.9722\n",
      "Epoch 321/500\n",
      "3/3 [==============================] - 0s 9ms/step - loss: 0.3275 - accuracy: 0.9643 - val_loss: 0.3232 - val_accuracy: 0.9722\n",
      "Epoch 322/500\n",
      "3/3 [==============================] - 0s 8ms/step - loss: 0.3268 - accuracy: 0.9643 - val_loss: 0.3223 - val_accuracy: 0.9722\n",
      "Epoch 323/500\n",
      "3/3 [==============================] - 0s 8ms/step - loss: 0.3260 - accuracy: 0.9643 - val_loss: 0.3214 - val_accuracy: 0.9722\n",
      "Epoch 324/500\n",
      "3/3 [==============================] - 0s 10ms/step - loss: 0.3253 - accuracy: 0.9643 - val_loss: 0.3204 - val_accuracy: 0.9722\n",
      "Epoch 325/500\n",
      "3/3 [==============================] - 0s 9ms/step - loss: 0.3246 - accuracy: 0.9643 - val_loss: 0.3195 - val_accuracy: 0.9722\n",
      "Epoch 326/500\n",
      "3/3 [==============================] - 0s 8ms/step - loss: 0.3240 - accuracy: 0.9643 - val_loss: 0.3186 - val_accuracy: 0.9722\n",
      "Epoch 327/500\n",
      "3/3 [==============================] - 0s 8ms/step - loss: 0.3231 - accuracy: 0.9643 - val_loss: 0.3177 - val_accuracy: 0.9722\n",
      "Epoch 328/500\n",
      "3/3 [==============================] - 0s 9ms/step - loss: 0.3227 - accuracy: 0.9643 - val_loss: 0.3169 - val_accuracy: 0.9722\n",
      "Epoch 329/500\n",
      "3/3 [==============================] - 0s 12ms/step - loss: 0.3217 - accuracy: 0.9643 - val_loss: 0.3159 - val_accuracy: 0.9722\n",
      "Epoch 330/500\n",
      "3/3 [==============================] - 0s 10ms/step - loss: 0.3209 - accuracy: 0.9643 - val_loss: 0.3150 - val_accuracy: 0.9722\n",
      "Epoch 331/500\n",
      "3/3 [==============================] - 0s 10ms/step - loss: 0.3202 - accuracy: 0.9643 - val_loss: 0.3141 - val_accuracy: 0.9722\n",
      "Epoch 332/500\n",
      "3/3 [==============================] - 0s 11ms/step - loss: 0.3196 - accuracy: 0.9643 - val_loss: 0.3132 - val_accuracy: 0.9722\n",
      "Epoch 333/500\n",
      "3/3 [==============================] - 0s 10ms/step - loss: 0.3188 - accuracy: 0.9643 - val_loss: 0.3123 - val_accuracy: 0.9722\n",
      "Epoch 334/500\n",
      "3/3 [==============================] - 0s 11ms/step - loss: 0.3183 - accuracy: 0.9643 - val_loss: 0.3114 - val_accuracy: 0.9722\n",
      "Epoch 335/500\n",
      "3/3 [==============================] - 0s 12ms/step - loss: 0.3173 - accuracy: 0.9643 - val_loss: 0.3105 - val_accuracy: 0.9722\n",
      "Epoch 336/500\n",
      "3/3 [==============================] - 0s 9ms/step - loss: 0.3167 - accuracy: 0.9643 - val_loss: 0.3097 - val_accuracy: 0.9722\n",
      "Epoch 337/500\n",
      "3/3 [==============================] - 0s 8ms/step - loss: 0.3159 - accuracy: 0.9643 - val_loss: 0.3088 - val_accuracy: 0.9722\n",
      "Epoch 338/500\n",
      "3/3 [==============================] - 0s 8ms/step - loss: 0.3152 - accuracy: 0.9643 - val_loss: 0.3079 - val_accuracy: 0.9722\n",
      "Epoch 339/500\n",
      "3/3 [==============================] - 0s 9ms/step - loss: 0.3145 - accuracy: 0.9643 - val_loss: 0.3070 - val_accuracy: 0.9722\n",
      "Epoch 340/500\n",
      "3/3 [==============================] - 0s 8ms/step - loss: 0.3141 - accuracy: 0.9643 - val_loss: 0.3061 - val_accuracy: 0.9722\n",
      "Epoch 341/500\n",
      "3/3 [==============================] - 0s 9ms/step - loss: 0.3130 - accuracy: 0.9643 - val_loss: 0.3053 - val_accuracy: 0.9722\n",
      "Epoch 342/500\n",
      "3/3 [==============================] - 0s 8ms/step - loss: 0.3124 - accuracy: 0.9643 - val_loss: 0.3044 - val_accuracy: 0.9722\n",
      "Epoch 343/500\n",
      "3/3 [==============================] - 0s 8ms/step - loss: 0.3116 - accuracy: 0.9643 - val_loss: 0.3035 - val_accuracy: 0.9722\n",
      "Epoch 344/500\n",
      "3/3 [==============================] - 0s 10ms/step - loss: 0.3110 - accuracy: 0.9643 - val_loss: 0.3027 - val_accuracy: 0.9722\n",
      "Epoch 345/500\n",
      "3/3 [==============================] - 0s 8ms/step - loss: 0.3104 - accuracy: 0.9643 - val_loss: 0.3018 - val_accuracy: 0.9722\n",
      "Epoch 346/500\n",
      "3/3 [==============================] - 0s 8ms/step - loss: 0.3095 - accuracy: 0.9643 - val_loss: 0.3009 - val_accuracy: 0.9722\n",
      "Epoch 347/500\n",
      "3/3 [==============================] - 0s 9ms/step - loss: 0.3089 - accuracy: 0.9643 - val_loss: 0.3001 - val_accuracy: 0.9722\n",
      "Epoch 348/500\n",
      "3/3 [==============================] - 0s 9ms/step - loss: 0.3082 - accuracy: 0.9643 - val_loss: 0.2992 - val_accuracy: 0.9722\n",
      "Epoch 349/500\n"
     ]
    },
    {
     "name": "stdout",
     "output_type": "stream",
     "text": [
      "3/3 [==============================] - 0s 9ms/step - loss: 0.3074 - accuracy: 0.9643 - val_loss: 0.2984 - val_accuracy: 0.9722\n",
      "Epoch 350/500\n",
      "3/3 [==============================] - 0s 9ms/step - loss: 0.3067 - accuracy: 0.9643 - val_loss: 0.2975 - val_accuracy: 0.9722\n",
      "Epoch 351/500\n",
      "3/3 [==============================] - 0s 8ms/step - loss: 0.3060 - accuracy: 0.9643 - val_loss: 0.2966 - val_accuracy: 0.9722\n",
      "Epoch 352/500\n",
      "3/3 [==============================] - 0s 9ms/step - loss: 0.3053 - accuracy: 0.9643 - val_loss: 0.2958 - val_accuracy: 0.9722\n",
      "Epoch 353/500\n",
      "3/3 [==============================] - 0s 11ms/step - loss: 0.3048 - accuracy: 0.9643 - val_loss: 0.2950 - val_accuracy: 0.9722\n",
      "Epoch 354/500\n",
      "3/3 [==============================] - 0s 11ms/step - loss: 0.3039 - accuracy: 0.9643 - val_loss: 0.2941 - val_accuracy: 0.9722\n",
      "Epoch 355/500\n",
      "3/3 [==============================] - 0s 10ms/step - loss: 0.3034 - accuracy: 0.9643 - val_loss: 0.2933 - val_accuracy: 0.9722\n",
      "Epoch 356/500\n",
      "3/3 [==============================] - 0s 11ms/step - loss: 0.3026 - accuracy: 0.9643 - val_loss: 0.2925 - val_accuracy: 0.9722\n",
      "Epoch 357/500\n",
      "3/3 [==============================] - 0s 11ms/step - loss: 0.3019 - accuracy: 0.9643 - val_loss: 0.2917 - val_accuracy: 0.9722\n",
      "Epoch 358/500\n",
      "3/3 [==============================] - 0s 11ms/step - loss: 0.3011 - accuracy: 0.9643 - val_loss: 0.2908 - val_accuracy: 0.9722\n",
      "Epoch 359/500\n",
      "3/3 [==============================] - 0s 10ms/step - loss: 0.3005 - accuracy: 0.9643 - val_loss: 0.2899 - val_accuracy: 0.9722\n",
      "Epoch 360/500\n",
      "3/3 [==============================] - 0s 9ms/step - loss: 0.2997 - accuracy: 0.9643 - val_loss: 0.2890 - val_accuracy: 0.9722\n",
      "Epoch 361/500\n",
      "3/3 [==============================] - 0s 8ms/step - loss: 0.2991 - accuracy: 0.9643 - val_loss: 0.2882 - val_accuracy: 0.9722\n",
      "Epoch 362/500\n",
      "3/3 [==============================] - 0s 8ms/step - loss: 0.2984 - accuracy: 0.9643 - val_loss: 0.2874 - val_accuracy: 0.9722\n",
      "Epoch 363/500\n",
      "3/3 [==============================] - 0s 8ms/step - loss: 0.2979 - accuracy: 0.9643 - val_loss: 0.2865 - val_accuracy: 0.9722\n",
      "Epoch 364/500\n",
      "3/3 [==============================] - 0s 9ms/step - loss: 0.2971 - accuracy: 0.9643 - val_loss: 0.2856 - val_accuracy: 0.9722\n",
      "Epoch 365/500\n",
      "3/3 [==============================] - 0s 8ms/step - loss: 0.2964 - accuracy: 0.9643 - val_loss: 0.2848 - val_accuracy: 0.9722\n",
      "Epoch 366/500\n",
      "3/3 [==============================] - 0s 8ms/step - loss: 0.2960 - accuracy: 0.9643 - val_loss: 0.2840 - val_accuracy: 0.9722\n",
      "Epoch 367/500\n",
      "3/3 [==============================] - 0s 9ms/step - loss: 0.2950 - accuracy: 0.9643 - val_loss: 0.2831 - val_accuracy: 0.9722\n",
      "Epoch 368/500\n",
      "3/3 [==============================] - 0s 8ms/step - loss: 0.2946 - accuracy: 0.9643 - val_loss: 0.2823 - val_accuracy: 0.9722\n",
      "Epoch 369/500\n",
      "3/3 [==============================] - 0s 8ms/step - loss: 0.2938 - accuracy: 0.9643 - val_loss: 0.2815 - val_accuracy: 0.9722\n",
      "Epoch 370/500\n",
      "3/3 [==============================] - 0s 9ms/step - loss: 0.2931 - accuracy: 0.9643 - val_loss: 0.2806 - val_accuracy: 0.9722\n",
      "Epoch 371/500\n",
      "3/3 [==============================] - 0s 9ms/step - loss: 0.2922 - accuracy: 0.9643 - val_loss: 0.2798 - val_accuracy: 0.9722\n",
      "Epoch 372/500\n",
      "3/3 [==============================] - 0s 8ms/step - loss: 0.2919 - accuracy: 0.9643 - val_loss: 0.2790 - val_accuracy: 0.9722\n",
      "Epoch 373/500\n",
      "3/3 [==============================] - 0s 8ms/step - loss: 0.2910 - accuracy: 0.9643 - val_loss: 0.2782 - val_accuracy: 0.9722\n",
      "Epoch 374/500\n",
      "3/3 [==============================] - 0s 9ms/step - loss: 0.2902 - accuracy: 0.9643 - val_loss: 0.2774 - val_accuracy: 0.9722\n",
      "Epoch 375/500\n",
      "3/3 [==============================] - 0s 9ms/step - loss: 0.2896 - accuracy: 0.9643 - val_loss: 0.2766 - val_accuracy: 0.9722\n",
      "Epoch 376/500\n",
      "3/3 [==============================] - 0s 11ms/step - loss: 0.2889 - accuracy: 0.9643 - val_loss: 0.2758 - val_accuracy: 0.9722\n",
      "Epoch 377/500\n",
      "3/3 [==============================] - 0s 9ms/step - loss: 0.2883 - accuracy: 0.9643 - val_loss: 0.2750 - val_accuracy: 0.9722\n",
      "Epoch 378/500\n",
      "3/3 [==============================] - 0s 10ms/step - loss: 0.2876 - accuracy: 0.9643 - val_loss: 0.2742 - val_accuracy: 0.9722\n",
      "Epoch 379/500\n",
      "3/3 [==============================] - 0s 11ms/step - loss: 0.2871 - accuracy: 0.9643 - val_loss: 0.2734 - val_accuracy: 0.9722\n",
      "Epoch 380/500\n",
      "3/3 [==============================] - 0s 12ms/step - loss: 0.2864 - accuracy: 0.9643 - val_loss: 0.2727 - val_accuracy: 0.9722\n",
      "Epoch 381/500\n",
      "3/3 [==============================] - 0s 9ms/step - loss: 0.2859 - accuracy: 0.9643 - val_loss: 0.2720 - val_accuracy: 0.9722\n",
      "Epoch 382/500\n",
      "3/3 [==============================] - 0s 10ms/step - loss: 0.2852 - accuracy: 0.9643 - val_loss: 0.2711 - val_accuracy: 0.9722\n",
      "Epoch 383/500\n",
      "3/3 [==============================] - 0s 8ms/step - loss: 0.2844 - accuracy: 0.9643 - val_loss: 0.2702 - val_accuracy: 0.9722\n",
      "Epoch 384/500\n",
      "3/3 [==============================] - 0s 9ms/step - loss: 0.2838 - accuracy: 0.9643 - val_loss: 0.2693 - val_accuracy: 0.9722\n",
      "Epoch 385/500\n",
      "3/3 [==============================] - 0s 8ms/step - loss: 0.2834 - accuracy: 0.9643 - val_loss: 0.2684 - val_accuracy: 0.9722\n",
      "Epoch 386/500\n",
      "3/3 [==============================] - 0s 9ms/step - loss: 0.2824 - accuracy: 0.9643 - val_loss: 0.2676 - val_accuracy: 0.9722\n",
      "Epoch 387/500\n",
      "3/3 [==============================] - 0s 8ms/step - loss: 0.2816 - accuracy: 0.9643 - val_loss: 0.2668 - val_accuracy: 0.9722\n",
      "Epoch 388/500\n",
      "3/3 [==============================] - 0s 8ms/step - loss: 0.2812 - accuracy: 0.9643 - val_loss: 0.2661 - val_accuracy: 0.9722\n",
      "Epoch 389/500\n",
      "3/3 [==============================] - 0s 8ms/step - loss: 0.2804 - accuracy: 0.9643 - val_loss: 0.2653 - val_accuracy: 0.9722\n",
      "Epoch 390/500\n",
      "3/3 [==============================] - 0s 9ms/step - loss: 0.2797 - accuracy: 0.9643 - val_loss: 0.2645 - val_accuracy: 0.9722\n",
      "Epoch 391/500\n",
      "3/3 [==============================] - 0s 8ms/step - loss: 0.2789 - accuracy: 0.9643 - val_loss: 0.2637 - val_accuracy: 0.9722\n",
      "Epoch 392/500\n",
      "3/3 [==============================] - 0s 8ms/step - loss: 0.2785 - accuracy: 0.9643 - val_loss: 0.2630 - val_accuracy: 0.9722\n",
      "Epoch 393/500\n",
      "3/3 [==============================] - 0s 9ms/step - loss: 0.2779 - accuracy: 0.9643 - val_loss: 0.2623 - val_accuracy: 0.9722\n",
      "Epoch 394/500\n",
      "3/3 [==============================] - 0s 9ms/step - loss: 0.2773 - accuracy: 0.9643 - val_loss: 0.2615 - val_accuracy: 0.9722\n",
      "Epoch 395/500\n",
      "3/3 [==============================] - 0s 8ms/step - loss: 0.2767 - accuracy: 0.9643 - val_loss: 0.2607 - val_accuracy: 0.9722\n",
      "Epoch 396/500\n",
      "3/3 [==============================] - 0s 9ms/step - loss: 0.2760 - accuracy: 0.9643 - val_loss: 0.2599 - val_accuracy: 0.9722\n",
      "Epoch 397/500\n",
      "3/3 [==============================] - 0s 8ms/step - loss: 0.2753 - accuracy: 0.9643 - val_loss: 0.2591 - val_accuracy: 0.9722\n",
      "Epoch 398/500\n",
      "3/3 [==============================] - 0s 8ms/step - loss: 0.2746 - accuracy: 0.9643 - val_loss: 0.2583 - val_accuracy: 0.9722\n",
      "Epoch 399/500\n",
      "3/3 [==============================] - 0s 9ms/step - loss: 0.2739 - accuracy: 0.9643 - val_loss: 0.2576 - val_accuracy: 0.9722\n",
      "Epoch 400/500\n",
      "3/3 [==============================] - 0s 10ms/step - loss: 0.2739 - accuracy: 0.9643 - val_loss: 0.2570 - val_accuracy: 1.0000\n",
      "Epoch 401/500\n",
      "3/3 [==============================] - 0s 10ms/step - loss: 0.2728 - accuracy: 0.9643 - val_loss: 0.2562 - val_accuracy: 1.0000\n",
      "Epoch 402/500\n",
      "3/3 [==============================] - 0s 10ms/step - loss: 0.2722 - accuracy: 0.9643 - val_loss: 0.2554 - val_accuracy: 1.0000\n",
      "Epoch 403/500\n",
      "3/3 [==============================] - 0s 10ms/step - loss: 0.2716 - accuracy: 0.9643 - val_loss: 0.2546 - val_accuracy: 1.0000\n",
      "Epoch 404/500\n",
      "3/3 [==============================] - 0s 11ms/step - loss: 0.2710 - accuracy: 0.9643 - val_loss: 0.2538 - val_accuracy: 1.0000\n",
      "Epoch 405/500\n",
      "3/3 [==============================] - 0s 11ms/step - loss: 0.2703 - accuracy: 0.9643 - val_loss: 0.2531 - val_accuracy: 1.0000\n",
      "Epoch 406/500\n",
      "3/3 [==============================] - 0s 10ms/step - loss: 0.2699 - accuracy: 0.9643 - val_loss: 0.2524 - val_accuracy: 1.0000\n",
      "Epoch 407/500\n"
     ]
    },
    {
     "name": "stdout",
     "output_type": "stream",
     "text": [
      "3/3 [==============================] - 0s 10ms/step - loss: 0.2692 - accuracy: 0.9643 - val_loss: 0.2517 - val_accuracy: 1.0000\n",
      "Epoch 408/500\n",
      "3/3 [==============================] - 0s 10ms/step - loss: 0.2683 - accuracy: 0.9643 - val_loss: 0.2509 - val_accuracy: 1.0000\n",
      "Epoch 409/500\n",
      "3/3 [==============================] - 0s 8ms/step - loss: 0.2677 - accuracy: 0.9643 - val_loss: 0.2500 - val_accuracy: 1.0000\n",
      "Epoch 410/500\n",
      "3/3 [==============================] - 0s 8ms/step - loss: 0.2672 - accuracy: 0.9643 - val_loss: 0.2493 - val_accuracy: 1.0000\n",
      "Epoch 411/500\n",
      "3/3 [==============================] - 0s 8ms/step - loss: 0.2670 - accuracy: 0.9643 - val_loss: 0.2486 - val_accuracy: 0.9722\n",
      "Epoch 412/500\n",
      "3/3 [==============================] - 0s 9ms/step - loss: 0.2661 - accuracy: 0.9643 - val_loss: 0.2479 - val_accuracy: 0.9722\n",
      "Epoch 413/500\n",
      "3/3 [==============================] - 0s 9ms/step - loss: 0.2656 - accuracy: 0.9643 - val_loss: 0.2472 - val_accuracy: 0.9722\n",
      "Epoch 414/500\n",
      "3/3 [==============================] - 0s 9ms/step - loss: 0.2650 - accuracy: 0.9643 - val_loss: 0.2464 - val_accuracy: 0.9722\n",
      "Epoch 415/500\n",
      "3/3 [==============================] - 0s 8ms/step - loss: 0.2642 - accuracy: 0.9643 - val_loss: 0.2456 - val_accuracy: 0.9722\n",
      "Epoch 416/500\n",
      "3/3 [==============================] - 0s 9ms/step - loss: 0.2638 - accuracy: 0.9643 - val_loss: 0.2449 - val_accuracy: 1.0000\n",
      "Epoch 417/500\n",
      "3/3 [==============================] - 0s 9ms/step - loss: 0.2631 - accuracy: 0.9643 - val_loss: 0.2442 - val_accuracy: 1.0000\n",
      "Epoch 418/500\n",
      "3/3 [==============================] - 0s 8ms/step - loss: 0.2623 - accuracy: 0.9643 - val_loss: 0.2435 - val_accuracy: 1.0000\n",
      "Epoch 419/500\n",
      "3/3 [==============================] - 0s 8ms/step - loss: 0.2616 - accuracy: 0.9643 - val_loss: 0.2428 - val_accuracy: 1.0000\n",
      "Epoch 420/500\n",
      "3/3 [==============================] - 0s 8ms/step - loss: 0.2610 - accuracy: 0.9643 - val_loss: 0.2422 - val_accuracy: 1.0000\n",
      "Epoch 421/500\n",
      "3/3 [==============================] - 0s 9ms/step - loss: 0.2605 - accuracy: 0.9643 - val_loss: 0.2415 - val_accuracy: 1.0000\n",
      "Epoch 422/500\n",
      "3/3 [==============================] - 0s 9ms/step - loss: 0.2600 - accuracy: 0.9643 - val_loss: 0.2408 - val_accuracy: 1.0000\n",
      "Epoch 423/500\n",
      "3/3 [==============================] - 0s 8ms/step - loss: 0.2597 - accuracy: 0.9643 - val_loss: 0.2402 - val_accuracy: 1.0000\n",
      "Epoch 424/500\n",
      "3/3 [==============================] - 0s 9ms/step - loss: 0.2588 - accuracy: 0.9643 - val_loss: 0.2394 - val_accuracy: 1.0000\n",
      "Epoch 425/500\n",
      "3/3 [==============================] - 0s 9ms/step - loss: 0.2583 - accuracy: 0.9643 - val_loss: 0.2386 - val_accuracy: 1.0000\n",
      "Epoch 426/500\n",
      "3/3 [==============================] - 0s 10ms/step - loss: 0.2576 - accuracy: 0.9643 - val_loss: 0.2378 - val_accuracy: 1.0000\n",
      "Epoch 427/500\n",
      "3/3 [==============================] - 0s 14ms/step - loss: 0.2570 - accuracy: 0.9643 - val_loss: 0.2371 - val_accuracy: 1.0000\n",
      "Epoch 428/500\n",
      "3/3 [==============================] - 0s 11ms/step - loss: 0.2564 - accuracy: 0.9643 - val_loss: 0.2363 - val_accuracy: 1.0000\n",
      "Epoch 429/500\n",
      "3/3 [==============================] - 0s 12ms/step - loss: 0.2560 - accuracy: 0.9643 - val_loss: 0.2356 - val_accuracy: 1.0000\n",
      "Epoch 430/500\n",
      "3/3 [==============================] - 0s 10ms/step - loss: 0.2552 - accuracy: 0.9643 - val_loss: 0.2349 - val_accuracy: 1.0000\n",
      "Epoch 431/500\n",
      "3/3 [==============================] - 0s 8ms/step - loss: 0.2546 - accuracy: 0.9643 - val_loss: 0.2342 - val_accuracy: 1.0000\n",
      "Epoch 432/500\n",
      "3/3 [==============================] - 0s 9ms/step - loss: 0.2540 - accuracy: 0.9643 - val_loss: 0.2335 - val_accuracy: 1.0000\n",
      "Epoch 433/500\n",
      "3/3 [==============================] - 0s 8ms/step - loss: 0.2535 - accuracy: 0.9643 - val_loss: 0.2329 - val_accuracy: 1.0000\n",
      "Epoch 434/500\n",
      "3/3 [==============================] - 0s 9ms/step - loss: 0.2532 - accuracy: 0.9643 - val_loss: 0.2322 - val_accuracy: 1.0000\n",
      "Epoch 435/500\n",
      "3/3 [==============================] - 0s 9ms/step - loss: 0.2523 - accuracy: 0.9643 - val_loss: 0.2315 - val_accuracy: 1.0000\n",
      "Epoch 436/500\n",
      "3/3 [==============================] - 0s 8ms/step - loss: 0.2517 - accuracy: 0.9643 - val_loss: 0.2308 - val_accuracy: 1.0000\n",
      "Epoch 437/500\n",
      "3/3 [==============================] - 0s 8ms/step - loss: 0.2514 - accuracy: 0.9643 - val_loss: 0.2301 - val_accuracy: 1.0000\n",
      "Epoch 438/500\n",
      "3/3 [==============================] - 0s 9ms/step - loss: 0.2506 - accuracy: 0.9643 - val_loss: 0.2294 - val_accuracy: 1.0000\n",
      "Epoch 439/500\n",
      "3/3 [==============================] - 0s 8ms/step - loss: 0.2502 - accuracy: 0.9643 - val_loss: 0.2287 - val_accuracy: 1.0000\n",
      "Epoch 440/500\n",
      "3/3 [==============================] - 0s 9ms/step - loss: 0.2495 - accuracy: 0.9643 - val_loss: 0.2280 - val_accuracy: 1.0000\n",
      "Epoch 441/500\n",
      "3/3 [==============================] - 0s 8ms/step - loss: 0.2489 - accuracy: 0.9643 - val_loss: 0.2274 - val_accuracy: 1.0000\n",
      "Epoch 442/500\n",
      "3/3 [==============================] - 0s 8ms/step - loss: 0.2483 - accuracy: 0.9643 - val_loss: 0.2267 - val_accuracy: 1.0000\n",
      "Epoch 443/500\n",
      "3/3 [==============================] - 0s 8ms/step - loss: 0.2483 - accuracy: 0.9643 - val_loss: 0.2261 - val_accuracy: 1.0000\n",
      "Epoch 444/500\n",
      "3/3 [==============================] - 0s 8ms/step - loss: 0.2473 - accuracy: 0.9643 - val_loss: 0.2254 - val_accuracy: 1.0000\n",
      "Epoch 445/500\n",
      "3/3 [==============================] - 0s 9ms/step - loss: 0.2468 - accuracy: 0.9643 - val_loss: 0.2247 - val_accuracy: 1.0000\n",
      "Epoch 446/500\n",
      "3/3 [==============================] - 0s 8ms/step - loss: 0.2462 - accuracy: 0.9643 - val_loss: 0.2240 - val_accuracy: 1.0000\n",
      "Epoch 447/500\n",
      "3/3 [==============================] - 0s 8ms/step - loss: 0.2455 - accuracy: 0.9643 - val_loss: 0.2233 - val_accuracy: 1.0000\n",
      "Epoch 448/500\n",
      "3/3 [==============================] - 0s 8ms/step - loss: 0.2451 - accuracy: 0.9643 - val_loss: 0.2227 - val_accuracy: 1.0000\n",
      "Epoch 449/500\n",
      "3/3 [==============================] - 0s 8ms/step - loss: 0.2445 - accuracy: 0.9643 - val_loss: 0.2221 - val_accuracy: 1.0000\n",
      "Epoch 450/500\n",
      "3/3 [==============================] - 0s 9ms/step - loss: 0.2444 - accuracy: 0.9643 - val_loss: 0.2214 - val_accuracy: 1.0000\n",
      "Epoch 451/500\n",
      "3/3 [==============================] - 0s 8ms/step - loss: 0.2434 - accuracy: 0.9643 - val_loss: 0.2208 - val_accuracy: 1.0000\n",
      "Epoch 452/500\n",
      "3/3 [==============================] - 0s 8ms/step - loss: 0.2428 - accuracy: 0.9643 - val_loss: 0.2202 - val_accuracy: 1.0000\n",
      "Epoch 453/500\n",
      "3/3 [==============================] - 0s 8ms/step - loss: 0.2423 - accuracy: 0.9643 - val_loss: 0.2196 - val_accuracy: 1.0000\n",
      "Epoch 454/500\n",
      "3/3 [==============================] - 0s 8ms/step - loss: 0.2417 - accuracy: 0.9643 - val_loss: 0.2190 - val_accuracy: 1.0000\n",
      "Epoch 455/500\n",
      "3/3 [==============================] - 0s 8ms/step - loss: 0.2413 - accuracy: 0.9643 - val_loss: 0.2184 - val_accuracy: 1.0000\n",
      "Epoch 456/500\n",
      "3/3 [==============================] - 0s 9ms/step - loss: 0.2407 - accuracy: 0.9643 - val_loss: 0.2177 - val_accuracy: 1.0000\n",
      "Epoch 457/500\n",
      "3/3 [==============================] - 0s 8ms/step - loss: 0.2401 - accuracy: 0.9643 - val_loss: 0.2170 - val_accuracy: 1.0000\n",
      "Epoch 458/500\n",
      "3/3 [==============================] - 0s 8ms/step - loss: 0.2395 - accuracy: 0.9643 - val_loss: 0.2162 - val_accuracy: 1.0000\n",
      "Epoch 459/500\n",
      "3/3 [==============================] - 0s 8ms/step - loss: 0.2390 - accuracy: 0.9643 - val_loss: 0.2155 - val_accuracy: 1.0000\n",
      "Epoch 460/500\n",
      "3/3 [==============================] - 0s 9ms/step - loss: 0.2384 - accuracy: 0.9643 - val_loss: 0.2148 - val_accuracy: 1.0000\n",
      "Epoch 461/500\n",
      "3/3 [==============================] - 0s 9ms/step - loss: 0.2379 - accuracy: 0.9643 - val_loss: 0.2142 - val_accuracy: 1.0000\n",
      "Epoch 462/500\n",
      "3/3 [==============================] - 0s 8ms/step - loss: 0.2373 - accuracy: 0.9643 - val_loss: 0.2135 - val_accuracy: 1.0000\n",
      "Epoch 463/500\n",
      "3/3 [==============================] - 0s 8ms/step - loss: 0.2369 - accuracy: 0.9643 - val_loss: 0.2129 - val_accuracy: 1.0000\n",
      "Epoch 464/500\n",
      "3/3 [==============================] - 0s 9ms/step - loss: 0.2364 - accuracy: 0.9643 - val_loss: 0.2123 - val_accuracy: 1.0000\n",
      "Epoch 465/500\n"
     ]
    },
    {
     "name": "stdout",
     "output_type": "stream",
     "text": [
      "3/3 [==============================] - 0s 8ms/step - loss: 0.2356 - accuracy: 0.9643 - val_loss: 0.2118 - val_accuracy: 1.0000\n",
      "Epoch 466/500\n",
      "3/3 [==============================] - 0s 8ms/step - loss: 0.2352 - accuracy: 0.9643 - val_loss: 0.2115 - val_accuracy: 1.0000\n",
      "Epoch 467/500\n",
      "3/3 [==============================] - 0s 9ms/step - loss: 0.2347 - accuracy: 0.9643 - val_loss: 0.2112 - val_accuracy: 1.0000\n",
      "Epoch 468/500\n",
      "3/3 [==============================] - 0s 9ms/step - loss: 0.2345 - accuracy: 0.9643 - val_loss: 0.2109 - val_accuracy: 1.0000\n",
      "Epoch 469/500\n",
      "3/3 [==============================] - 0s 9ms/step - loss: 0.2340 - accuracy: 0.9643 - val_loss: 0.2103 - val_accuracy: 1.0000\n",
      "Epoch 470/500\n",
      "3/3 [==============================] - 0s 9ms/step - loss: 0.2335 - accuracy: 0.9643 - val_loss: 0.2097 - val_accuracy: 1.0000\n",
      "Epoch 471/500\n",
      "3/3 [==============================] - 0s 9ms/step - loss: 0.2329 - accuracy: 0.9643 - val_loss: 0.2088 - val_accuracy: 1.0000\n",
      "Epoch 472/500\n",
      "3/3 [==============================] - 0s 9ms/step - loss: 0.2324 - accuracy: 0.9643 - val_loss: 0.2078 - val_accuracy: 1.0000\n",
      "Epoch 473/500\n",
      "3/3 [==============================] - 0s 14ms/step - loss: 0.2316 - accuracy: 0.9643 - val_loss: 0.2071 - val_accuracy: 1.0000\n",
      "Epoch 474/500\n",
      "3/3 [==============================] - 0s 11ms/step - loss: 0.2313 - accuracy: 0.9643 - val_loss: 0.2062 - val_accuracy: 1.0000\n",
      "Epoch 475/500\n",
      "3/3 [==============================] - 0s 11ms/step - loss: 0.2307 - accuracy: 0.9643 - val_loss: 0.2056 - val_accuracy: 1.0000\n",
      "Epoch 476/500\n",
      "3/3 [==============================] - 0s 9ms/step - loss: 0.2301 - accuracy: 0.9643 - val_loss: 0.2049 - val_accuracy: 1.0000\n",
      "Epoch 477/500\n",
      "3/3 [==============================] - 0s 11ms/step - loss: 0.2296 - accuracy: 0.9643 - val_loss: 0.2042 - val_accuracy: 1.0000\n",
      "Epoch 478/500\n",
      "3/3 [==============================] - 0s 14ms/step - loss: 0.2296 - accuracy: 0.9643 - val_loss: 0.2036 - val_accuracy: 1.0000\n",
      "Epoch 479/500\n",
      "3/3 [==============================] - 0s 12ms/step - loss: 0.2288 - accuracy: 0.9643 - val_loss: 0.2031 - val_accuracy: 1.0000\n",
      "Epoch 480/500\n",
      "3/3 [==============================] - 0s 10ms/step - loss: 0.2280 - accuracy: 0.9643 - val_loss: 0.2026 - val_accuracy: 1.0000\n",
      "Epoch 481/500\n",
      "3/3 [==============================] - 0s 10ms/step - loss: 0.2275 - accuracy: 0.9643 - val_loss: 0.2022 - val_accuracy: 1.0000\n",
      "Epoch 482/500\n",
      "3/3 [==============================] - 0s 9ms/step - loss: 0.2270 - accuracy: 0.9643 - val_loss: 0.2016 - val_accuracy: 1.0000\n",
      "Epoch 483/500\n",
      "3/3 [==============================] - 0s 9ms/step - loss: 0.2266 - accuracy: 0.9643 - val_loss: 0.2011 - val_accuracy: 1.0000\n",
      "Epoch 484/500\n",
      "3/3 [==============================] - 0s 8ms/step - loss: 0.2261 - accuracy: 0.9643 - val_loss: 0.2004 - val_accuracy: 1.0000\n",
      "Epoch 485/500\n",
      "3/3 [==============================] - 0s 8ms/step - loss: 0.2255 - accuracy: 0.9643 - val_loss: 0.1998 - val_accuracy: 1.0000\n",
      "Epoch 486/500\n",
      "3/3 [==============================] - 0s 8ms/step - loss: 0.2250 - accuracy: 0.9643 - val_loss: 0.1992 - val_accuracy: 1.0000\n",
      "Epoch 487/500\n",
      "3/3 [==============================] - 0s 9ms/step - loss: 0.2246 - accuracy: 0.9643 - val_loss: 0.1986 - val_accuracy: 1.0000\n",
      "Epoch 488/500\n",
      "3/3 [==============================] - 0s 10ms/step - loss: 0.2241 - accuracy: 0.9643 - val_loss: 0.1980 - val_accuracy: 1.0000\n",
      "Epoch 489/500\n",
      "3/3 [==============================] - 0s 9ms/step - loss: 0.2235 - accuracy: 0.9643 - val_loss: 0.1974 - val_accuracy: 1.0000\n",
      "Epoch 490/500\n",
      "3/3 [==============================] - 0s 8ms/step - loss: 0.2230 - accuracy: 0.9643 - val_loss: 0.1968 - val_accuracy: 1.0000\n",
      "Epoch 491/500\n",
      "3/3 [==============================] - 0s 9ms/step - loss: 0.2225 - accuracy: 0.9643 - val_loss: 0.1962 - val_accuracy: 1.0000\n",
      "Epoch 492/500\n",
      "3/3 [==============================] - 0s 13ms/step - loss: 0.2224 - accuracy: 0.9643 - val_loss: 0.1956 - val_accuracy: 1.0000\n",
      "Epoch 493/500\n",
      "3/3 [==============================] - 0s 10ms/step - loss: 0.2215 - accuracy: 0.9643 - val_loss: 0.1952 - val_accuracy: 1.0000\n",
      "Epoch 494/500\n",
      "3/3 [==============================] - 0s 10ms/step - loss: 0.2212 - accuracy: 0.9643 - val_loss: 0.1948 - val_accuracy: 1.0000\n",
      "Epoch 495/500\n",
      "3/3 [==============================] - 0s 10ms/step - loss: 0.2206 - accuracy: 0.9643 - val_loss: 0.1942 - val_accuracy: 1.0000\n",
      "Epoch 496/500\n",
      "3/3 [==============================] - 0s 10ms/step - loss: 0.2202 - accuracy: 0.9643 - val_loss: 0.1937 - val_accuracy: 1.0000\n",
      "Epoch 497/500\n",
      "3/3 [==============================] - 0s 9ms/step - loss: 0.2195 - accuracy: 0.9643 - val_loss: 0.1929 - val_accuracy: 1.0000\n",
      "Epoch 498/500\n",
      "3/3 [==============================] - 0s 9ms/step - loss: 0.2190 - accuracy: 0.9643 - val_loss: 0.1921 - val_accuracy: 1.0000\n",
      "Epoch 499/500\n",
      "3/3 [==============================] - 0s 9ms/step - loss: 0.2185 - accuracy: 0.9643 - val_loss: 0.1914 - val_accuracy: 1.0000\n",
      "Epoch 500/500\n",
      "3/3 [==============================] - 0s 10ms/step - loss: 0.2182 - accuracy: 0.9643 - val_loss: 0.1908 - val_accuracy: 1.0000\n",
      "CPU times: user 12.8 s, sys: 977 ms, total: 13.8 s\n",
      "Wall time: 10.7 s\n"
     ]
    },
    {
     "data": {
      "text/plain": [
       "<keras.callbacks.History at 0x7f9a2c82a280>"
      ]
     },
     "execution_count": 56,
     "metadata": {},
     "output_type": "execute_result"
    }
   ],
   "source": [
    "# %time model.fit(X_train, y_train, epochs=500, validation_split=0.3, callbacks=[tb_callback])\n",
    "%time model.fit(X_train, y_train, epochs=500, validation_split=0.3)"
   ]
  },
  {
   "cell_type": "markdown",
   "metadata": {},
   "source": [
    "# Bewertung"
   ]
  },
  {
   "cell_type": "code",
   "execution_count": 57,
   "metadata": {},
   "outputs": [
    {
     "data": {
      "text/plain": [
       "array([[9.8455542e-01, 1.5442208e-02, 2.3946138e-06]], dtype=float32)"
      ]
     },
     "execution_count": 57,
     "metadata": {},
     "output_type": "execute_result"
    }
   ],
   "source": [
    "model.predict(np.array([[ 5.1,  3.5,  1.4,  0.2]]))"
   ]
  },
  {
   "cell_type": "code",
   "execution_count": 58,
   "metadata": {},
   "outputs": [
    {
     "data": {
      "text/plain": [
       "(array([5.1, 3.5, 1.4, 0.2]), array([1., 0., 0.], dtype=float32))"
      ]
     },
     "execution_count": 58,
     "metadata": {},
     "output_type": "execute_result"
    }
   ],
   "source": [
    "X[0], y[0]"
   ]
  },
  {
   "cell_type": "code",
   "execution_count": 59,
   "metadata": {},
   "outputs": [
    {
     "name": "stdout",
     "output_type": "stream",
     "text": [
      "4/4 [==============================] - 0s 1ms/step - loss: 0.2097 - accuracy: 0.9750\n"
     ]
    },
    {
     "data": {
      "text/plain": [
       "(0.2097375988960266, 0.9750000238418579)"
      ]
     },
     "execution_count": 59,
     "metadata": {},
     "output_type": "execute_result"
    }
   ],
   "source": [
    "train_loss, train_accuracy = model.evaluate(X_train, y_train)\n",
    "train_loss, train_accuracy"
   ]
  },
  {
   "cell_type": "code",
   "execution_count": 60,
   "metadata": {},
   "outputs": [
    {
     "name": "stdout",
     "output_type": "stream",
     "text": [
      "1/1 [==============================] - 0s 14ms/step - loss: 0.1936 - accuracy: 1.0000\n"
     ]
    },
    {
     "data": {
      "text/plain": [
       "(0.19359956681728363, 1.0)"
      ]
     },
     "execution_count": 60,
     "metadata": {},
     "output_type": "execute_result"
    }
   ],
   "source": [
    "test_loss, test_accuracy = model.evaluate(X_test, y_test)\n",
    "test_loss, test_accuracy"
   ]
  },
  {
   "cell_type": "code",
   "execution_count": null,
   "metadata": {},
   "outputs": [],
   "source": []
  }
 ],
 "metadata": {
  "kernelspec": {
   "display_name": "Python 3",
   "language": "python",
   "name": "python3"
  },
  "language_info": {
   "codemirror_mode": {
    "name": "ipython",
    "version": 3
   },
   "file_extension": ".py",
   "mimetype": "text/x-python",
   "name": "python",
   "nbconvert_exporter": "python",
   "pygments_lexer": "ipython3",
   "version": "3.9.5"
  }
 },
 "nbformat": 4,
 "nbformat_minor": 2
}
