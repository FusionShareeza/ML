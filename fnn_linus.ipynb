{
 "cells": [
  {
   "cell_type": "markdown",
   "metadata": {},
   "source": [
    "# FNN Linus Etemi"
   ]
  },
  {
   "cell_type": "markdown",
   "metadata": {},
   "source": [
    "## Imports\n"
   ]
  },
  {
   "cell_type": "code",
   "execution_count": 122,
   "metadata": {},
   "outputs": [],
   "source": [
    "TYPE = 'GPU'\n",
    "\n",
    "if TYPE == 'CPU':\n",
    "    import numpy as np\n",
    "else:\n",
    "    import cupy as np\n",
    "    \n",
    "import scipy.special\n",
    "import math\n",
    "import matplotlib\n",
    "import matplotlib.pyplot as matplot\n",
    "import pickle\n",
    "\n",
    "from ray import tune\n",
    "from csv import writer\n"
   ]
  },
  {
   "cell_type": "markdown",
   "metadata": {},
   "source": [
    "## Config"
   ]
  },
  {
   "cell_type": "code",
   "execution_count": 123,
   "metadata": {
    "scrolled": true
   },
   "outputs": [],
   "source": [
    "#hiddennodes_start = 800\n",
    "#hiddennodes_stop = 800\n",
    "#hiddennodes_step = 100\n",
    "\n",
    "#learningrate_start = 0.08\n",
    "#learningrate_stop = 0.08\n",
    "#learningrate_step = 0.01\n",
    "\n",
    "#epochs_start = 1\n",
    "#epochs_stop = 2\n",
    "#epochs_step = 0\n",
    "\n",
    "outputnodes = 10\n",
    "hiddennodes = 900\n",
    "learningrate = 0.05\n",
    "inputnodes = 784\n",
    "epochs= 23\n"
   ]
  },
  {
   "cell_type": "markdown",
   "metadata": {},
   "source": [
    "## Neuronales Netz "
   ]
  },
  {
   "cell_type": "code",
   "execution_count": 124,
   "metadata": {},
   "outputs": [],
   "source": [
    "class neuralNetwork:\n",
    "    def __init__(self, innodes, outnodes, hidnodes, learningrate, epochs):\n",
    "        self.inodes = innodes\n",
    "        self.onodes = outnodes\n",
    "        self.hnodes = hidnodes\n",
    "        self.lr = learningrate\n",
    "        self.epo = epochs\n",
    "        self.wih = ((np.random.rand(self.hnodes,self.inodes)*2)-1)\n",
    "        self.who = ((np.random.rand(self.onodes,self.hnodes)*2)-1)\n",
    "        pass\n",
    "    \n",
    "    def activation_function(self, z: int) -> classmethod:\n",
    "        return 1 / (1 + np.exp(-z))\n",
    "\n",
    "    def train(self, inputs_list, targets_list):\n",
    "        inputs = np.array(inputs_list, ndmin=2).T\n",
    "        targets = np.array(targets_list, ndmin=2).T\n",
    "\n",
    "        hidden_inputs = np.dot(self.wih, inputs)\n",
    "        hidden_outputs = self.activation_function(hidden_inputs)\n",
    "\n",
    "        final_inputs = np.dot(self.who, hidden_outputs)\n",
    "\n",
    "        final_outputs = self.activation_function(final_inputs)\n",
    "        \n",
    "        output_errors = targets - final_outputs\n",
    "        hidden_errors = np.dot(self.who.T, output_errors) \n",
    "        self.who += self.lr * np.dot( (output_errors*final_outputs*(1.0-final_outputs)), np.transpose(hidden_outputs)) \n",
    "        self.wih += self.lr * np.dot( (hidden_errors*hidden_outputs*(1.0-hidden_outputs)), np.transpose(inputs)) \n",
    "        pass\n",
    "\n",
    "    def query(self, input_list):\n",
    "        inputs = np.array(input_list, ndmin=2).T\n",
    "        \n",
    "        hidden_inputs = np.dot(self.wih, inputs)\n",
    "        hidden_outputs = self.activation_function(hidden_inputs)\n",
    "        final_inputs = np.dot(self.who, hidden_outputs)\n",
    "        final_outputs = self.activation_function(final_inputs)\n",
    "        \n",
    "        return final_outputs\n",
    "    \n",
    "\n",
    "    "
   ]
  },
  {
   "cell_type": "code",
   "execution_count": 125,
   "metadata": {},
   "outputs": [],
   "source": [
    "def clear_content(fname: str) -> None:\n",
    "    file = open(fname, \"w+\")\n",
    "    file.close"
   ]
  },
  {
   "cell_type": "markdown",
   "metadata": {},
   "source": [
    "## Train_Network"
   ]
  },
  {
   "cell_type": "code",
   "execution_count": 126,
   "metadata": {},
   "outputs": [],
   "source": [
    "def train_network(n, epo): \n",
    "        #clear_content('mnist_second_train.csv')\n",
    "        training_data_file = open(\"./MNISTData_red/mnist_train_red_8_9_by_90P.csv\", 'r')\n",
    "        training_data_list = training_data_file.readlines()\n",
    "        training_data_file.close()\n",
    "\n",
    "        for e in range(epo):\n",
    "            for record in training_data_list:\n",
    "                all_values = record.split(',')\n",
    "\n",
    "                inputs = (np.asarray(all_values[1:], dtype=np.float64) / 255.0 * 0.99) + 0.01\n",
    "                targets = np.zeros(outputnodes) + 0.01\n",
    "                targets[int(all_values[0])] = 0.99\n",
    "                n.train(inputs, targets)\n",
    "\n",
    "                pass\n",
    "            pass"
   ]
  },
  {
   "cell_type": "markdown",
   "metadata": {},
   "source": [
    "## Train_Network 2\n"
   ]
  },
  {
   "cell_type": "code",
   "execution_count": 127,
   "metadata": {},
   "outputs": [],
   "source": [
    "def train_network2(n2, epo, counter):  \n",
    "        training_data_file = open('./MNISTData_2nd/mnist_second_train.csv', 'r')\n",
    "        training_data_list = training_data_file.readlines()\n",
    "        training_data_file.close()\n",
    "        for e in range(epo):\n",
    "            for record in training_data_list:\n",
    "                all_values = record.split(',')\n",
    "                inputs = (np.asarray(all_values[1:], dtype=np.float64) / 255.0 * 0.99) + 0.01\n",
    "                targets = np.zeros(outputnodes) + 0.01\n",
    "                targets[int(all_values[0])] = 0.99\n",
    "                n2.train(inputs, targets)\n",
    "                pass\n",
    "            pass\n",
    "        pickle.dump(n2, open('./MNISTNet_2nd/neural_network_'+str(counter)+'.obj', 'wb'))"
   ]
  },
  {
   "cell_type": "markdown",
   "metadata": {},
   "source": [
    "## Test_Network1 & Train_Network2"
   ]
  },
  {
   "cell_type": "code",
   "execution_count": 128,
   "metadata": {},
   "outputs": [],
   "source": [
    "def test_network(n):\n",
    "\n",
    "    test_data_file = open(\"./MNISTData_red/mnist_train_red_8_9_by_90P.csv\", 'r')\n",
    "    test_data_list = test_data_file.readlines()\n",
    "    test_data_file.close()\n",
    "    array_data_all = []\n",
    "    scorecard_N_plus = []    \n",
    "    scorecard_N_1R = []\n",
    "    n2 = neuralNetwork(784,10,hiddennodes,learningrate,epochs)   \n",
    "    counter = 0\n",
    "\n",
    "    for i in range(100):\n",
    "        array_data_all.append([])\n",
    "        scorecard_N_plus.append([])\n",
    "        scorecard_N_1R.append([])\n",
    "\n",
    "    for threshold in range(100):\n",
    "        clear_content('./MNISTData_2nd/mnist_second_train.csv')\n",
    "        for record in test_data_list:\n",
    "            all_values = record.rstrip('\\n').split(',')\n",
    "            correct_label = int(all_values[0])\n",
    "            inputs = (np.asarray(all_values[1:], dtype=np.float64) / 255.0 * 0.99) + 0.01\n",
    "            outputs = n.query(inputs)\n",
    "            label_max = outputs[np.argmax(outputs)]\n",
    "            label = np.argmax(outputs)\n",
    "            if(label_max > (threshold/100)):\n",
    "                scorecard_N_plus[threshold].append(1)\n",
    "                if(label == correct_label):\n",
    "                    scorecard_N_1R[threshold].append(1)\n",
    "                else:\n",
    "                    scorecard_N_1R[threshold].append(0)\n",
    "            else:\n",
    "                scorecard_N_plus[threshold].append(0)\n",
    "                append_list_as_row('./MNISTData_2nd/mnist_second_train.csv', all_values)\n",
    "            \n",
    "        train_network2(n2, epochs, counter)\n",
    "        counter += 1\n"
   ]
  },
  {
   "cell_type": "markdown",
   "metadata": {},
   "source": [
    "## Gesamttest\n"
   ]
  },
  {
   "cell_type": "code",
   "execution_count": 129,
   "metadata": {},
   "outputs": [],
   "source": [
    "def test_network2(n1):\n",
    "    test_data_file = open(\"./MNISTData_red/mnist_test_red_8_9_by_90P.csv\", 'r')\n",
    "    test_data_list = test_data_file.readlines()\n",
    "    test_data_file.close()\n",
    "\n",
    "    P = []\n",
    "    Q = []\n",
    "    X = []\n",
    "    # for i in range(100):\n",
    "    #     N_1R.append([])\n",
    "    #     N_plus.append([])\n",
    "    #     N_2R.append([])\n",
    "\n",
    "\n",
    "    Ngesamt = 8215\n",
    "\n",
    "\n",
    "    for threshold in range (0,100):\n",
    "        n2 = pickle.load(open('./MNISTNet_2nd/neural_network_'+str(threshold)+'.obj', 'rb'))\n",
    "        N_plus = []\n",
    "        N_1R= []\n",
    "        N_2R = []\n",
    "\n",
    "        for record in test_data_list:\n",
    "            all_values = record.split(',')\n",
    "            correct_label = int(all_values[0])\n",
    "            inputs = (np.asarray(all_values[1:], dtype=np.float64) / 255.0 * 0.99) + 0.01\n",
    "\n",
    "            outputs_n1 = n1.query(inputs)\n",
    "            label_n1 = np.argmax(outputs_n1)\n",
    "            label_n1_max = outputs_n1[np.argmax(outputs_n1)]\n",
    "\n",
    "            if(label_n1_max > (threshold/100)):\n",
    "                N_plus.append(1)\n",
    "                if(label_n1 == correct_label):\n",
    "                    N_1R.append(1)\n",
    "                    \n",
    "            else:\n",
    "                outputs_n2 = n2.query(inputs)\n",
    "                label_n2 = np.argmax(outputs_n2)\n",
    "\n",
    "                if(label_n2 == correct_label):\n",
    "                    N_2R.append(1)\n",
    "\n",
    "\n",
    "\n",
    "        P.append(len(N_plus)/Ngesamt)\n",
    "        Q.append(len(N_1R)/len(N_plus))\n",
    "        X.append((len(N_1R)+len(N_2R))/Ngesamt)\n",
    "\n",
    "\n",
    "\n",
    "\n",
    "\n",
    "    return P, Q, X"
   ]
  },
  {
   "cell_type": "markdown",
   "metadata": {},
   "source": [
    "## CSV Writer und Grid Search"
   ]
  },
  {
   "cell_type": "code",
   "execution_count": 130,
   "metadata": {},
   "outputs": [],
   "source": [
    "def append_list_as_row(fname,list_of_elem):\n",
    "    with open(fname, 'a+', newline='') as write_obj:\n",
    "        csv_writer = writer(write_obj)\n",
    "        csv_writer.writerow(list_of_elem)"
   ]
  },
  {
   "cell_type": "code",
   "execution_count": 131,
   "metadata": {},
   "outputs": [],
   "source": [
    "#learningrate_i = learningrate_start\n",
    "#hiddennodes_i = hiddennodes_start\n",
    "#epochs_i = epochs_start\n",
    "\n",
    "\n",
    "#while epochs_i <= epochs_stop:\n",
    "#    while hiddennodes_i <= hiddennodes_stop:\n",
    "#        while learningrate_i <= learningrate_stop:\n",
    "#            intermediate_score = neuralNetwork(784,10,hiddennodes_i,learningrate_i,epochs_i).test_train()\n",
    "#            print('Epoch [{:02d}/{:02d}]     | Hidden_Nodes [{:04d}/{:04d}]     | Learning_Rate [{:.2f}/{:.2f}]     | Performance: {:.5f}'.format(epochs_i,epochs_stop,hiddennodes_i,hiddennodes_stop,learningrate_i,learningrate_stop,intermediate_score))\n",
    "#            append_list_as_row([784,10,hiddennodes_i,learningrate_i,epochs_i,intermediate_score])\n",
    "#            learningrate_i += learningrate_step \n",
    "#        learningrate_i = learningrate_start    \n",
    "#        hiddennodes_i += hiddennodes_step\n",
    "#        print(\"========================================================\")\n",
    "#    hiddennodes_i = hiddennodes_start\n",
    "#    epochs_i += epochs_step\n",
    "#    print(\"========================================================\")"
   ]
  },
  {
   "cell_type": "markdown",
   "metadata": {},
   "source": [
    "## Scoring und Aufruf von Beiden Netzen"
   ]
  },
  {
   "cell_type": "code",
   "execution_count": 132,
   "metadata": {},
   "outputs": [],
   "source": [
    "#epochs = 23\n",
    "#n1 = neuralNetwork(784,10,hiddennodes,learningrate,epochs)\n",
    "#train_network(n1, epochs)\n",
    "#pickle.dump(n1, open('./MNISTNet_1st/neural_network_1.obj', 'wb'))\n",
    "# n1 = pickle.load(open('./MNISTNet_1st/neural_network_1.obj', 'rb'))\n",
    "# test_network(n1)"
   ]
  },
  {
   "cell_type": "code",
   "execution_count": 133,
   "metadata": {},
   "outputs": [
    {
     "name": "stdout",
     "output_type": "stream",
     "text": [
      "[1.0, 1.0, 1.0, 1.0, 1.0, 1.0, 1.0, 0.9997565429093123, 0.9997565429093123, 0.9995130858186244, 0.9992696287279367, 0.9990261716372489, 0.9986609860012173, 0.9980523432744979, 0.9978088861838101, 0.9975654290931223, 0.9973219720024346, 0.996956786366403, 0.9967133292757152, 0.9963481436396835, 0.9953743152769324, 0.994887401095557, 0.9941570298234936, 0.9933049300060864, 0.9928180158247109, 0.9923311016433354, 0.9920876445526476, 0.9913572732805843, 0.9905051734631771, 0.9898965307364577, 0.9890444309190505, 0.988557516737675, 0.9881923311016433, 0.9872185027388922, 0.986488131466829, 0.9858794887401096, 0.985514303104078, 0.9844187461959829, 0.9836883749239197, 0.9825928180158248, 0.9818624467437614, 0.9813755325623859, 0.9806451612903225, 0.9802799756542909, 0.9799147900182593, 0.979184418746196, 0.9785757760194765, 0.9780888618381011, 0.97711503347535, 0.9760194765672551, 0.9755325623858795, 0.9745587340231284, 0.9737066342057212, 0.972854534388314, 0.9721241631162507, 0.9712720632988435, 0.969811320754717, 0.9692026780279975, 0.9685940353012782, 0.9681071211199026, 0.9670115642118077, 0.9660377358490566, 0.9644552647595861, 0.9631162507608034, 0.9622641509433962, 0.9612903225806452, 0.9603164942178941, 0.9588557516737675, 0.9570298234936092, 0.956177723676202, 0.9545952525867316, 0.9527693244065734, 0.9515520389531346, 0.9498478393183202, 0.9487522824102252, 0.9471698113207547, 0.9446135118685332, 0.9429093122337188, 0.940596469872185, 0.9371880706025563, 0.9348752282410225, 0.9315885575167376, 0.9287888009738283, 0.9262325015216069, 0.9233110164333537, 0.9201460742544126, 0.9171028606208156, 0.911503347534997, 0.9062690200852099, 0.9006695069993914, 0.8942178940961656, 0.8876445526475959, 0.8799756542909313, 0.8691418137553256, 0.8576993304930006, 0.8430919050517346, 0.8234936092513695, 0.7918441874619598, 0.7412051125989044, 0.6109555690809495] [0.9730979914790018, 0.9730979914790018, 0.9730979914790018, 0.9730979914790018, 0.9730979914790018, 0.9730979914790018, 0.9730979914790018, 0.973213198587605, 0.973213198587605, 0.9733284618195104, 0.9734437812157388, 0.9736810040209577, 0.9737932715748415, 0.9743871203805342, 0.9745028669025253, 0.9746186699206834, 0.9746124740632247, 0.9748473748473748, 0.975085490962384, 0.975320708613317, 0.9759080347315642, 0.9761409519148415, 0.9767356434431248, 0.9770833333333333, 0.9773173124080432, 0.9775515210991168, 0.9777914110429448, 0.9781434184675835, 0.9788619884478309, 0.9790949335956715, 0.9794461538461539, 0.979805442679473, 0.9800443458980045, 0.980517879161529, 0.9807502467917077, 0.9807383627608347, 0.9808547430830039, 0.981080746877705, 0.9810666996658829, 0.9816650148662042, 0.9820233077113811, 0.9823865045894319, 0.9828699106256207, 0.9831118837700236, 0.9831055900621118, 0.9837145698657385, 0.9838288344321433, 0.9838207840696951, 0.9840538183630247, 0.9844100773260165, 0.9846518592463189, 0.9850112415688234, 0.9853731716464558, 0.985985985985986, 0.986351114450288, 0.9865897982203283, 0.9873227061629221, 0.9875659382064808, 0.9876838004272968, 0.987929083364768, 0.9879154078549849, 0.9881552419354839, 0.9882620219613782, 0.9883720930232558, 0.9886148007590133, 0.9889831581613271, 0.9892255038661427, 0.9892090897549829, 0.9895700839481049, 0.9899427116486315, 0.990053557765876, 0.9900344959754696, 0.9905334527312268, 0.9907727797001153, 0.9911470361816782, 0.991389281583344, 0.9920103092783505, 0.9923831655047767, 0.992752685388896, 0.9933757630861151, 0.9936197916666667, 0.9942506206716321, 0.9943643512450852, 0.9943487974766724, 0.9945945945945946, 0.9949728800105834, 0.9949561985664985, 0.9951923076923077, 0.9958361316319677, 0.9962157048249763, 0.9965967873672748, 0.9968458584750411, 0.9973716973301978, 0.9973389355742297, 0.9978711325574794, 0.9981230147271152, 0.9982261640798226, 0.9987701767870869, 0.9990146165215963, 0.9992030284917314] [0.9730979914790018, 0.9730979914790018, 0.9730979914790018, 0.9730979914790018, 0.9730979914790018, 0.9730979914790018, 0.9730979914790018, 0.9729762629336579, 0.9729762629336579, 0.972854534388314, 0.9727328058429702, 0.972854534388314, 0.9726110772976263, 0.9726110772976263, 0.9724893487522824, 0.9724893487522824, 0.9722458916615947, 0.9723676202069386, 0.9723676202069386, 0.9724893487522824, 0.9721241631162507, 0.9720024345709068, 0.9721241631162507, 0.9721241631162507, 0.9722458916615947, 0.9721241631162507, 0.9722458916615947, 0.971880706025563, 0.9717589774802191, 0.9716372489348752, 0.9712720632988435, 0.9712720632988435, 0.9711503347534997, 0.9711503347534997, 0.9705416920267803, 0.9699330493000609, 0.9702982349360925, 0.9704199634814364, 0.9694461351186854, 0.9694461351186854, 0.9695678636640293, 0.9693244065733414, 0.9692026780279975, 0.9688374923919659, 0.9696895922093731, 0.9692026780279975, 0.9687157638466221, 0.9683505782105903, 0.9684723067559343, 0.9685940353012782, 0.9682288496652465, 0.9694461351186854, 0.9690809494826537, 0.9692026780279975, 0.9690809494826537, 0.9682288496652465, 0.9682288496652465, 0.9689592209373098, 0.9694461351186854, 0.9693244065733414, 0.9692026780279975, 0.9683505782105903, 0.9696895922093731, 0.9694461351186854, 0.9687157638466221, 0.9688374923919659, 0.9685940353012782, 0.9672550213024954, 0.9666463785757761, 0.9665246500304321, 0.9672550213024954, 0.9674984783931831, 0.9672550213024954, 0.9654290931223372, 0.9660377358490566, 0.9661594643944005, 0.9650639074863055, 0.9648204503956178, 0.9644552647595861, 0.9643335362142422, 0.9638466220328668, 0.9653073645769933, 0.9638466220328668, 0.9637248934875228, 0.962507608034084, 0.9627510651247717, 0.9626293365794278, 0.9627510651247717, 0.9632379793061473, 0.963481436396835, 0.9631162507608034, 0.963481436396835, 0.962507608034084, 0.9622641509433962, 0.9632379793061473, 0.962507608034084, 0.965550821667681, 0.9689592209373098, 0.9727328058429702, 0.9734631771150335]\n"
     ]
    }
   ],
   "source": [
    "#epochs = 7\n",
    "intermediate_score_card = []\n",
    "#n2 = neuralNetwork(784,10,hiddennodes,learningrate,epochs)\n",
    "#train_network2(n2, epochs)\n",
    "n1 = pickle.load(open('./MNISTNet_1st/neural_network_1.obj', 'rb'))\n",
    "\n",
    "P, Q, X = test_network2(n1)\n",
    "print(P, Q, X)    \n"
   ]
  },
  {
   "cell_type": "markdown",
   "metadata": {},
   "source": [
    "## Plotting"
   ]
  },
  {
   "cell_type": "code",
   "execution_count": 135,
   "metadata": {},
   "outputs": [
    {
     "data": {
      "image/png": "[encoded data removed]",
      "text/plain": [
       "<Figure size 720x360 with 1 Axes>"
      ]
     },
     "metadata": {
      "needs_background": "dark"
     },
     "output_type": "display_data"
    }
   ],
   "source": [
    "l = [0.1, 0.2, 0.3, 0.4, 0.5, 0.6, 0.7, 0.8, 0.9, 1]\n",
    "t_values = []\n",
    "\n",
    "import numpy as np\n",
    "\n",
    "N = len(t_values)\n",
    "l2 = np.arange(N)\n",
    "\n",
    "with matplot.rc_context({'axes.edgecolor': 'black', 'xtick.color':'white','ytick.color':'white'}):\n",
    "    matplot.subplots(figsize=(10,5))\n",
    "    matplot.plot(l2, t_values, marker= 'x',label='T values')\n",
    "    matplot.plot(np.arange(len(P)), P ,marker= 'x', label='P values')\n",
    "    matplot.plot(np.arange(len(Q)), Q, marker= 'x',label='Q values')\n",
    "    matplot.plot(np.arange(len(X)), X, marker= 'x',label='X values')\n",
    "\n",
    "    matplot.grid(True)\n",
    "    matplot.xlabel(\"%\", fontsize = 12, color = 'white')\n",
    "    matplot.colorbar\n",
    "    matplot.ylabel(\"%\", fontsize = 12, color = 'white')\n",
    "    matplot.legend()\n",
    "    matplot.title(\"P & Q & T Values\", fontsize = 12, color = 'white')\n",
    "    matplot.savefig('diagramm.png')\n",
    "    matplot.show()\n",
    "\n",
    "\n"
   ]
  }
 ],
 "metadata": {
  "kernelspec": {
   "display_name": "Python 3",
   "language": "python",
   "name": "python3"
  },
  "language_info": {
   "codemirror_mode": {
    "name": "ipython",
    "version": 3
   },
   "file_extension": ".py",
   "mimetype": "text/x-python",
   "name": "python",
   "nbconvert_exporter": "python",
   "pygments_lexer": "ipython3",
   "version": "3.9.5"
  }
 },
 "nbformat": 4,
 "nbformat_minor": 4
}
