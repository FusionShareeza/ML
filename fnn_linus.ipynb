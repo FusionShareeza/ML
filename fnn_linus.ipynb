{
 "cells": [
  {
   "cell_type": "markdown",
   "metadata": {},
   "source": [
    "# FNN Linus Etemi with Reduced MNIST Data and Max Criteria"
   ]
  },
  {
   "cell_type": "markdown",
   "metadata": {},
   "source": [
    "## Imports\n"
   ]
  },
  {
   "cell_type": "code",
   "execution_count": 22,
   "metadata": {},
   "outputs": [],
   "source": [
    "#Falls NVIDIA GPU vorhanden und CUDA installtion vorhanden: Typ GPU, sonst Typ CPU\n",
    "\n",
    "TYPE = 'GPU'\n",
    "\n",
    "if TYPE == 'CPU':\n",
    "    import numpy as np\n",
    "else:\n",
    "    import cupy as np\n",
    "    \n",
    "import scipy.special\n",
    "import math\n",
    "import matplotlib\n",
    "import matplotlib.pyplot as matplot\n",
    "import pickle\n",
    "\n",
    "from ray import tune\n",
    "from csv import writer\n"
   ]
  },
  {
   "cell_type": "markdown",
   "metadata": {},
   "source": [
    "## Config"
   ]
  },
  {
   "cell_type": "code",
   "execution_count": 23,
   "metadata": {
    "scrolled": true
   },
   "outputs": [],
   "source": [
    "#Optimale Parameter durch Gridsearch herausgefunden\n",
    "\n",
    "outputnodes = 10\n",
    "hiddennodes = 900\n",
    "learningrate = 0.05\n",
    "inputnodes = 784\n",
    "epochs= 23\n"
   ]
  },
  {
   "cell_type": "markdown",
   "metadata": {},
   "source": [
    "## Neuronales Netz "
   ]
  },
  {
   "cell_type": "code",
   "execution_count": 24,
   "metadata": {},
   "outputs": [],
   "source": [
    "# Standard FNN aus der Vorlesung\n",
    "\n",
    "class neuralNetwork:\n",
    "    def __init__(self, innodes, outnodes, hidnodes, learningrate, epochs):\n",
    "        self.inodes = innodes\n",
    "        self.onodes = outnodes\n",
    "        self.hnodes = hidnodes\n",
    "        self.lr = learningrate\n",
    "        self.epo = epochs\n",
    "        self.wih = ((np.random.rand(self.hnodes,self.inodes)*2)-1)\n",
    "        self.who = ((np.random.rand(self.onodes,self.hnodes)*2)-1)\n",
    "        pass\n",
    "    \n",
    "    def activation_function(self, z: int) -> classmethod:\n",
    "        return 1 / (1 + np.exp(-z))\n",
    "\n",
    "    def train(self, inputs_list, targets_list):\n",
    "        inputs = np.array(inputs_list, ndmin=2).T\n",
    "        targets = np.array(targets_list, ndmin=2).T\n",
    "\n",
    "        hidden_inputs = np.dot(self.wih, inputs)\n",
    "        hidden_outputs = self.activation_function(hidden_inputs)\n",
    "\n",
    "        final_inputs = np.dot(self.who, hidden_outputs)\n",
    "\n",
    "        final_outputs = self.activation_function(final_inputs)\n",
    "        \n",
    "        output_errors = targets - final_outputs\n",
    "        hidden_errors = np.dot(self.who.T, output_errors) \n",
    "        self.who += self.lr * np.dot( (output_errors*final_outputs*(1.0-final_outputs)), np.transpose(hidden_outputs)) \n",
    "        self.wih += self.lr * np.dot( (hidden_errors*hidden_outputs*(1.0-hidden_outputs)), np.transpose(inputs)) \n",
    "        pass\n",
    "\n",
    "    def query(self, input_list):\n",
    "        inputs = np.array(input_list, ndmin=2).T\n",
    "        \n",
    "        hidden_inputs = np.dot(self.wih, inputs)\n",
    "        hidden_outputs = self.activation_function(hidden_inputs)\n",
    "        final_inputs = np.dot(self.who, hidden_outputs)\n",
    "        final_outputs = self.activation_function(final_inputs)\n",
    "        \n",
    "        return final_outputs\n",
    "    \n",
    "\n",
    "    "
   ]
  },
  {
   "cell_type": "code",
   "execution_count": 25,
   "metadata": {},
   "outputs": [],
   "source": [
    "# Funktion die den Inhalt einer Datei löscht\n",
    "def clear_content(fname: str) -> None:\n",
    "    file = open(fname, \"w+\")\n",
    "    file.close"
   ]
  },
  {
   "cell_type": "markdown",
   "metadata": {},
   "source": [
    "## Train_Network"
   ]
  },
  {
   "cell_type": "code",
   "execution_count": 26,
   "metadata": {},
   "outputs": [],
   "source": [
    "# Funktion zum antrainieren des ersten Netzes\n",
    "def train_network(n, epo): \n",
    "        #öffnen der Train .csv Datei bitte Pfad anpassen\n",
    "        training_data_file = open(\"./MNISTData_red/mnist_train_red_8_9_by_90P.csv\", 'r')\n",
    "        training_data_list = training_data_file.readlines()\n",
    "        training_data_file.close()\n",
    "\n",
    "        for e in range(epo):\n",
    "            for record in training_data_list:\n",
    "                all_values = record.split(',')\n",
    "\n",
    "                inputs = (np.asarray(all_values[1:], dtype=np.float64) / 255.0 * 0.99) + 0.01\n",
    "                targets = np.zeros(outputnodes) + 0.01\n",
    "                targets[int(all_values[0])] = 0.99\n",
    "                n.train(inputs, targets)\n",
    "\n",
    "                pass\n",
    "            pass"
   ]
  },
  {
   "cell_type": "markdown",
   "metadata": {},
   "source": [
    "## Train_Network 2\n"
   ]
  },
  {
   "cell_type": "code",
   "execution_count": 27,
   "metadata": {},
   "outputs": [],
   "source": [
    "#Funktion zum antrainieren des zweiten Netzes\n",
    "def train_network2(n2, epo, counter):  \n",
    "        #öffnen der Train .csv Datei die in der testfunktion beschrieben wird, bitte Pfad anpassen\n",
    "        training_data_file = open('./MNISTData_2nd/mnist_second_train.csv', 'r')\n",
    "        training_data_list = training_data_file.readlines()\n",
    "        training_data_file.close()\n",
    "        for e in range(epo):\n",
    "            for record in training_data_list:\n",
    "                all_values = record.split(',')\n",
    "                inputs = (np.asarray(all_values[1:], dtype=np.float64) / 255.0 * 0.99) + 0.01\n",
    "                targets = np.zeros(outputnodes) + 0.01\n",
    "                targets[int(all_values[0])] = 0.99\n",
    "                n2.train(inputs, targets)\n",
    "                pass\n",
    "            pass\n",
    "        #Das antrainierte Netz wird unter dem Verzeichnis abgespeichert.\n",
    "        pickle.dump(n2, open('./MNISTNet_2nd/neural_network_'+str(counter)+'.obj', 'wb'))"
   ]
  },
  {
   "cell_type": "markdown",
   "metadata": {},
   "source": [
    "## Test_Network1 & Train_Network2"
   ]
  },
  {
   "cell_type": "code",
   "execution_count": 28,
   "metadata": {},
   "outputs": [],
   "source": [
    "#Test des ersten Netzwerks und gleichzeitiges antrainieren des Zweiten\n",
    "def test_network(n):\n",
    "\n",
    "    #reduzierter Testdatensatz wird geöffnet\n",
    "    test_data_file = open(\"./MNISTData_red/mnist_train_red_8_9_by_90P.csv\", 'r')\n",
    "    test_data_list = test_data_file.readlines()\n",
    "    test_data_file.close()\n",
    "    #scorecards\n",
    "    array_data_all = []\n",
    "    scorecard_N_plus = []    \n",
    "    scorecard_N_1R = []\n",
    "    n2 = neuralNetwork(784,10,hiddennodes,learningrate,epochs)   \n",
    "    counter = 0\n",
    "\n",
    "    #2dimensionales array\n",
    "    for i in range(100):\n",
    "        array_data_all.append([])\n",
    "        scorecard_N_plus.append([])\n",
    "        scorecard_N_1R.append([])\n",
    "\n",
    "    # für jeden treshold wird das erste netz getestet und die aussortierten daten in eine csv geschrieben \n",
    "    for threshold in range(100):\n",
    "        #Die datei wird nach jedem durchlauf gecleared \n",
    "        clear_content('./MNISTData_2nd/mnist_second_train.csv')\n",
    "        for record in test_data_list:\n",
    "            all_values = record.rstrip('\\n').split(',')\n",
    "            correct_label = int(all_values[0])\n",
    "            inputs = (np.asarray(all_values[1:], dtype=np.float64) / 255.0 * 0.99) + 0.01\n",
    "            outputs = n.query(inputs)\n",
    "            label_max = outputs[np.argmax(outputs)]\n",
    "            label = np.argmax(outputs)\n",
    "\n",
    "            #kriterium\n",
    "            if(label_max > (threshold/100)):\n",
    "                scorecard_N_plus[threshold].append(1)\n",
    "                #überprüfung ob wirklich korrekt\n",
    "                if(label == correct_label):\n",
    "                    scorecard_N_1R[threshold].append(1)\n",
    "                else:\n",
    "                    scorecard_N_1R[threshold].append(0)\n",
    "            else:\n",
    "                scorecard_N_plus[threshold].append(0)\n",
    "                #die aussortierten werden in die csv geschrieben\n",
    "                append_list_as_row('./MNISTData_2nd/mnist_second_train.csv', all_values)\n",
    "\n",
    "        #danach antrainieren des 2ten netzes nach jedem durchlauf\n",
    "        train_network2(n2, epochs, counter)\n",
    "        counter += 1\n"
   ]
  },
  {
   "cell_type": "markdown",
   "metadata": {},
   "source": [
    "## Gesamttest\n"
   ]
  },
  {
   "cell_type": "code",
   "execution_count": 29,
   "metadata": {},
   "outputs": [],
   "source": [
    "def test_network2():\n",
    "    #öffnen der testdatei\n",
    "    test_data_file = open(\"./MNISTData_red/mnist_test_red_8_9_by_90P.csv\", 'r')\n",
    "    test_data_list = test_data_file.readlines()\n",
    "    test_data_file.close()\n",
    "\n",
    "    #laden des abgespeicherten ersten netzes\n",
    "    n1 = pickle.load(open('./MNISTNet_1st/neural_network_1.obj', 'rb'))\n",
    "\n",
    "    #Listen zum speichern der werte\n",
    "    P = []\n",
    "    Q = []\n",
    "    X = []\n",
    "\n",
    "    #anzahl der reduzierten Testdaten zum berechnen von X\n",
    "    Ngesamt = 8215\n",
    "\n",
    "    #testen der Netze für jeden Treshold von 0 - 1 in 0.01 schritten\n",
    "    for threshold in range (0,100):\n",
    "        #iteriert durch alle antrainierten 2ten netze durch\n",
    "        n2 = pickle.load(open('./MNISTNet_2nd/neural_network_'+str(threshold)+'.obj', 'rb'))\n",
    "        N_plus = []\n",
    "        N_1R= []\n",
    "        N_2R = []\n",
    "\n",
    "        for record in test_data_list:\n",
    "            all_values = record.split(',')\n",
    "            correct_label = int(all_values[0])\n",
    "            inputs = (np.asarray(all_values[1:], dtype=np.float64) / 255.0 * 0.99) + 0.01\n",
    "\n",
    "            outputs_n1 = n1.query(inputs)\n",
    "            label_n1 = np.argmax(outputs_n1)\n",
    "            label_n1_max = outputs_n1[np.argmax(outputs_n1)]\n",
    "\n",
    "            #max kriterium 1tes netz\n",
    "            if(label_n1_max > (threshold/100)):\n",
    "                N_plus.append(1)\n",
    "                if(label_n1 == correct_label):\n",
    "                    N_1R.append(1)\n",
    "                    \n",
    "            else:\n",
    "                outputs_n2 = n2.query(inputs)\n",
    "                label_n2 = np.argmax(outputs_n2)\n",
    "\n",
    "                #überprüfung mit dem 2ten netz ob es richtig ist\n",
    "                if(label_n2 == correct_label):\n",
    "                    N_2R.append(1)\n",
    "\n",
    "\n",
    "        #Listen werden mit den ausgerechneten Werten befüllt, für alle Treshold werte von 0 - 100  \n",
    "        P.append(len(N_plus)/Ngesamt)\n",
    "        Q.append(len(N_1R)/len(N_plus))\n",
    "        X.append((len(N_1R)+len(N_2R))/Ngesamt)\n",
    "\n",
    "    return P, Q, X"
   ]
  },
  {
   "cell_type": "markdown",
   "metadata": {},
   "source": [
    "## CSV Writer und Grid Search"
   ]
  },
  {
   "cell_type": "code",
   "execution_count": 30,
   "metadata": {},
   "outputs": [],
   "source": [
    "# Funktion zum schreiben in eine csv datei, wurde fürs gridsearchen benutzt\n",
    "def append_list_as_row(fname,list_of_elem):\n",
    "    with open(fname, 'a+', newline='') as write_obj:\n",
    "        csv_writer = writer(write_obj)\n",
    "        csv_writer.writerow(list_of_elem)"
   ]
  },
  {
   "cell_type": "markdown",
   "metadata": {},
   "source": [
    "## Scoring und Aufruf von Beiden Netzen"
   ]
  },
  {
   "cell_type": "code",
   "execution_count": 31,
   "metadata": {},
   "outputs": [],
   "source": [
    "n1 = neuralNetwork(784,10,hiddennodes,learningrate,epochs)\n",
    "train_network(n1, epochs)\n",
    "\n",
    "#das antrainierte Netz wird abgespeichert\n",
    "pickle.dump(n1, open('./MNISTNet_1st/neural_network_1.obj', 'wb'))\n",
    "#hiermit kann das netz geladen werden, falls es schon antrainiert ist\n",
    "n1 = pickle.load(open('./MNISTNet_1st/neural_network_1.obj', 'rb'))\n",
    "test_network(n1)"
   ]
  },
  {
   "cell_type": "code",
   "execution_count": 34,
   "metadata": {},
   "outputs": [
    {
     "name": "stdout",
     "output_type": "stream",
     "text": [
      "[1.0, 1.0, 0.9998782714546561, 0.9996348143639684, 0.9995130858186244, 0.9993913572732805, 0.9987827145465612, 0.9980523432744979, 0.9974437005477784, 0.9970785149117468, 0.9967133292757152, 0.9963481436396835, 0.9961046865489958, 0.9956177723676202, 0.9944004869141814, 0.9933049300060864, 0.9931832014607426, 0.9925745587340231, 0.9917224589166159, 0.9907486305538649, 0.9889227023737066, 0.9881923311016433, 0.9879488740109555, 0.9869750456482045, 0.985514303104078, 0.9846622032866708, 0.9838101034692636, 0.9824710894704808, 0.9818624467437614, 0.9810103469263542, 0.9796713329275715, 0.9789409616555083, 0.9777236762020693, 0.9763846622032867, 0.9755325623858795, 0.9746804625684723, 0.9734631771150335, 0.9722458916615947, 0.9713937918441875, 0.9702982349360925, 0.9684723067559343, 0.967741935483871, 0.9670115642118077, 0.9659160073037127, 0.9648204503956178, 0.9636031649421789, 0.9623858794887401, 0.960438222763238, 0.9592209373097992, 0.9580036518563603, 0.9570298234936092, 0.9560559951308581, 0.9544735240413877, 0.9532562385879488, 0.9515520389531346, 0.9500912964090079, 0.9482653682288497, 0.9460742544126598, 0.9446135118685332, 0.9427875836883749, 0.9414485696895922, 0.9399878271454656, 0.9380401704199635, 0.9363359707851491, 0.9341448569689592, 0.9324406573341448, 0.9293974437005478, 0.9276932440657334, 0.9252586731588558, 0.9234327449786975, 0.9214850882531954, 0.9189287888009738, 0.9161290322580645, 0.9132075471698113, 0.9099208764455264, 0.9066342057212416, 0.9037127206329885, 0.9007912355447353, 0.8977480219111381, 0.8939744370054777, 0.8911746804625684, 0.8863055386488131, 0.8826536822884966, 0.8782714546561169, 0.8734023128423616, 0.8669506999391358, 0.8619598295800365, 0.8567255021302496, 0.8516129032258064, 0.8440657334144857, 0.8335970785149117, 0.8221545952525867, 0.808277541083384, 0.7929397443700548, 0.7790626902008521, 0.7600730371272063, 0.7345100426049909, 0.690566037735849, 0.6247108947048082, 0.48752282410225195] [0.9654290931223372, 0.9654290931223372, 0.9654248843438032, 0.9654164637116415, 0.9654122518572646, 0.9655298416565165, 0.9658744667885436, 0.9663373582144164, 0.966804979253112, 0.9670369918202906, 0.9671470444553004, 0.9673793524740378, 0.9674935842600513, 0.9677222154297591, 0.9685396009303464, 0.9691176470588235, 0.9691138619928913, 0.9692175619327937, 0.9693138578617896, 0.9697751566531515, 0.9709502708025604, 0.9714215323971421, 0.9714144898965007, 0.9716329551060681, 0.9725790513833992, 0.9729261960687353, 0.9731502103439743, 0.9738570189567588, 0.9742127448549467, 0.9744385159449063, 0.9750248508946322, 0.9753792588908232, 0.9759711155378487, 0.9763121805261189, 0.9767906164212627, 0.9771449981266392, 0.9778667000125046, 0.9783398021785401, 0.9784461152882206, 0.9785472337222432, 0.9796380090497737, 0.979874213836478, 0.9803625377643505, 0.9805923125393825, 0.9810749432248297, 0.9811773623041941, 0.9812800404755881, 0.9816223067173637, 0.9821065989847716, 0.9824650571791613, 0.9825744085474434, 0.9828113063407181, 0.9831654125749266, 0.9836547056570042, 0.9837533580657541, 0.9841127482383087, 0.9844672657252889, 0.984945959855893, 0.9853092783505155, 0.9855390574564235, 0.9857770881820532, 0.9861434861434861, 0.9867635608616663, 0.9869994799791991, 0.9874902267396404, 0.987597911227154, 0.9880812049770792, 0.9880593098018633, 0.9885541376134719, 0.988795148958608, 0.9892998678996037, 0.9892701020002649, 0.9895030560722827, 0.9897360703812317, 0.9901003344481606, 0.9906015037593985, 0.9911099137931034, 0.9918918918918919, 0.992135593220339, 0.9923747276688453, 0.9923507717524929, 0.9927207801126219, 0.9931043993931872, 0.9934857934857935, 0.9938675958188153, 0.9942431901151362, 0.9946335263380879, 0.9946007388462631, 0.9947112635791882, 0.9949524084222671, 0.9954731308411215, 0.9964465501924785, 0.9968373493975904, 0.9975437519189438, 0.9975, 0.9975976937860346, 0.9981769970169042, 0.9984135378106822, 0.9984411535463756, 0.9990012484394507] [0.9654290931223372, 0.9654290931223372, 0.9653073645769933, 0.9650639074863055, 0.9649421789409617, 0.9649421789409617, 0.9648204503956178, 0.9646987218502739, 0.9646987218502739, 0.9646987218502739, 0.9643335362142422, 0.9643335362142422, 0.9643335362142422, 0.9642118076688984, 0.9642118076688984, 0.9643335362142422, 0.9639683505782106, 0.9636031649421789, 0.963481436396835, 0.9631162507608034, 0.9636031649421789, 0.9637248934875228, 0.9640900791235545, 0.9642118076688984, 0.9642118076688984, 0.9636031649421789, 0.9626293365794278, 0.9629945222154596, 0.9628727936701157, 0.9622641509433962, 0.9628727936701157, 0.9620206938527085, 0.9629945222154596, 0.9623858794887401, 0.9646987218502739, 0.963481436396835, 0.9643335362142422, 0.9644552647595861, 0.963481436396835, 0.9636031649421789, 0.9639683505782106, 0.9637248934875228, 0.96457699330493, 0.9642118076688984, 0.9637248934875228, 0.9639683505782106, 0.9642118076688984, 0.9639683505782106, 0.9642118076688984, 0.9631162507608034, 0.9626293365794278, 0.9622641509433962, 0.962507608034084, 0.9633597078514912, 0.9626293365794278, 0.9628727936701157, 0.9629945222154596, 0.9638466220328668, 0.9637248934875228, 0.9638466220328668, 0.9637248934875228, 0.9642118076688984, 0.9654290931223372, 0.965672550213025, 0.9659160073037127, 0.9649421789409617, 0.965672550213025, 0.9646987218502739, 0.9629945222154596, 0.9644552647595861, 0.9668898356664638, 0.9633597078514912, 0.9636031649421789, 0.9633597078514912, 0.9637248934875228, 0.963481436396835, 0.9662811929397443, 0.9660377358490566, 0.9654290931223372, 0.9644552647595861, 0.9654290931223372, 0.9648204503956178, 0.965550821667681, 0.9662811929397443, 0.9653073645769933, 0.9657942787583689, 0.9670115642118077, 0.967741935483871, 0.9671332927571515, 0.9681071211199026, 0.9681071211199026, 0.9679853925745587, 0.9684723067559343, 0.9673767498478393, 0.9695678636640293, 0.9692026780279975, 0.9666463785757761, 0.9706634205721242, 0.9702982349360925, 0.9695678636640293]\n"
     ]
    }
   ],
   "source": [
    "intermediate_score_card = []\n",
    "# erstellen des zweiten netzes\n",
    "n2 = neuralNetwork(784,10,hiddennodes,learningrate,epochs)\n",
    "\n",
    "P, Q, X = test_network2()\n",
    "print(P, Q, X)    \n"
   ]
  },
  {
   "cell_type": "markdown",
   "metadata": {},
   "source": [
    "## Plotting"
   ]
  },
  {
   "cell_type": "code",
   "execution_count": 35,
   "metadata": {},
   "outputs": [
    {
     "data": {
      "image/png": "[encoded data removed]",
      "text/plain": [
       "<Figure size 720x360 with 1 Axes>"
      ]
     },
     "metadata": {
      "needs_background": "light"
     },
     "output_type": "display_data"
    }
   ],
   "source": [
    "#Erstellen der Grafik\n",
    "l = [0.1, 0.2, 0.3, 0.4, 0.5, 0.6, 0.7, 0.8, 0.9, 1]\n",
    "t_values = []\n",
    "\n",
    "import numpy as np\n",
    "\n",
    "N = len(t_values)\n",
    "l2 = np.arange(N)\n",
    "\n",
    "with matplot.rc_context({'axes.edgecolor': 'white', 'xtick.color':'black','ytick.color':'black'}):\n",
    "    matplot.subplots(figsize=(10,5))\n",
    "    matplot.plot(np.arange(len(P)), P ,marker= 'x', label='P values')\n",
    "    matplot.plot(np.arange(len(Q)), Q, marker= 'x',label='Q values')\n",
    "    matplot.plot(np.arange(len(X)), X, marker= 'x',label='X values')\n",
    "\n",
    "    matplot.grid(True)\n",
    "    matplot.xlabel(\"Threshold in %\", fontsize = 12, color = 'black')\n",
    "    matplot.colorbar\n",
    "    matplot.ylabel(\"Performance\", fontsize = 12, color = 'black')\n",
    "    matplot.legend()\n",
    "    matplot.title(\"P & Q & X Values\", fontsize = 12, color = 'black')\n",
    "    matplot.savefig('diagramm.png')\n",
    "    matplot.show()\n",
    "\n",
    "\n"
   ]
  }
 ],
 "metadata": {
  "kernelspec": {
   "display_name": "Python 3",
   "language": "python",
   "name": "python3"
  },
  "language_info": {
   "codemirror_mode": {
    "name": "ipython",
    "version": 3
   },
   "file_extension": ".py",
   "mimetype": "text/x-python",
   "name": "python",
   "nbconvert_exporter": "python",
   "pygments_lexer": "ipython3",
   "version": "3.9.5"
  }
 },
 "nbformat": 4,
 "nbformat_minor": 4
}
