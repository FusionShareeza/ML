{
 "cells": [
  {
   "cell_type": "markdown",
   "metadata": {},
   "source": [
    "# FNN Linus Etemi"
   ]
  },
  {
   "cell_type": "markdown",
   "metadata": {},
   "source": [
    "## Imports\n"
   ]
  },
  {
   "cell_type": "code",
   "execution_count": 410,
   "metadata": {},
   "outputs": [],
   "source": [
    "TYPE = 'GPU'\n",
    "\n",
    "if TYPE == 'CPU':\n",
    "    import numpy as np\n",
    "else:\n",
    "    import cupy as np\n",
    "    \n",
    "import scipy.special\n",
    "import math\n",
    "import matplotlib\n",
    "import matplotlib.pyplot as matplot\n",
    "import pickle\n",
    "\n",
    "from ray import tune\n",
    "from csv import writer\n"
   ]
  },
  {
   "cell_type": "markdown",
   "metadata": {},
   "source": [
    "## Config"
   ]
  },
  {
   "cell_type": "code",
   "execution_count": 411,
   "metadata": {
    "scrolled": true
   },
   "outputs": [],
   "source": [
    "#hiddennodes_start = 800\n",
    "#hiddennodes_stop = 800\n",
    "#hiddennodes_step = 100\n",
    "\n",
    "#learningrate_start = 0.08\n",
    "#learningrate_stop = 0.08\n",
    "#learningrate_step = 0.01\n",
    "\n",
    "#epochs_start = 1\n",
    "#epochs_stop = 2\n",
    "#epochs_step = 0\n",
    "\n",
    "outputnodes = 10\n",
    "hiddennodes = 900\n",
    "learningrate = 0.05\n",
    "inputnodes = 784\n",
    "epochs= 23\n"
   ]
  },
  {
   "cell_type": "markdown",
   "metadata": {},
   "source": [
    "## Neuronales Netz "
   ]
  },
  {
   "cell_type": "code",
   "execution_count": 412,
   "metadata": {},
   "outputs": [],
   "source": [
    "class neuralNetwork:\n",
    "    def __init__(self, innodes, outnodes, hidnodes, learningrate, epochs):\n",
    "        self.inodes = innodes\n",
    "        self.onodes = outnodes\n",
    "        self.hnodes = hidnodes\n",
    "        self.lr = learningrate\n",
    "        self.epo = epochs\n",
    "        self.wih = ((np.random.rand(self.hnodes,self.inodes)*2)-1)\n",
    "        self.who = ((np.random.rand(self.onodes,self.hnodes)*2)-1)\n",
    "        pass\n",
    "    \n",
    "    def activation_function(self, z: int) -> classmethod:\n",
    "        return 1 / (1 + np.exp(-z))\n",
    "\n",
    "    def train(self, inputs_list, targets_list):\n",
    "        inputs = np.array(inputs_list, ndmin=2).T\n",
    "        targets = np.array(targets_list, ndmin=2).T\n",
    "\n",
    "        hidden_inputs = np.dot(self.wih, inputs)\n",
    "        hidden_outputs = self.activation_function(hidden_inputs)\n",
    "\n",
    "        final_inputs = np.dot(self.who, hidden_outputs)\n",
    "\n",
    "        final_outputs = self.activation_function(final_inputs)\n",
    "        \n",
    "        output_errors = targets - final_outputs\n",
    "        hidden_errors = np.dot(self.who.T, output_errors) \n",
    "        self.who += self.lr * np.dot( (output_errors*final_outputs*(1.0-final_outputs)), np.transpose(hidden_outputs)) \n",
    "        self.wih += self.lr * np.dot( (hidden_errors*hidden_outputs*(1.0-hidden_outputs)), np.transpose(inputs)) \n",
    "        pass\n",
    "\n",
    "    def query(self, input_list):\n",
    "        inputs = np.array(input_list, ndmin=2).T\n",
    "        \n",
    "        hidden_inputs = np.dot(self.wih, inputs)\n",
    "        hidden_outputs = self.activation_function(hidden_inputs)\n",
    "        final_inputs = np.dot(self.who, hidden_outputs)\n",
    "        final_outputs = self.activation_function(final_inputs)\n",
    "        \n",
    "        return final_outputs\n",
    "    \n",
    "\n",
    "    "
   ]
  },
  {
   "cell_type": "code",
   "execution_count": 413,
   "metadata": {},
   "outputs": [],
   "source": [
    "def clear_content(fname: str) -> None:\n",
    "    file = open(fname, \"w+\")\n",
    "    file.close"
   ]
  },
  {
   "cell_type": "markdown",
   "metadata": {},
   "source": [
    "## Train_Network"
   ]
  },
  {
   "cell_type": "code",
   "execution_count": 414,
   "metadata": {},
   "outputs": [],
   "source": [
    "def train_network(n, epo): \n",
    "        #clear_content('mnist_second_train.csv')\n",
    "        training_data_file = open(\"./MNISTData_red/mnist_train_red_8_9_by_90P.csv\", 'r')\n",
    "        training_data_list = training_data_file.readlines()\n",
    "        training_data_file.close()\n",
    "\n",
    "        for e in range(epo):\n",
    "            for record in training_data_list:\n",
    "                all_values = record.split(',')\n",
    "\n",
    "                inputs = (np.asarray(all_values[1:], dtype=np.float64) / 255.0 * 0.99) + 0.01\n",
    "                targets = np.zeros(outputnodes) + 0.01\n",
    "                targets[int(all_values[0])] = 0.99\n",
    "                n.train(inputs, targets)\n",
    "\n",
    "                pass\n",
    "            pass"
   ]
  },
  {
   "cell_type": "markdown",
   "metadata": {},
   "source": [
    "## Train_Network 2\n"
   ]
  },
  {
   "cell_type": "code",
   "execution_count": 415,
   "metadata": {},
   "outputs": [],
   "source": [
    "# def train_network2(n, epo):  \n",
    "#     for i in range (1, 100):\n",
    "#         training_data_file = open('./MNISTData_2nd/mnist_second_train'+str(i)+'.csv', 'r')\n",
    "#         training_data_list = training_data_file.readlines()\n",
    "#         training_data_file.close()\n",
    "#         for e in range(epo):\n",
    "#             for record in training_data_list:\n",
    "#                 all_values = record.split(',')\n",
    "#                 inputs = (np.asarray(all_values[1:], dtype=np.float64) / 255.0 * 0.99) + 0.01\n",
    "#                 targets = np.zeros(outputnodes) + 0.01\n",
    "#                 targets[int(all_values[0])] = 0.99\n",
    "#                 n.train(inputs, targets)\n",
    "\n",
    "#                 pass\n",
    "#             pass\n",
    "#         pickle.dump(n, open('./MNISTNet_2nd/neural_network_'+str(i)+'.obj', 'wb'))\n",
    "\n"
   ]
  },
  {
   "cell_type": "code",
   "execution_count": 416,
   "metadata": {},
   "outputs": [],
   "source": [
    "def train_network2(n2, epo, counter):  \n",
    "        training_data_file = open('./MNISTData_2nd/mnist_second_train.csv', 'r')\n",
    "        training_data_list = training_data_file.readlines()\n",
    "        training_data_file.close()\n",
    "        for e in range(epo):\n",
    "            for record in training_data_list:\n",
    "                all_values = record.split(',')\n",
    "                inputs = (np.asarray(all_values[1:], dtype=np.float64) / 255.0 * 0.99) + 0.01\n",
    "                targets = np.zeros(outputnodes) + 0.01\n",
    "                targets[int(all_values[0])] = 0.99\n",
    "                n2.train(inputs, targets)\n",
    "                pass\n",
    "            pass\n",
    "        pickle.dump(n2, open('./MNISTNet_2nd/neural_network_'+str(counter)+'.obj', 'wb'))"
   ]
  },
  {
   "cell_type": "markdown",
   "metadata": {},
   "source": [
    "## Test_Network1 & Train_Network2"
   ]
  },
  {
   "cell_type": "code",
   "execution_count": 417,
   "metadata": {},
   "outputs": [],
   "source": [
    "def test_network(n):\n",
    "\n",
    "    test_data_file = open(\"./MNISTData_red/mnist_train_red_8_9_by_90P.csv\", 'r')\n",
    "    test_data_list = test_data_file.readlines()\n",
    "    test_data_file.close()\n",
    "    array_data_all = []\n",
    "    scorecard_N_plus = []    \n",
    "    scorecard_N_1R = []\n",
    "    n2 = neuralNetwork(784,10,hiddennodes,learningrate,epochs)   \n",
    "    counter = 0\n",
    "\n",
    "    for i in range(100):\n",
    "        array_data_all.append([])\n",
    "        scorecard_N_plus.append([])\n",
    "        scorecard_N_1R.append([])\n",
    "\n",
    "    for threshold in range(100):\n",
    "        clear_content('./MNISTData_2nd/mnist_second_train.csv')\n",
    "        for record in test_data_list:\n",
    "            all_values = record.rstrip('\\n').split(',')\n",
    "            correct_label = int(all_values[0])\n",
    "            inputs = (np.asarray(all_values[1:], dtype=np.float64) / 255.0 * 0.99) + 0.01\n",
    "            outputs = n.query(inputs)\n",
    "            label_max = outputs[np.argmax(outputs)]\n",
    "            label = np.argmax(outputs)\n",
    "            if(label_max > (threshold/100)):\n",
    "                scorecard_N_plus[threshold].append(1)\n",
    "                if(label == correct_label):\n",
    "                    scorecard_N_1R[threshold].append(1)\n",
    "                else:\n",
    "                    scorecard_N_1R[threshold].append(0)\n",
    "            else:\n",
    "                scorecard_N_plus[threshold].append(0)\n",
    "                append_list_as_row('./MNISTData_2nd/mnist_second_train.csv', all_values)\n",
    "            \n",
    "        train_network2(n2, epochs, counter)\n",
    "        counter += 1\n",
    "\n",
    "    \n",
    "    #append_list_as_row('./MNISTData_2nd/mnist_second_train'+str(threshold)+'.csv', all_values)\n",
    "    # for i in range(100):\n",
    "    #     scorecard_N_plus_array = np.asarray(scorecard_N_plus[i])\n",
    "    #     scorecard_N_1R_array = np.asarray(scorecard_N_1R[i])\n",
    "\n",
    "    #     array_data_all[i].append(i/100)\n",
    "    #     array_data_all[i].append('N_+: {}'.format(scorecard_N_plus_array.sum()))\n",
    "    #     array_data_all[i].append('N_+_size: {}'.format(scorecard_N_plus_array.size))\n",
    "    #     array_data_all[i].append('N_1R: {:.5f}'.format(scorecard_N_1R_array.sum()))\n",
    "\n",
    "\n",
    "    # return array_data_all"
   ]
  },
  {
   "cell_type": "markdown",
   "metadata": {},
   "source": [
    "## Gesamttest\n"
   ]
  },
  {
   "cell_type": "code",
   "execution_count": 418,
   "metadata": {},
   "outputs": [],
   "source": [
    "def test_network2(n1, n2):\n",
    "    test_data_file = open(\"./mnist_test_red_8_9_by_90P.csv\", 'r')\n",
    "    test_data_list = test_data_file.readlines()\n",
    "    test_data_file.close()\n",
    "\n",
    "    N_plus = []\n",
    "    N_minus = []\n",
    "    N_1R= []\n",
    "    N_2R = []\n",
    "    N_1F = []\n",
    "\n",
    "    for threshold in range(100):\n",
    "        for record in test_data_list:\n",
    "            all_values = record.split(',')\n",
    "            correct_label = int(all_values[0])\n",
    "            inputs = (np.asarray(all_values[1:], dtype=np.float64) / 255.0 * 0.99) + 0.01\n",
    "            outputs_n1 = n1.query(inputs)\n",
    "            label_n1 = np.argmax(outputs_n1)\n",
    "            label_n1_max = outputs_n1(np.argmax(outputs_n1))\n",
    "            outputs_n2 = n2.query(inputs)\n",
    "            label_n2 = np.argmax(outputs_n2)\n",
    "\n",
    "            if(label_n1_max > (threshold/100)):\n",
    "                N_plus[threshold].append(1)\n",
    "                if(label_n1 == correct_label):\n",
    "                    N_1R[threshold].append(1)\n",
    "                else:\n",
    "                    N_1F[threshold].append(0)\n",
    "                    if(label_n2 == correct_label):\n",
    "                        N_2R[threshold].append(1)\n",
    "            else:\n",
    "                N_minus[threshold].append(0)\n",
    "\n",
    "\n",
    "        P = N_plus/(N_plus+N_minus)\n",
    "        Q = N_1R/N_plus\n",
    "        X = (N_1R+N_2R)/(N_plus+N_minus)\n",
    "\n",
    "    N_2R_array = np.asarray(N_2R)\n",
    "    performance2 = N_2R_array.sum() / N_2R_array.size\n",
    "\n",
    "    return performance2"
   ]
  },
  {
   "cell_type": "markdown",
   "metadata": {},
   "source": [
    "## CSV Writer und Grid Search"
   ]
  },
  {
   "cell_type": "code",
   "execution_count": 419,
   "metadata": {},
   "outputs": [],
   "source": [
    "def append_list_as_row(fname,list_of_elem):\n",
    "    with open(fname, 'a+', newline='') as write_obj:\n",
    "        csv_writer = writer(write_obj)\n",
    "        csv_writer.writerow(list_of_elem)"
   ]
  },
  {
   "cell_type": "code",
   "execution_count": 420,
   "metadata": {},
   "outputs": [],
   "source": [
    "#learningrate_i = learningrate_start\n",
    "#hiddennodes_i = hiddennodes_start\n",
    "#epochs_i = epochs_start\n",
    "\n",
    "\n",
    "#while epochs_i <= epochs_stop:\n",
    "#    while hiddennodes_i <= hiddennodes_stop:\n",
    "#        while learningrate_i <= learningrate_stop:\n",
    "#            intermediate_score = neuralNetwork(784,10,hiddennodes_i,learningrate_i,epochs_i).test_train()\n",
    "#            print('Epoch [{:02d}/{:02d}]     | Hidden_Nodes [{:04d}/{:04d}]     | Learning_Rate [{:.2f}/{:.2f}]     | Performance: {:.5f}'.format(epochs_i,epochs_stop,hiddennodes_i,hiddennodes_stop,learningrate_i,learningrate_stop,intermediate_score))\n",
    "#            append_list_as_row([784,10,hiddennodes_i,learningrate_i,epochs_i,intermediate_score])\n",
    "#            learningrate_i += learningrate_step \n",
    "#        learningrate_i = learningrate_start    \n",
    "#        hiddennodes_i += hiddennodes_step\n",
    "#        print(\"========================================================\")\n",
    "#    hiddennodes_i = hiddennodes_start\n",
    "#    epochs_i += epochs_step\n",
    "#    print(\"========================================================\")"
   ]
  },
  {
   "cell_type": "markdown",
   "metadata": {},
   "source": [
    "## Scoring und Aufruf von Beiden Netzen"
   ]
  },
  {
   "cell_type": "code",
   "execution_count": null,
   "metadata": {},
   "outputs": [],
   "source": [
    "#epochs = 23\n",
    "#n1 = neuralNetwork(784,10,hiddennodes,learningrate,epochs)\n",
    "#train_network(n1, epochs)\n",
    "#pickle.dump(n1, open('./MNISTNet_1st/neural_network_1.obj', 'wb'))\n",
    "# n1 = pickle.load(open('./MNISTNet_1st/neural_network_1.obj', 'rb'))\n",
    "# test_network(n1)"
   ]
  },
  {
   "cell_type": "code",
   "execution_count": 421,
   "metadata": {},
   "outputs": [],
   "source": [
    "#epochs = 7\n",
    "intermediate_score_card = []\n",
    "#n2 = neuralNetwork(784,10,hiddennodes,learningrate,epochs)\n",
    "#train_network2(n2, epochs)\n",
    "n1 = pickle.load(open('./MNISTNet_1st/neural_network_1.obj', 'rb'))\n",
    "\n",
    "for i in range (0,99):\n",
    "    n2 = pickle.load(open('./MNISTNet_2nd/neural_network_'+str(i)+'.obj', 'rb'))\n",
    "    intermediate_score2 = test_network2(n1, n2)\n",
    "    intermediate_score_card.append(intermediate_score2)\n",
    "    \n"
   ]
  },
  {
   "cell_type": "markdown",
   "metadata": {},
   "source": [
    "## Plotting"
   ]
  },
  {
   "cell_type": "code",
   "execution_count": 422,
   "metadata": {},
   "outputs": [
    {
     "data": {
      "image/png": "[encoded data removed]",
      "text/plain": [
       "<Figure size 720x360 with 1 Axes>"
      ]
     },
     "metadata": {
      "needs_background": "dark"
     },
     "output_type": "display_data"
    }
   ],
   "source": [
    "l = [0.1, 0.2, 0.3, 0.4, 0.5, 0.6, 0.7, 0.8, 0.9, 1]\n",
    "t_values = []\n",
    "p_values = []\n",
    "q_values = []\n",
    "x_values = []\n",
    "import numpy as np\n",
    "\n",
    "for i in range(100):\n",
    "    speicher = intermediate_score1[i]\n",
    "    t_values.append(speicher[0])\n",
    "    p_values.append(speicher[1])\n",
    "    q_values.append(speicher[2])\n",
    "\n",
    "p_int_values = [s.replace(\"N_+:\",\"\")for s in p_values]\n",
    "p_int_values = list(map(float, p_int_values))\n",
    "q_int_values = [t.replace(\"N_1R:\",\"\")for t in q_values]\n",
    "q_int_values = list(map(float, q_int_values))\n",
    "N = len(t_values)\n",
    "l2 = np.arange(N)\n",
    "\n",
    "with matplot.rc_context({'axes.edgecolor': 'black', 'xtick.color':'white','ytick.color':'white'}):\n",
    "    matplot.subplots(figsize=(10,5))\n",
    "    matplot.plot(l2, t_values, marker= 'x',label='T values')\n",
    "    matplot.plot(l2, p_int_values,marker= 'x', label='P values')\n",
    "    matplot.plot(l2, q_int_values, marker= 'x',label='Q values')\n",
    "\n",
    "    matplot.grid(True)\n",
    "    matplot.xlabel(\"%\", fontsize = 12, color = 'white')\n",
    "    matplot.colorbar\n",
    "    matplot.ylabel(\"%\", fontsize = 12, color = 'white')\n",
    "    matplot.legend()\n",
    "    matplot.title(\"P & Q & T Values\", fontsize = 12, color = 'white')\n",
    "    matplot.show()\n",
    "\n",
    "\n"
   ]
  }
 ],
 "metadata": {
  "kernelspec": {
   "display_name": "Python 3",
   "language": "python",
   "name": "python3"
  },
  "language_info": {
   "codemirror_mode": {
    "name": "ipython",
    "version": 3
   },
   "file_extension": ".py",
   "mimetype": "text/x-python",
   "name": "python",
   "nbconvert_exporter": "python",
   "pygments_lexer": "ipython3",
   "version": "3.9.5"
  }
 },
 "nbformat": 4,
 "nbformat_minor": 4
}
